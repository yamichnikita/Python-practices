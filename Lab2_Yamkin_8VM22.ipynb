{
  "cells": [
    {
      "cell_type": "markdown",
      "metadata": {
        "id": "mDNjSpK5gBFJ"
      },
      "source": [
        "# Practical work 1"
      ]
    },
    {
      "cell_type": "markdown",
      "metadata": {
        "id": "W5Bbum6-gBFM"
      },
      "source": [
        "."
      ]
    },
    {
      "cell_type": "markdown",
      "metadata": {
        "id": "dWArXdDqgBFM"
      },
      "source": [
        "## Cycles and conditions"
      ]
    },
    {
      "cell_type": "markdown",
      "metadata": {
        "id": "3FVwMQTIgBFN"
      },
      "source": [
        "."
      ]
    },
    {
      "cell_type": "markdown",
      "metadata": {
        "id": "7oaRHj1IgBFN"
      },
      "source": [
        "##  If ... Else<br><br>\n"
      ]
    },
    {
      "cell_type": "markdown",
      "metadata": {
        "id": "A5LA3892gBFN"
      },
      "source": [
        "Python Conditions and If statements\n",
        "\n",
        "**Python supports the usual logical conditions from mathematics:**\n",
        "\n",
        "*Equals:*   a == b\n",
        "\n",
        "*Not Equals:*   a != b\n",
        "\n",
        "*Less than:* a < b\n",
        "\n",
        "*Less than or equal to:* a <= b\n",
        "\n",
        "*Greater than:* a > b\n",
        "\n",
        "*Greater than or equal to:* a >= b\n",
        "\n",
        "These conditions can be used in several ways, most commonly in \"if statements\" and loops.\n",
        "\n",
        "An \"if statement\" is written by using the if keyword."
      ]
    },
    {
      "cell_type": "markdown",
      "metadata": {
        "id": "M09EndS3gBFO"
      },
      "source": [
        "."
      ]
    },
    {
      "cell_type": "code",
      "execution_count": null,
      "metadata": {
        "id": "gYzEDF3SgBFO",
        "outputId": "8e326e68-a4b5-4705-8551-cf42008fd390"
      },
      "outputs": [
        {
          "name": "stdout",
          "output_type": "stream",
          "text": [
            "b is greater than a\n"
          ]
        }
      ],
      "source": [
        "a = 33\n",
        "b = 200\n",
        "if b > a:\n",
        "    print(\"b is greater than a\")"
      ]
    },
    {
      "cell_type": "markdown",
      "metadata": {
        "id": "rtm2SD6QgBFP"
      },
      "source": [
        "`Indentation`\n",
        "\n",
        "Python relies on indentation (whitespace at the beginning of a line) to define scope in the code. Other programming languages often use curly-brackets for this purpose."
      ]
    },
    {
      "cell_type": "code",
      "execution_count": null,
      "metadata": {
        "id": "Yxi42j7HgBFQ",
        "outputId": "1fe8feb2-f154-421a-bcf5-af07e5b387bf"
      },
      "outputs": [
        {
          "ename": "IndentationError",
          "evalue": "expected an indented block (<ipython-input-2-4276c1871af7>, line 4)",
          "output_type": "error",
          "traceback": [
            "\u001b[1;36m  File \u001b[1;32m\"<ipython-input-2-4276c1871af7>\"\u001b[1;36m, line \u001b[1;32m4\u001b[0m\n\u001b[1;33m    print(\"b is greater than a\") # you will get an error\u001b[0m\n\u001b[1;37m    ^\u001b[0m\n\u001b[1;31mIndentationError\u001b[0m\u001b[1;31m:\u001b[0m expected an indented block\n"
          ]
        }
      ],
      "source": [
        "a = 33\n",
        "b = 200\n",
        "if b > a:\n",
        "print(\"b is greater than a\") # you will get an error"
      ]
    },
    {
      "cell_type": "markdown",
      "metadata": {
        "id": "RTnnBLgWgBFQ"
      },
      "source": [
        "### Elif<br><br>"
      ]
    },
    {
      "cell_type": "markdown",
      "metadata": {
        "id": "86Y502AwgBFR"
      },
      "source": [
        "The `elif` keyword is pythons way of saying \"if the previous conditions were not true, then try this condition\"."
      ]
    },
    {
      "cell_type": "code",
      "execution_count": null,
      "metadata": {
        "id": "4Zsrc9UwgBFR",
        "outputId": "b7d30286-8d36-4b42-caa0-c746b533e345"
      },
      "outputs": [
        {
          "name": "stdout",
          "output_type": "stream",
          "text": [
            "a and b are equal\n"
          ]
        }
      ],
      "source": [
        "a = 33\n",
        "b = 33\n",
        "if b > a:\n",
        "    print(\"b is greater than a\")\n",
        "elif a == b:\n",
        "    print(\"a and b are equal\")"
      ]
    },
    {
      "cell_type": "markdown",
      "metadata": {
        "id": "0jlx-A34gBFR"
      },
      "source": [
        "In this example a is equal to b, so the first condition is not true, but the elif condition is true, so we print to screen that \"a and b are equal\"."
      ]
    },
    {
      "cell_type": "markdown",
      "metadata": {
        "id": "fpLvE1ftgBFR"
      },
      "source": [
        "### Else<br><br>"
      ]
    },
    {
      "cell_type": "markdown",
      "metadata": {
        "id": "4TCKr0GPgBFR"
      },
      "source": [
        "The `else` keyword catches anything which isn't caught by the preceding conditions"
      ]
    },
    {
      "cell_type": "markdown",
      "metadata": {
        "id": "Qlxjg2z1gBFS"
      },
      "source": [
        "`Example`"
      ]
    },
    {
      "cell_type": "code",
      "execution_count": null,
      "metadata": {
        "id": "UuNmXYpCgBFS",
        "outputId": "a788a04d-32a7-4d28-bb43-ba370010d082"
      },
      "outputs": [
        {
          "name": "stdout",
          "output_type": "stream",
          "text": [
            "a is greater than b\n"
          ]
        }
      ],
      "source": [
        "a = 200\n",
        "b = 33\n",
        "if b > a:\n",
        "    print(\"b is greater than a\")\n",
        "elif a == b:\n",
        "    print(\"a and b are equal\")\n",
        "else:\n",
        "    print(\"a is greater than b\")"
      ]
    },
    {
      "cell_type": "markdown",
      "metadata": {
        "id": "HTCnvtDOgBFS"
      },
      "source": [
        "In this example a is greater than b, so the first condition is not true, also the elif condition is not true, so we go to the else condition and print to screen that \"a is greater than b\"."
      ]
    },
    {
      "cell_type": "markdown",
      "metadata": {
        "id": "GpumiWxYgBFS"
      },
      "source": [
        "**Short Hand If**"
      ]
    },
    {
      "cell_type": "markdown",
      "metadata": {
        "id": "ARiaUk-GgBFS"
      },
      "source": [
        "If you have only one statement to execute, you can put it on the same line as the if statement."
      ]
    },
    {
      "cell_type": "code",
      "execution_count": null,
      "metadata": {
        "id": "v6QP6C2GgBFT",
        "outputId": "caea6d98-116e-4cd8-8624-a8c3cdce931e"
      },
      "outputs": [
        {
          "name": "stdout",
          "output_type": "stream",
          "text": [
            "a is greater than b\n"
          ]
        }
      ],
      "source": [
        "if a > b: print(\"a is greater than b\")"
      ]
    },
    {
      "cell_type": "markdown",
      "metadata": {
        "id": "AEqBunVRgBFT"
      },
      "source": [
        "**Short Hand If ... Else**"
      ]
    },
    {
      "cell_type": "markdown",
      "metadata": {
        "id": "ghytOX7KgBFT"
      },
      "source": [
        "If you have only one statement to execute, one for if, and one for else, you can put it all on the same line:"
      ]
    },
    {
      "cell_type": "code",
      "execution_count": null,
      "metadata": {
        "id": "bEEHfRh4gBFT",
        "outputId": "60350925-aa4f-43cc-c4aa-8a323b7171e0"
      },
      "outputs": [
        {
          "name": "stdout",
          "output_type": "stream",
          "text": [
            "B\n"
          ]
        }
      ],
      "source": [
        "a = 2\n",
        "b = 330\n",
        "print(\"A\") if a > b else print(\"B\")"
      ]
    },
    {
      "cell_type": "markdown",
      "metadata": {
        "id": "CZx3aB97gBFT"
      },
      "source": [
        "**And**"
      ]
    },
    {
      "cell_type": "markdown",
      "metadata": {
        "id": "OhapuOpSgBFT"
      },
      "source": [
        "The and keyword is a logical operator, and is used to combine conditional statements:"
      ]
    },
    {
      "cell_type": "code",
      "execution_count": null,
      "metadata": {
        "id": "kBNXpIKEgBFU",
        "outputId": "459c8b1d-f155-42c4-fb23-df2598addbcf"
      },
      "outputs": [
        {
          "name": "stdout",
          "output_type": "stream",
          "text": [
            "Both conditions are True\n"
          ]
        }
      ],
      "source": [
        "a = 200\n",
        "b = 33\n",
        "c = 500\n",
        "if a > b and c > a:\n",
        "    print(\"Both conditions are True\")"
      ]
    },
    {
      "cell_type": "markdown",
      "metadata": {
        "id": "p8ZPx8HUgBFU"
      },
      "source": [
        "**Or**"
      ]
    },
    {
      "cell_type": "markdown",
      "metadata": {
        "id": "EEVzKJCGgBFU"
      },
      "source": [
        "The or keyword is a logical operator, and is used to combine conditional statements:"
      ]
    },
    {
      "cell_type": "code",
      "execution_count": null,
      "metadata": {
        "id": "9JSTDLuUgBFU",
        "outputId": "5bfc94c2-edb5-494b-990e-d7623b5aa26b"
      },
      "outputs": [
        {
          "name": "stdout",
          "output_type": "stream",
          "text": [
            "At least one of the conditions is True\n"
          ]
        }
      ],
      "source": [
        "a = 200\n",
        "b = 33\n",
        "c = 500\n",
        "if a > b or a > c:\n",
        "    print(\"At least one of the conditions is True\")\n"
      ]
    },
    {
      "cell_type": "markdown",
      "metadata": {
        "id": "DClXF-tOgBFU"
      },
      "source": [
        "**Nested If**"
      ]
    },
    {
      "cell_type": "code",
      "execution_count": null,
      "metadata": {
        "id": "1NVMPF1fgBFU",
        "outputId": "76d28e65-7e34-4e47-82f1-33aa3a68376f"
      },
      "outputs": [
        {
          "name": "stdout",
          "output_type": "stream",
          "text": [
            "Above ten,\n",
            "and also above 20!\n"
          ]
        }
      ],
      "source": [
        "x = 41\n",
        "\n",
        "if x > 10:\n",
        "    print(\"Above ten,\")\n",
        "    if x > 20:\n",
        "        print(\"and also above 20!\")\n",
        "    else:\n",
        "        print(\"but not above 20.\")"
      ]
    },
    {
      "cell_type": "markdown",
      "metadata": {
        "id": "_uiZB-xEgBFV"
      },
      "source": [
        "**The pass Statement**"
      ]
    },
    {
      "cell_type": "markdown",
      "metadata": {
        "id": "kSUhizz4gBFV"
      },
      "source": [
        "if statements cannot be empty, but if you for some reason have an if statement with no content, put in the pass statement to avoid getting an error."
      ]
    },
    {
      "cell_type": "code",
      "execution_count": null,
      "metadata": {
        "id": "Qr4QE1jZgBFV"
      },
      "outputs": [],
      "source": [
        "a = 33\n",
        "b = 200\n",
        "\n",
        "if b > a:\n",
        "    pass"
      ]
    },
    {
      "cell_type": "markdown",
      "metadata": {
        "id": "1-1TSqXjgBFV"
      },
      "source": [
        "## The while Loop <br><br>"
      ]
    },
    {
      "cell_type": "markdown",
      "metadata": {
        "id": "Cn-twJn3gBFV"
      },
      "source": [
        "With the `while` loop we can execute a set of statements as long as a condition is true."
      ]
    },
    {
      "cell_type": "code",
      "execution_count": null,
      "metadata": {
        "id": "9bcPAgkZgBFV",
        "outputId": "a1366e5c-c4a8-45fc-d084-dccec38923eb"
      },
      "outputs": [
        {
          "name": "stdout",
          "output_type": "stream",
          "text": [
            "1\n",
            "2\n",
            "3\n",
            "4\n",
            "5\n"
          ]
        }
      ],
      "source": [
        "i = 1\n",
        "while i < 6:\n",
        "    print(i)\n",
        "    i += 1"
      ]
    },
    {
      "cell_type": "markdown",
      "metadata": {
        "id": "wEUnzolbgBFW"
      },
      "source": [
        "Note: remember to increment i, or else the loop will continue forever."
      ]
    },
    {
      "cell_type": "markdown",
      "metadata": {
        "id": "u1z3hymhgBFW"
      },
      "source": [
        "The `while` loop requires relevant variables to be ready, in this example we need to define an indexing variable, i, which we set to 1."
      ]
    },
    {
      "cell_type": "markdown",
      "metadata": {
        "id": "p87igxH9gBFW"
      },
      "source": [
        "**The break Statement**"
      ]
    },
    {
      "cell_type": "markdown",
      "metadata": {
        "id": "dhu6iNtHgBFW"
      },
      "source": [
        "With the `break` statement we can stop the loop even if the while condition is true:"
      ]
    },
    {
      "cell_type": "code",
      "execution_count": null,
      "metadata": {
        "id": "cBXJA9MugBFW",
        "outputId": "2e91a4e3-be4a-44b6-ba02-d0895ad5b1a9"
      },
      "outputs": [
        {
          "name": "stdout",
          "output_type": "stream",
          "text": [
            "1\n",
            "2\n",
            "3\n"
          ]
        }
      ],
      "source": [
        "i = 1\n",
        "while i < 6:\n",
        "    print(i)\n",
        "    if i == 3:\n",
        "        break\n",
        "    i += 1"
      ]
    },
    {
      "cell_type": "markdown",
      "metadata": {
        "id": "EGWuh1C9gBFW"
      },
      "source": [
        "**The continue Statement**"
      ]
    },
    {
      "cell_type": "markdown",
      "metadata": {
        "id": "t6jZOzI4gBFW"
      },
      "source": [
        "With the `continue` statement we can stop the current iteration, and continue with the next:"
      ]
    },
    {
      "cell_type": "code",
      "execution_count": null,
      "metadata": {
        "id": "E4db3jd-gBFW",
        "outputId": "b858f703-2695-4f45-d62c-ef0b2a73898c"
      },
      "outputs": [
        {
          "name": "stdout",
          "output_type": "stream",
          "text": [
            "1\n",
            "2\n",
            "4\n",
            "5\n",
            "6\n"
          ]
        }
      ],
      "source": [
        "i = 0\n",
        "while i < 6:\n",
        "    i += 1\n",
        "    if i == 3:\n",
        "        continue\n",
        "    print(i)"
      ]
    },
    {
      "cell_type": "markdown",
      "metadata": {
        "id": "JwFJci-ogBFX"
      },
      "source": [
        "**The else Statement**"
      ]
    },
    {
      "cell_type": "markdown",
      "metadata": {
        "id": "3TaeiotZgBFX"
      },
      "source": [
        "With the `else` statement we can run a block of code once when the condition no longer is true:"
      ]
    },
    {
      "cell_type": "code",
      "execution_count": null,
      "metadata": {
        "id": "oRC6qAIugBFX",
        "outputId": "28029541-0fd8-46d1-99c0-024041c328cf"
      },
      "outputs": [
        {
          "name": "stdout",
          "output_type": "stream",
          "text": [
            "1\n",
            "2\n",
            "3\n",
            "4\n",
            "5\n",
            "i is no longer less than 6\n"
          ]
        }
      ],
      "source": [
        "i = 1\n",
        "while i < 6:\n",
        "    print(i)\n",
        "    i += 1\n",
        "else:\n",
        "    print(\"i is no longer less than 6\")"
      ]
    },
    {
      "cell_type": "markdown",
      "metadata": {
        "id": "IcyFA2A4gBFX"
      },
      "source": [
        "## For Loops <br><br>"
      ]
    },
    {
      "cell_type": "markdown",
      "metadata": {
        "id": "bW1zynLKgBFX"
      },
      "source": [
        "A `for` loop is used for iterating over a sequence (that is either a list, a tuple, a dictionary, a set, or a string).\n",
        "\n",
        "This is less like the `for` keyword in other programming languages, and works more like an iterator method as found in other object-orientated programming languages.\n",
        "\n",
        "With the `for` loop we can execute a set of statements, once for each item in a list, tuple, set etc."
      ]
    },
    {
      "cell_type": "code",
      "execution_count": null,
      "metadata": {
        "id": "P5yjPu87gBFX",
        "outputId": "b5d5f109-3d77-4853-b856-01db44575dee"
      },
      "outputs": [
        {
          "name": "stdout",
          "output_type": "stream",
          "text": [
            "apple\n",
            "banana\n",
            "cherry\n"
          ]
        }
      ],
      "source": [
        "fruits = [\"apple\", \"banana\", \"cherry\"]\n",
        "for x in fruits:\n",
        "    print(x)"
      ]
    },
    {
      "cell_type": "markdown",
      "metadata": {
        "id": "NWYP-7ZKgBFX"
      },
      "source": [
        "**Looping Through a String**"
      ]
    },
    {
      "cell_type": "code",
      "execution_count": null,
      "metadata": {
        "id": "OhcqFJOLgBFX",
        "outputId": "f74dd64f-f6db-40c4-c6a4-122e5cc31f5e"
      },
      "outputs": [
        {
          "name": "stdout",
          "output_type": "stream",
          "text": [
            "b\n",
            "a\n",
            "n\n",
            "a\n",
            "n\n",
            "a\n"
          ]
        }
      ],
      "source": [
        "for x in \"banana\":\n",
        "    print(x)"
      ]
    },
    {
      "cell_type": "markdown",
      "metadata": {
        "id": "YRUFM_i5gBFY"
      },
      "source": [
        "**The break Statement**"
      ]
    },
    {
      "cell_type": "markdown",
      "metadata": {
        "id": "vQFKHJ6_gBFY"
      },
      "source": [
        "With the `break` statement we can stop the loop before it has looped through all the items:"
      ]
    },
    {
      "cell_type": "code",
      "execution_count": null,
      "metadata": {
        "id": "yUdiUHbngBFY",
        "outputId": "45f9dc00-627c-48cf-d808-301f95065a22"
      },
      "outputs": [
        {
          "name": "stdout",
          "output_type": "stream",
          "text": [
            "apple\n"
          ]
        }
      ],
      "source": [
        "fruits = [\"apple\", \"banana\", \"cherry\"]\n",
        "for x in fruits:\n",
        "    if x == \"banana\":\n",
        "        break\n",
        "    print(x)"
      ]
    },
    {
      "cell_type": "markdown",
      "metadata": {
        "id": "5A_m35VVgBFY"
      },
      "source": [
        "**The continue Statement**"
      ]
    },
    {
      "cell_type": "markdown",
      "metadata": {
        "id": "nNUKYRK5gBFY"
      },
      "source": [
        "With the `continue` statement we can stop the current iteration of the loop, and continue with the next:"
      ]
    },
    {
      "cell_type": "code",
      "execution_count": null,
      "metadata": {
        "id": "XrPXVVZngBFY",
        "outputId": "d2937823-dc9c-4a08-836b-1a9fee5c3212"
      },
      "outputs": [
        {
          "name": "stdout",
          "output_type": "stream",
          "text": [
            "apple\n",
            "cherry\n"
          ]
        }
      ],
      "source": [
        "fruits = [\"apple\", \"banana\", \"cherry\"]\n",
        "for x in fruits:\n",
        "    if x == \"banana\":\n",
        "        continue\n",
        "    print(x)"
      ]
    },
    {
      "cell_type": "markdown",
      "metadata": {
        "id": "zOuIKmDhgBFY"
      },
      "source": [
        "**The range() Function**"
      ]
    },
    {
      "cell_type": "markdown",
      "metadata": {
        "id": "8SvxouKNgBFY"
      },
      "source": [
        "To loop through a set of code a specified number of times, we can use the range() function,\n",
        "\n",
        "The `range()` function returns a sequence of numbers, starting from 0 by default, and increments by 1 (by default), and ends at a specified number."
      ]
    },
    {
      "cell_type": "code",
      "execution_count": null,
      "metadata": {
        "id": "5SbDwAaRgBFZ",
        "outputId": "a949d2c8-9977-4f8d-fc94-275a17fa2fda"
      },
      "outputs": [
        {
          "name": "stdout",
          "output_type": "stream",
          "text": [
            "0\n",
            "1\n",
            "2\n",
            "3\n",
            "4\n",
            "5\n"
          ]
        }
      ],
      "source": [
        "for x in range(6):\n",
        "    print(x)"
      ]
    },
    {
      "cell_type": "markdown",
      "metadata": {
        "id": "-WgpKOn3gBFZ"
      },
      "source": [
        "The `range()` function defaults to 0 as a starting value, however it is possible to specify the starting value by adding a parameter: range(2, 6), which means values from 2 to 6 (but not including 6):"
      ]
    },
    {
      "cell_type": "code",
      "execution_count": null,
      "metadata": {
        "id": "cKOfaA6TgBFZ",
        "outputId": "11ae1a61-e596-46be-821e-35bc5d049924"
      },
      "outputs": [
        {
          "name": "stdout",
          "output_type": "stream",
          "text": [
            "2\n",
            "3\n",
            "4\n",
            "5\n"
          ]
        }
      ],
      "source": [
        "for x in range(2, 6):\n",
        "    print(x)"
      ]
    },
    {
      "cell_type": "markdown",
      "metadata": {
        "id": "AeE53ctbgBFa"
      },
      "source": [
        "The `range()` function defaults to increment the sequence by 1, however it is possible to specify the increment value by adding a third parameter: range(2, 30, 3):"
      ]
    },
    {
      "cell_type": "code",
      "execution_count": null,
      "metadata": {
        "id": "HzOFGpVegBFa",
        "outputId": "670ad587-12c9-4120-d444-846d4143192a"
      },
      "outputs": [
        {
          "name": "stdout",
          "output_type": "stream",
          "text": [
            "2\n",
            "5\n",
            "8\n",
            "11\n",
            "14\n",
            "17\n",
            "20\n",
            "23\n",
            "26\n",
            "29\n"
          ]
        }
      ],
      "source": [
        "for x in range(2, 30, 3):\n",
        "    print(x)"
      ]
    },
    {
      "cell_type": "markdown",
      "metadata": {
        "id": "gbwszFIygBFa"
      },
      "source": [
        "**Else in For Loop**"
      ]
    },
    {
      "cell_type": "markdown",
      "metadata": {
        "id": "jypI1OSEgBFa"
      },
      "source": [
        "The `else` keyword in a `for` loop specifies a block of code to be executed when the loop is finished:"
      ]
    },
    {
      "cell_type": "code",
      "execution_count": null,
      "metadata": {
        "id": "vhSgNjL_gBFb",
        "outputId": "05033941-9fab-4af5-d2e6-8d89cbaf43fb"
      },
      "outputs": [
        {
          "name": "stdout",
          "output_type": "stream",
          "text": [
            "0\n",
            "1\n",
            "2\n",
            "3\n",
            "4\n",
            "5\n",
            "Finally finished!\n"
          ]
        }
      ],
      "source": [
        "for x in range(6):\n",
        "    print(x)\n",
        "else:\n",
        "    print(\"Finally finished!\")"
      ]
    },
    {
      "cell_type": "markdown",
      "metadata": {
        "id": "mf6jDtK8gBFb"
      },
      "source": [
        "The `else` block will NOT be executed if the loop is stopped by a `break` statement."
      ]
    },
    {
      "cell_type": "code",
      "execution_count": null,
      "metadata": {
        "id": "urkvhgWGgBFb",
        "outputId": "90a360d2-c7ea-420c-c62c-3d4217cb6625"
      },
      "outputs": [
        {
          "name": "stdout",
          "output_type": "stream",
          "text": [
            "0\n",
            "1\n",
            "2\n"
          ]
        }
      ],
      "source": [
        "for x in range(6):\n",
        "    if x == 3: break\n",
        "    print(x)\n",
        "else:\n",
        "    print(\"Finally finished!\")"
      ]
    },
    {
      "cell_type": "markdown",
      "metadata": {
        "id": "IF8hZZKZgBFb"
      },
      "source": [
        "**Nested Loops**"
      ]
    },
    {
      "cell_type": "markdown",
      "metadata": {
        "id": "EVNROzRogBFb"
      },
      "source": [
        "A nested loop is a loop inside a loop.\n",
        "\n",
        "The \"inner loop\" will be executed one time for each iteration of the \"outer loop\":"
      ]
    },
    {
      "cell_type": "code",
      "execution_count": null,
      "metadata": {
        "id": "SmBjCDOEgBFb",
        "outputId": "5346f074-85f7-4f2b-daf1-d5c752d24ee9"
      },
      "outputs": [
        {
          "name": "stdout",
          "output_type": "stream",
          "text": [
            "red apple\n",
            "red banana\n",
            "red cherry\n",
            "big apple\n",
            "big banana\n",
            "big cherry\n",
            "tasty apple\n",
            "tasty banana\n",
            "tasty cherry\n"
          ]
        }
      ],
      "source": [
        "adj = [\"red\", \"big\", \"tasty\"]\n",
        "fruits = [\"apple\", \"banana\", \"cherry\"]\n",
        "\n",
        "for x in adj:\n",
        "    for y in fruits:\n",
        "        print(x, y)"
      ]
    },
    {
      "cell_type": "markdown",
      "metadata": {
        "id": "eKNd0KTLgBFb"
      },
      "source": [
        "**The pass Statement**"
      ]
    },
    {
      "cell_type": "markdown",
      "metadata": {
        "id": "D7zDg2SlgBFc"
      },
      "source": [
        "`for` loops cannot be empty, but if you for some reason have a for loop with no content, put in the `pass` statement to avoid getting an error."
      ]
    },
    {
      "cell_type": "code",
      "execution_count": null,
      "metadata": {
        "id": "KgahCpDNgBFc"
      },
      "outputs": [],
      "source": [
        "for x in [0, 1, 2]:\n",
        "    pass"
      ]
    },
    {
      "cell_type": "markdown",
      "metadata": {
        "id": "6rNzz364gBFc"
      },
      "source": [
        "# Exceptions\n",
        "https://docs.python.org/3.8/tutorial/errors.html"
      ]
    },
    {
      "cell_type": "markdown",
      "metadata": {
        "id": "sVZoxRVVgBFc"
      },
      "source": [
        "It is possible to write programs that handle selected exceptions. \n",
        "\n",
        "Look at the following example, which asks the user for input until a valid integer has been entered."
      ]
    },
    {
      "cell_type": "code",
      "execution_count": null,
      "metadata": {
        "id": "RwBqDul_gBFc"
      },
      "outputs": [],
      "source": [
        "while True:\n",
        "    try:\n",
        "        x = int(input(\"Please enter a number: \"))\n",
        "        break\n",
        "    except Exception:\n",
        "        print(\"Oops!  That was no valid number.  Try again...\")"
      ]
    },
    {
      "cell_type": "markdown",
      "metadata": {
        "id": "06SqBcD5gBFc"
      },
      "source": [
        "The try statement works as follows.\n",
        "\n",
        "First, the try clause (the statement(s) between the try and except keywords) is executed.\n",
        "\n",
        "If no exception occurs, the except clause is skipped and execution of the try statement is finished.\n",
        "\n",
        "If an exception occurs during execution of the try clause, the rest of the clause is skipped. Then if its type matches the exception named after the except keyword, the except clause is executed, and then execution continues after the try statement.\n",
        "\n",
        "If an exception occurs which does not match the exception named in the except clause, it is passed on to outer try statements; if no handler is found, it is an unhandled exception and execution stops with a message as shown below.\n"
      ]
    },
    {
      "cell_type": "code",
      "execution_count": null,
      "metadata": {
        "id": "JvGNErdwgBFd"
      },
      "outputs": [],
      "source": [
        "try:\n",
        "    1/0\n",
        "except Exception:\n",
        "    print(\"Oops!  That was no valid number.  Try again...\")"
      ]
    },
    {
      "cell_type": "code",
      "execution_count": null,
      "metadata": {
        "id": "wieAQ9T9gBFd",
        "outputId": "e49ac726-a1fc-4c97-f4c1-303bb2fb73e1"
      },
      "outputs": [
        {
          "name": "stdout",
          "output_type": "stream",
          "text": [
            "12334556767867896789\n",
            "All right.\n",
            "ints =  [1, 2, 3, 3, 4, 5, 5, 6, 7, 6, 7, 8, 6, 7, 8, 9, 6, 7, 8, 9]\n"
          ]
        }
      ],
      "source": [
        "f = input()\n",
        "ints = []\n",
        "try:\n",
        "    for line in f:\n",
        "        ints.append(int(line))\n",
        "except ValueError:\n",
        "    print('It is not a number.')\n",
        "except Exception:\n",
        "    print('Unknown exception?')\n",
        "else:\n",
        "    print('All right.')\n",
        "finally:\n",
        "    print('ints = ', ints)   # Именно в таком порядке: try, группа except, затем else, и только потом finally.\n",
        "\n",
        "    "
      ]
    },
    {
      "cell_type": "markdown",
      "metadata": {
        "id": "LIdno7XAgBFd"
      },
      "source": [
        "All standard Python exceptions are available as global variables: https://docs.python.org/3/c-api/exceptions.html"
      ]
    },
    {
      "cell_type": "markdown",
      "metadata": {
        "id": "c_rET-e9gBFd"
      },
      "source": [
        "."
      ]
    },
    {
      "cell_type": "markdown",
      "metadata": {
        "id": "JwKG2KSbgBFd"
      },
      "source": [
        "."
      ]
    },
    {
      "cell_type": "markdown",
      "metadata": {
        "id": "wWTlqvNtgBFd"
      },
      "source": [
        "."
      ]
    },
    {
      "cell_type": "markdown",
      "metadata": {
        "id": "erUZaNWRgBFd"
      },
      "source": [
        "."
      ]
    },
    {
      "cell_type": "markdown",
      "metadata": {
        "id": "4tl_a6-NgBFd"
      },
      "source": [
        "# Home work\n",
        "Add try-except, where it is possible in examples below"
      ]
    },
    {
      "cell_type": "markdown",
      "metadata": {
        "id": "GcrmSSXOgBFe"
      },
      "source": [
        "### 1\n",
        "\n",
        "Write a program that takes a year as input and outputs the number of days in that year.\n",
        "<br><br>\n",
        "*Input format:* <br>\n",
        "2020<br><br>\n",
        "\n",
        "*Output format:* <br>\n",
        "366"
      ]
    },
    {
      "cell_type": "markdown",
      "metadata": {
        "id": "vYOi8RL8gBFe"
      },
      "source": [
        "**Recommendations for completing the assignment:** remember the divisibility property for leap years."
      ]
    },
    {
      "cell_type": "code",
      "execution_count": null,
      "metadata": {
        "colab": {
          "base_uri": "https://localhost:8080/"
        },
        "id": "GluO7jVfgBFe",
        "outputId": "cd9a3d78-24a5-4c06-ff82-32394a17a0cb"
      },
      "outputs": [
        {
          "output_type": "stream",
          "name": "stdout",
          "text": [
            "Enter the year\n",
            "2042\n",
            "Number of days in a year 365\n",
            "Enter the year\n",
            "kjh\n",
            "Enter a numeric value\n"
          ]
        }
      ],
      "source": [
        "while True:\n",
        "    try:\n",
        "        print('Enter the year')\n",
        "        year = int(input())\n",
        "    except Exception:\n",
        "        print('Enter a numeric value')\n",
        "        break\n",
        "\n",
        "    else:\n",
        "        if year % 4 != 0:\n",
        "            print('Number of days in a year 365')\n",
        "        elif year % 100 != 0:\n",
        "            print('Number of days in a year 366')\n",
        "        elif year % 400 != 0:\n",
        "            print('Number of days in a year 365')\n",
        "        else:\n",
        "            print('Number of days in a year 366')"
      ]
    },
    {
      "cell_type": "markdown",
      "metadata": {
        "id": "8B4reMiPgBFe"
      },
      "source": [
        "### 2\n",
        "\n",
        "Write a program that receives as input the coordinates of two cells of a chessboard and displays a message about whether these cells are of the same color.\n",
        "<br><br>\n",
        "*Import format:* <br>\n",
        "c2<br>\n",
        "e4<br><br>\n",
        "\n",
        "*Ouput format:* <br>\n",
        "Cells of the same color"
      ]
    },
    {
      "cell_type": "code",
      "source": [
        "black_cells = ['a1', 'a3', 'a5', 'a7', 'b2', 'b4', 'b6', 'b8', 'c1', 'c3', 'c5', 'c7', 'd2', 'd4', 'd6', 'd8',\n",
        "         'e1', 'e3', 'e5', 'e7', 'f2', 'f4', 'f6', 'f8', 'g1', 'g3', 'g5', 'g7', 'h2', 'h4', 'h6', 'h8']\n",
        "\n",
        "white_cells = ['a2', 'a4', 'a6', 'a8', 'b1', 'b3', 'b5', 'b7', 'c2', 'c4', 'c6', 'c8', 'd1', 'd3', 'd5', 'd7',\n",
        "         'e2', 'e4', 'e6', 'e8', 'f1', 'f3', 'f5', 'f7', 'g2', 'g4', 'g6', 'g8', 'h1', 'h3', 'h5', 'h7']"
      ],
      "metadata": {
        "id": "tn2PvJoC_9m4"
      },
      "execution_count": null,
      "outputs": []
    },
    {
      "cell_type": "code",
      "source": [
        "while True: \n",
        "  try:  \n",
        "      cell1, cell2 = input('Enter 2 cells coordinates: ').split()\n",
        "    \n",
        "  except Exception:\n",
        "      print('Wrong type of input')\n",
        "      break\n",
        "\n",
        "  else:\n",
        "      if (cell1 in black_cells and cell2 in black_cells) or (cell1 in white_cells and cell2 in white_cells) :\n",
        "          print('Cells of the same color')\n",
        "      else:\n",
        "          print('Cells of different colors')"
      ],
      "metadata": {
        "id": "rt-NfGUv-1-A",
        "colab": {
          "base_uri": "https://localhost:8080/"
        },
        "outputId": "b07d6a93-3de5-46ec-855c-de260c895e12"
      },
      "execution_count": null,
      "outputs": [
        {
          "output_type": "stream",
          "name": "stdout",
          "text": [
            "Enter 2 cells coordinates: a1 a2\n",
            "Cells of different colors\n",
            "Enter 2 cells coordinates: df\n",
            "Wrong type of input\n"
          ]
        }
      ]
    },
    {
      "cell_type": "markdown",
      "metadata": {
        "id": "wItT5-2sgBFe"
      },
      "source": [
        "### 3\n",
        "\n",
        "Write a program that receives a number as input, and at the output reports whether it is a prime number or a composite number.\n",
        "<br><br>\n",
        "*Input format:* <br>\n",
        "169<br><br>\n",
        "\n",
        "*Output format:* <br>\n",
        "composite number."
      ]
    },
    {
      "cell_type": "code",
      "execution_count": null,
      "metadata": {
        "colab": {
          "base_uri": "https://localhost:8080/"
        },
        "id": "9SJvbjE1gBFe",
        "outputId": "2bff12e7-1a07-4352-b4f7-8b664b233ffd"
      },
      "outputs": [
        {
          "output_type": "stream",
          "name": "stdout",
          "text": [
            "11\n",
            "Prime\n"
          ]
        }
      ],
      "source": [
        "try:\n",
        "  num = int(input())\n",
        "except Exception:\n",
        "  print('Wrong type of input')\n",
        "else:\n",
        "  if (num > 1):\n",
        "      if (num == 2) or (num == 3):\n",
        "        print('Prime')\n",
        "      elif num % 2 == 0:\n",
        "        print('Composite')\n",
        "      else:\n",
        "        for i in range(3,num):\n",
        "          if num % i == 0:\n",
        "            print('Composite')\n",
        "            break\n",
        "          elif i == (num-1) and (num % i != 0):\n",
        "            print('Prime')\n",
        "  else:\n",
        "    print('Number must be > 0')"
      ]
    },
    {
      "cell_type": "markdown",
      "metadata": {
        "id": "QHZaS5sQgBFe"
      },
      "source": [
        "### 4\n",
        "\n",
        "Write a program that receives an integer greater than 2 as input and outputs its smallest natural divisor, other than 1, from it.\n",
        "<br><br>\n",
        "*Input format:* <br>\n",
        "169<br><br>\n",
        "\n",
        "*Output format:* <br>\n",
        "13"
      ]
    },
    {
      "cell_type": "code",
      "execution_count": null,
      "metadata": {
        "colab": {
          "base_uri": "https://localhost:8080/"
        },
        "id": "HHzw4IVigBFf",
        "outputId": "64c6021f-d0be-4898-b8d5-45531d4e7fed"
      },
      "outputs": [
        {
          "output_type": "stream",
          "name": "stdout",
          "text": [
            "21\n",
            "3\n"
          ]
        }
      ],
      "source": [
        "try:\n",
        "  num = int(input())\n",
        "except Exception:\n",
        "  print('Wrong type of input')\n",
        "else:\n",
        "  if (num > 2):\n",
        "    for i in range(2, num):\n",
        "      if num % i==0:\n",
        "        print(i)\n",
        "        break\n",
        "      elif i == (num-1) and (num % i != 0):\n",
        "        print(num)\n",
        "  else:   \n",
        "    print('Number must be > 0')"
      ]
    },
    {
      "cell_type": "markdown",
      "metadata": {
        "id": "VeGrItRpgBFf"
      },
      "source": [
        "### 5\n",
        "\n",
        "Write a program to help you plan your marathon training routine. It receives at the entrance the number of kilometers on the planned marathon, how much the user plans to run on the first day of training, and by what percentage he plans to increase this distance every day. At the output, the program should give out how many days it will take for the user to prepare to run the target number of kilometers.\n",
        "<br><br>\n",
        "*Restriction: you cannot use the `ceil ()` function from the `math` module and its analogues.*\n",
        "<br><br>\n",
        "*Input format:* <br>\n",
        "12<br>\n",
        "3<br>\n",
        "10<br><br>\n",
        "\n",
        "*Output format:* <br>\n",
        "16"
      ]
    },
    {
      "cell_type": "code",
      "execution_count": null,
      "metadata": {
        "colab": {
          "base_uri": "https://localhost:8080/"
        },
        "id": "R4ugTYwcgBFf",
        "outputId": "c37a5ceb-0417-464a-e909-3e8c58ca5ed9"
      },
      "outputs": [
        {
          "output_type": "stream",
          "name": "stdout",
          "text": [
            "Enter distance of marathone, first day distance and percentage of increase\n",
            "50 10 10\n",
            "18\n"
          ]
        }
      ],
      "source": [
        "print('Enter distance of marathone, first day distance and percentage of increase')\n",
        "try:\n",
        "    distance, dist_1, increase_percent = map(int,input().split())\n",
        "except Exception:\n",
        "    print('Wrong type of inputs')\n",
        "else:\n",
        "    current_dist = float(dist_1)\n",
        "    days = 1\n",
        "    while current_dist < distance:\n",
        "        current_dist += current_dist*float(increase_percent/100)\n",
        "        days += 1\n",
        "    print(days)"
      ]
    },
    {
      "cell_type": "markdown",
      "metadata": {
        "id": "karZRqKSgBFf"
      },
      "source": [
        "### 6\n",
        "\n",
        "Write a program that receives the number n as input and calculates the sum from it 1²+2²+3²+...+n².\n",
        "<br><br>\n",
        "*Restriction: you cannot use the `sum ()` function and its analogs.*\n",
        "\n",
        "*Input format:* <br>\n",
        "3<br><br>\n",
        "\n",
        "*Output format:* <br>\n",
        "14"
      ]
    },
    {
      "cell_type": "code",
      "execution_count": null,
      "metadata": {
        "colab": {
          "base_uri": "https://localhost:8080/"
        },
        "id": "6o0olGf6gBFf",
        "outputId": "98c91c64-8b9d-4229-999c-1c4eac2c1d35"
      },
      "outputs": [
        {
          "output_type": "stream",
          "name": "stdout",
          "text": [
            "5\n",
            "55\n"
          ]
        }
      ],
      "source": [
        "try:\n",
        "    num = int(input())\n",
        "except Exception:\n",
        "    print('Wrong type of input')\n",
        "else:\n",
        "    sum = 0\n",
        "    for i in range(num+1):\n",
        "        sum += i**2 \n",
        "    print(sum)"
      ]
    },
    {
      "cell_type": "markdown",
      "metadata": {
        "id": "QoatLxKhgBFf"
      },
      "source": [
        "### 7\n",
        "\n",
        "Write a program that builds a list of players on the women's mini-football. The program must record the age and gender of the applicant. Age should be requested after gender and only if the applicant's gender is female. If the gender of the applicant is male, the program should report that it is not suitable. Applicants must be between 18 and 35 years old. If the candidate meets the requirements, a corresponding message should appear. There can be only six people in a team. When the required number is dialed, the record is closed and the message “Recording to the command is closed” is displayed.\n"
      ]
    },
    {
      "cell_type": "code",
      "execution_count": null,
      "metadata": {
        "colab": {
          "base_uri": "https://localhost:8080/"
        },
        "id": "q5HW_ikHgBFf",
        "outputId": "89eb74f6-b1be-417b-ad41-a1b22bc7e442"
      },
      "outputs": [
        {
          "output_type": "stream",
          "name": "stdout",
          "text": [
            "Enter gender:\n",
            "male\n",
            "You are not suitable for the team\n",
            "female\n",
            "Type age: 20\n",
            "You are suitable for the team\n",
            "female\n",
            "Type age: 23\n",
            "You are suitable for the team\n",
            "female\n",
            "Type age: 30\n",
            "You are suitable for the team\n",
            "female\n",
            "Type age: 40\n",
            "You are not suitable for the team\n",
            "female\n",
            "Type age: 25\n",
            "You are suitable for the team\n",
            "fg\n",
            "Wrong gender\n",
            "female\n",
            "Type age: fd\n",
            "Wrong type of input\n",
            "female\n",
            "Type age: 34\n",
            "You are suitable for the team\n",
            "female\n",
            "Type age: 23\n",
            "You are suitable for the team\n",
            "The team is ready\n"
          ]
        }
      ],
      "source": [
        "num = 0\n",
        "print('Enter gender:')\n",
        "while True:\n",
        "  try:\n",
        "    gender = input()\n",
        "  except Exception:\n",
        "    print('Wrong type of input')\n",
        "\n",
        "  else: \n",
        "    if gender == 'male':\n",
        "      print(\"You are not suitable for the team\")\n",
        "      continue\n",
        "    elif gender == 'female':\n",
        "      try:\n",
        "        age = int(input('Type age: '))\n",
        "      except Exception:\n",
        "        print('Wrong type of input')\n",
        "        continue\n",
        "      else:\n",
        "        if 18 <= age <= 35:\n",
        "          print('You are suitable for the team')\n",
        "          num += 1\n",
        "          if num == 6:\n",
        "            print('The team is ready')\n",
        "            break\n",
        "          continue\n",
        "        else:\n",
        "          print(\"You are not suitable for the team\")\n",
        "          continue\n",
        "    else:\n",
        "        print('Wrong gender')\n",
        "        continue"
      ]
    },
    {
      "cell_type": "markdown",
      "metadata": {
        "id": "u0qqUbWKgBFg"
      },
      "source": [
        "### 8\n",
        "\n",
        "We will assume that a cube can have an unlimited number of faces (a natural number). Write a program that asks how many faces two different cubes have. Then displays all combinations of the results of the rolls of two such cubes.\n",
        "<br><br>\n",
        "*Input format:* <br>\n",
        "3<br>\n",
        "4<br><br>\n",
        "\n",
        "*Output format:* <br>\n",
        "1 1<br>\n",
        "1 2<br>\n",
        "1 3<br>\n",
        "1 4<br>\n",
        "2 1<br>\n",
        "2 2<br>\n",
        "2 3<br>\n",
        "2 4<br>\n",
        "3 1<br>\n",
        "3 2<br>\n",
        "3 3<br>\n",
        "3 4<br>"
      ]
    },
    {
      "cell_type": "code",
      "execution_count": null,
      "metadata": {
        "colab": {
          "base_uri": "https://localhost:8080/"
        },
        "id": "-OfQslpSgBFg",
        "outputId": "7e821a8b-97a4-4f79-a800-52c59fde579e"
      },
      "outputs": [
        {
          "output_type": "stream",
          "name": "stdout",
          "text": [
            "Type numbers of faces for 2 cubes: \n",
            "3 4\n",
            "1 1\n",
            "1 2\n",
            "1 3\n",
            "1 4\n",
            "2 1\n",
            "2 2\n",
            "2 3\n",
            "2 4\n",
            "3 1\n",
            "3 2\n",
            "3 3\n",
            "3 4\n"
          ]
        }
      ],
      "source": [
        "print('Type numbers of faces for 2 cubes: ')\n",
        "try:\n",
        "  face1, face2 = map(int, input().split())\n",
        "except:\n",
        "  print('Wrong type of input')\n",
        "else:\n",
        "  for i in range(1, face1+1):\n",
        "    for j in range(1, face2+1):\n",
        "      print(i, j)"
      ]
    }
  ],
  "metadata": {
    "colab": {
      "collapsed_sections": [
        "1-1TSqXjgBFV",
        "IcyFA2A4gBFX"
      ],
      "provenance": []
    },
    "kernelspec": {
      "display_name": "Python 3 (ipykernel)",
      "language": "python",
      "name": "python3"
    },
    "language_info": {
      "codemirror_mode": {
        "name": "ipython",
        "version": 3
      },
      "file_extension": ".py",
      "mimetype": "text/x-python",
      "name": "python",
      "nbconvert_exporter": "python",
      "pygments_lexer": "ipython3",
      "version": "3.9.7"
    }
  },
  "nbformat": 4,
  "nbformat_minor": 0
}