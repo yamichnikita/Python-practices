{
  "cells": [
    {
      "cell_type": "markdown",
      "metadata": {
        "id": "X91ynL8GWgdT"
      },
      "source": [
        "# Practical work 3"
      ]
    },
    {
      "cell_type": "markdown",
      "metadata": {
        "id": "MnwBpLI6WgdX"
      },
      "source": [
        "## Functions\n"
      ]
    },
    {
      "cell_type": "markdown",
      "metadata": {
        "id": "_pFjvdeuWgdY"
      },
      "source": [
        "A function is a block of code which only runs when it is called.\n",
        "\n",
        "You can pass data, known as parameters, into a function.\n",
        "\n",
        "A function can return data as a result."
      ]
    },
    {
      "cell_type": "markdown",
      "metadata": {
        "id": "rHBssKl4WgdY"
      },
      "source": [
        "### Creating a Function\n",
        "\n",
        "In Python a function is defined using the `def` keyword:\n",
        "\n"
      ]
    },
    {
      "cell_type": "code",
      "execution_count": null,
      "metadata": {
        "id": "WyEHX3p4WgdZ"
      },
      "outputs": [],
      "source": [
        "def my_function():\n",
        "    print(\"Hello from a function\")"
      ]
    },
    {
      "cell_type": "markdown",
      "metadata": {
        "id": "T6cO2Y6pWgda"
      },
      "source": [
        "### Calling a Function\n",
        "\n",
        "To call a function, use the function name followed by parenthesis:"
      ]
    },
    {
      "cell_type": "code",
      "execution_count": null,
      "metadata": {
        "id": "ZrGepiS3Wgda",
        "outputId": "245b655f-dafc-408b-bed2-371122f927cb"
      },
      "outputs": [
        {
          "name": "stdout",
          "output_type": "stream",
          "text": [
            "Hello from a function\n"
          ]
        }
      ],
      "source": [
        "def my_function():\n",
        "    print(\"Hello from a function\")\n",
        "\n",
        "my_function()"
      ]
    },
    {
      "cell_type": "markdown",
      "metadata": {
        "id": "dy2DiNiQWgdb"
      },
      "source": [
        "### Arguments\n",
        "\n",
        "Information can be passed into functions as arguments.\n",
        "\n",
        "Arguments are specified after the function name, inside the parentheses. You can add as many arguments as you want, just separate them with a comma.\n",
        "\n",
        "The following example has a function with one argument (fname). When the function is called, we pass along a first name, which is used inside the function to print the full name:\n",
        "\n"
      ]
    },
    {
      "cell_type": "code",
      "execution_count": null,
      "metadata": {
        "id": "6U3CSnd8Wgdb",
        "outputId": "cba4ceea-795b-4863-a643-bb977242b8f6"
      },
      "outputs": [
        {
          "name": "stdout",
          "output_type": "stream",
          "text": [
            "Emil Refsnes\n",
            "Tobias Refsnes\n",
            "Linus Refsnes\n"
          ]
        }
      ],
      "source": [
        "def my_function(fname):\n",
        "    print(fname + \" Refsnes\")\n",
        "\n",
        "my_function(\"Emil\")\n",
        "my_function(\"Tobias\")\n",
        "my_function(\"Linus\")"
      ]
    },
    {
      "cell_type": "markdown",
      "metadata": {
        "id": "rRqle3jhWgdc"
      },
      "source": [
        "`Arguments` are often shortened to `args` in Python documentations."
      ]
    },
    {
      "cell_type": "markdown",
      "metadata": {
        "id": "bE_eTpr-Wgdc"
      },
      "source": [
        "### Parameters or Arguments\n",
        "\n",
        "The terms parameter and argument can be used for the same thing: information that are passed into a function.\n",
        "\n",
        "From a function's perspective:\n",
        "\n",
        "A `parameter` is the variable listed inside the parentheses in the function definition.\n",
        "\n",
        "An `argument` is the value that is sent to the function when it is called."
      ]
    },
    {
      "cell_type": "markdown",
      "metadata": {
        "id": "PYS3jgieWgdd"
      },
      "source": [
        "\n",
        "### Number of Arguments\n",
        "\n",
        "By default, a function must be called with the correct number of arguments. Meaning that if your function expects 2 arguments, you have to call the function with 2 arguments, not more, and not less."
      ]
    },
    {
      "cell_type": "code",
      "execution_count": null,
      "metadata": {
        "id": "ampRCPDPWgdd",
        "outputId": "7d1444cb-7d25-4873-8827-25c1b522eeff"
      },
      "outputs": [
        {
          "name": "stdout",
          "output_type": "stream",
          "text": [
            "Emil Refsnes\n"
          ]
        },
        {
          "ename": "TypeError",
          "evalue": "my_function() takes 2 positional arguments but 3 were given",
          "output_type": "error",
          "traceback": [
            "\u001b[1;31m---------------------------------------------------------------------------\u001b[0m",
            "\u001b[1;31mTypeError\u001b[0m                                 Traceback (most recent call last)",
            "\u001b[1;32m<ipython-input-9-cc86124a4a25>\u001b[0m in \u001b[0;36m<module>\u001b[1;34m\u001b[0m\n\u001b[0;32m      4\u001b[0m \u001b[0mmy_function\u001b[0m\u001b[1;33m(\u001b[0m\u001b[1;34m\"Emil\"\u001b[0m\u001b[1;33m,\u001b[0m \u001b[1;34m\"Refsnes\"\u001b[0m\u001b[1;33m)\u001b[0m\u001b[1;33m\u001b[0m\u001b[1;33m\u001b[0m\u001b[0m\n\u001b[0;32m      5\u001b[0m \u001b[1;31m#my_function( \"Refsnes\")\u001b[0m\u001b[1;33m\u001b[0m\u001b[1;33m\u001b[0m\u001b[1;33m\u001b[0m\u001b[0m\n\u001b[1;32m----> 6\u001b[1;33m \u001b[0mmy_function\u001b[0m\u001b[1;33m(\u001b[0m\u001b[1;34m\"Emil\"\u001b[0m\u001b[1;33m,\u001b[0m \u001b[1;34m\"Refsnes\"\u001b[0m\u001b[1;33m,\u001b[0m \u001b[1;34m\"Refsnes\"\u001b[0m\u001b[1;33m)\u001b[0m\u001b[1;33m\u001b[0m\u001b[1;33m\u001b[0m\u001b[0m\n\u001b[0m",
            "\u001b[1;31mTypeError\u001b[0m: my_function() takes 2 positional arguments but 3 were given"
          ]
        }
      ],
      "source": [
        "def my_function(fname, lname):\n",
        "    print(fname + \" \" + lname)\n",
        "\n",
        "my_function(\"Emil\", \"Refsnes\")\n",
        "#my_function( \"Refsnes\")\n",
        "my_function(\"Emil\", \"Refsnes\", \"Refsnes\")"
      ]
    },
    {
      "cell_type": "markdown",
      "metadata": {
        "id": "32-caH2YWgde"
      },
      "source": [
        "If you try to call the function with 1 or 3 arguments, you will get an error:"
      ]
    },
    {
      "cell_type": "code",
      "execution_count": null,
      "metadata": {
        "id": "RXkqV1xPWgde",
        "outputId": "925018d8-f896-4d10-e4ea-ef8c383a5c0c"
      },
      "outputs": [
        {
          "ename": "TypeError",
          "evalue": "my_function() missing 1 required positional argument: 'lname'",
          "output_type": "error",
          "traceback": [
            "\u001b[1;31m---------------------------------------------------------------------------\u001b[0m",
            "\u001b[1;31mTypeError\u001b[0m                                 Traceback (most recent call last)",
            "\u001b[1;32m<ipython-input-10-cf50e0f96fc6>\u001b[0m in \u001b[0;36m<module>\u001b[1;34m\u001b[0m\n\u001b[0;32m      3\u001b[0m \u001b[1;32mdef\u001b[0m \u001b[0mmy_function\u001b[0m\u001b[1;33m(\u001b[0m\u001b[0mfname\u001b[0m\u001b[1;33m,\u001b[0m \u001b[0mlname\u001b[0m\u001b[1;33m)\u001b[0m\u001b[1;33m:\u001b[0m\u001b[1;33m\u001b[0m\u001b[1;33m\u001b[0m\u001b[0m\n\u001b[0;32m      4\u001b[0m     \u001b[0mprint\u001b[0m\u001b[1;33m(\u001b[0m\u001b[0mfname\u001b[0m \u001b[1;33m+\u001b[0m \u001b[1;34m\" \"\u001b[0m \u001b[1;33m+\u001b[0m \u001b[0mlname\u001b[0m\u001b[1;33m)\u001b[0m\u001b[1;33m\u001b[0m\u001b[1;33m\u001b[0m\u001b[0m\n\u001b[1;32m----> 5\u001b[1;33m \u001b[0mmy_function\u001b[0m\u001b[1;33m(\u001b[0m\u001b[1;34m\"Emil\"\u001b[0m\u001b[1;33m)\u001b[0m\u001b[1;33m\u001b[0m\u001b[1;33m\u001b[0m\u001b[0m\n\u001b[0m",
            "\u001b[1;31mTypeError\u001b[0m: my_function() missing 1 required positional argument: 'lname'"
          ]
        }
      ],
      "source": [
        "#This function expects 2 arguments, but gets only 1:\n",
        "\n",
        "def my_function(fname, lname):\n",
        "    print(fname + \" \" + lname)\n",
        "my_function(\"Emil\")"
      ]
    },
    {
      "cell_type": "markdown",
      "metadata": {
        "id": "Qvh7iIgSWgde"
      },
      "source": [
        "### Arbitrary Arguments, *args\n",
        "\n",
        "If you do not know how many arguments that will be passed into your function, add a `*` before the parameter name in the function definition.\n",
        "\n",
        "This way the function will receive a tuple of arguments, and can access the items accordingly:\n"
      ]
    },
    {
      "cell_type": "code",
      "execution_count": null,
      "metadata": {
        "id": "PNPFfPs4Wgdf"
      },
      "outputs": [],
      "source": [
        "def my_function(*kids):\n",
        "    print(\"The youngest child is \" + kids[2])\n",
        "\n",
        "my_function(\"Emil\", \"Tobias\", \"Linus\")"
      ]
    },
    {
      "cell_type": "markdown",
      "metadata": {
        "id": "I2m3WoACWgdf"
      },
      "source": [
        "### Keyword Arguments\n",
        "\n",
        "You can also send arguments with the `key = value` syntax.\n",
        "\n",
        "This way the order of the arguments does not matter."
      ]
    },
    {
      "cell_type": "code",
      "execution_count": null,
      "metadata": {
        "id": "bNxtQWAmWgdf"
      },
      "outputs": [],
      "source": [
        "def my_function(child3, child2, child1):\n",
        "    print(\"The youngest child is \" + child3)\n",
        "\n",
        "my_function(child1 = \"Emil\", child2 = \"Tobias\", child3 = \"Linus\")"
      ]
    },
    {
      "cell_type": "markdown",
      "metadata": {
        "id": "loDzC4JwWgdg"
      },
      "source": [
        "### Arbitrary Keyword Arguments, **kwargs\n",
        "\n",
        "If you do not know how many keyword arguments that will be passed into your function, add two asterisk: `**` before the parameter name in the function definition."
      ]
    },
    {
      "cell_type": "code",
      "execution_count": null,
      "metadata": {
        "id": "p7d_Vsl5Wgdg"
      },
      "outputs": [],
      "source": [
        "def my_function(**kid):\n",
        "    print(\"His last name is \" + kid[\"lname\"])\n",
        "\n",
        "my_function(fname = \"Tobias\", lname = \"Refsnes\")"
      ]
    },
    {
      "cell_type": "markdown",
      "metadata": {
        "id": "MviCgtSLWgdg"
      },
      "source": [
        "### Default Parameter Value\n",
        "\n",
        "If we call the function without argument, it uses the default value:"
      ]
    },
    {
      "cell_type": "code",
      "execution_count": null,
      "metadata": {
        "id": "c0d-vbSfWgdg",
        "outputId": "15dc7673-e5e0-41a7-8038-5630324dba14"
      },
      "outputs": [
        {
          "name": "stdout",
          "output_type": "stream",
          "text": [
            "I am from Sweden\n",
            "I am from India\n",
            "I am from Norway\n",
            "I am from Brazil\n"
          ]
        }
      ],
      "source": [
        "def my_function(country = \"Norway\"):\n",
        "    print(\"I am from \" + country)\n",
        "\n",
        "my_function(\"Sweden\")\n",
        "my_function(\"India\")\n",
        "my_function()\n",
        "my_function(\"Brazil\")"
      ]
    },
    {
      "cell_type": "markdown",
      "metadata": {
        "id": "qfRyp6SxWgdh"
      },
      "source": [
        "### Passing a List as an Argument\n",
        "\n",
        "You can send any data types of argument to a function (string, number, list, dictionary etc.), and it will be treated as the same data type inside the function.\n",
        "\n",
        "E.g. if you send a List as an argument, it will still be a List when it reaches the function:"
      ]
    },
    {
      "cell_type": "code",
      "execution_count": null,
      "metadata": {
        "id": "RofLHFW-Wgdl",
        "outputId": "3a9318b3-c3c2-4cc8-c71d-f3dc13e0123b"
      },
      "outputs": [
        {
          "name": "stdout",
          "output_type": "stream",
          "text": [
            "apple\n",
            "banana\n",
            "cherry\n"
          ]
        }
      ],
      "source": [
        "def my_function(food):\n",
        "    for x in food:\n",
        "        print(x)\n",
        "\n",
        "fruits = [\"apple\", \"banana\", \"cherry\"]\n",
        "\n",
        "my_function(fruits)"
      ]
    },
    {
      "cell_type": "markdown",
      "metadata": {
        "id": "MuzrHD8FWgdm"
      },
      "source": [
        "### Return Values\n",
        "\n",
        "To let a function `return` a value, use the return statement:"
      ]
    },
    {
      "cell_type": "code",
      "execution_count": null,
      "metadata": {
        "id": "rQXjyAOpWgdm",
        "outputId": "fcd603ea-e527-409f-8e05-9e4cd6fdc0a8"
      },
      "outputs": [
        {
          "name": "stdout",
          "output_type": "stream",
          "text": [
            "15\n",
            "25\n",
            "45\n"
          ]
        }
      ],
      "source": [
        "def my_function(x):\n",
        "    return 5 * x\n",
        "\n",
        "print(my_function(3))\n",
        "print(my_function(5))\n",
        "print(my_function(9))"
      ]
    },
    {
      "cell_type": "markdown",
      "metadata": {
        "id": "1QLX5mP3Wgdm"
      },
      "source": [
        "### The pass Statement\n",
        "\n",
        "function definitions cannot be empty, but if you for some reason have a function definition with no content, put in the `pass `statement to avoid getting an error."
      ]
    },
    {
      "cell_type": "code",
      "execution_count": null,
      "metadata": {
        "id": "TzXSPsQ8Wgdm"
      },
      "outputs": [],
      "source": [
        "def myfunction():\n",
        "    pass"
      ]
    },
    {
      "cell_type": "markdown",
      "metadata": {
        "id": "0ldDBpknWgdn"
      },
      "source": [
        "### Recursion\n",
        "\n",
        "Python also accepts function recursion, which means a defined function can call itself.\n",
        "\n",
        "Recursion is a common mathematical and programming concept. It means that a function calls itself. This has the benefit of meaning that you can loop through data to reach a result.\n",
        "\n",
        "The developer should be very careful with recursion as it can be quite easy to slip into writing a function which never terminates, or one that uses excess amounts of memory or processor power. However, when written correctly recursion can be a very efficient and mathematically-elegant approach to programming."
      ]
    },
    {
      "cell_type": "markdown",
      "metadata": {
        "id": "E104eLsOWgdn"
      },
      "source": [
        "In this example, tri_recursion() is a function that we have defined to call itself (\"recurse\"). We use the k variable as the data, which decrements (-1) every time we recurse. The recursion ends when the condition is not greater than 0 (i.e. when it is 0)."
      ]
    },
    {
      "cell_type": "code",
      "execution_count": null,
      "metadata": {
        "id": "rzzvzuKKWgdn",
        "outputId": "5d2202f9-28da-4e55-b495-4c34fa815b47",
        "colab": {
          "base_uri": "https://localhost:8080/"
        }
      },
      "outputs": [
        {
          "output_type": "stream",
          "name": "stdout",
          "text": [
            "\n",
            "\n",
            "Recursion Example Results\n",
            "1\n",
            "3\n"
          ]
        },
        {
          "output_type": "execute_result",
          "data": {
            "text/plain": [
              "3"
            ]
          },
          "metadata": {},
          "execution_count": 40
        }
      ],
      "source": [
        "def tri_recursion(k):\n",
        "    if(k > 0):\n",
        "        result = k + tri_recursion(k - 1)\n",
        "        print(result)\n",
        "    else:\n",
        "        result = 0\n",
        "    return result\n",
        "\n",
        "print(\"\\n\\nRecursion Example Results\")\n",
        "tri_recursion(2)"
      ]
    },
    {
      "cell_type": "markdown",
      "metadata": {
        "id": "9rt3nZFkWgdo"
      },
      "source": [
        "### Global vs Local variables\n",
        "\n",
        "Variables that are defined inside a function body have a `local` scope, and those defined outside have a `global` scope.\n",
        "\n",
        "This means that `local` variables can be accessed only inside the function in which they are declared, whereas `global` variables can be accessed throughout the program body by all functions. When you call a function, the variables declared inside it are brought into scope."
      ]
    },
    {
      "cell_type": "code",
      "execution_count": null,
      "metadata": {
        "id": "z3vLVO1NWgdo",
        "outputId": "9bf69053-ce7e-4f06-bd6a-634b3b09a1c2"
      },
      "outputs": [
        {
          "name": "stdout",
          "output_type": "stream",
          "text": [
            "Inside the function local total :  30\n",
            "Outside the function global total :  0\n"
          ]
        }
      ],
      "source": [
        "#!/usr/bin/python\n",
        "total = 0; # This is global variable.\n",
        "# Function definition is here\n",
        "def sum( arg1, arg2 ):\n",
        "     # Add both the parameters and return them.\"\n",
        "    total = arg1 + arg2; # Here total is local variable.\n",
        "    print (\"Inside the function local total : \", total)\n",
        "    return total;\n",
        "# Now you can call sum function\n",
        "sum( 10, 20 );\n",
        "print (\"Outside the function global total : \", total)"
      ]
    },
    {
      "cell_type": "markdown",
      "metadata": {
        "id": "aWPEuGPqWgdo"
      },
      "source": [
        "."
      ]
    },
    {
      "cell_type": "markdown",
      "metadata": {
        "id": "-RXM9wdzWgdo"
      },
      "source": [
        "."
      ]
    },
    {
      "cell_type": "markdown",
      "metadata": {
        "id": "iaOl3SvZWgdp"
      },
      "source": [
        "."
      ]
    },
    {
      "cell_type": "markdown",
      "metadata": {
        "id": "gFcEb7q4Wgdp"
      },
      "source": [
        "# Home work"
      ]
    },
    {
      "cell_type": "markdown",
      "metadata": {
        "id": "PtehgvNyWgdp"
      },
      "source": [
        "### 1.\n",
        "\n",
        "Why did you get an error? Explain and correct."
      ]
    },
    {
      "cell_type": "code",
      "execution_count": null,
      "metadata": {
        "colab": {
          "base_uri": "https://localhost:8080/",
          "height": 209
        },
        "id": "l77YOf60Wgdp",
        "outputId": "c2575cbe-985c-4807-e0f2-c74443df8833"
      },
      "outputs": [
        {
          "output_type": "error",
          "ename": "NameError",
          "evalue": "ignored",
          "traceback": [
            "\u001b[0;31m---------------------------------------------------------------------------\u001b[0m",
            "\u001b[0;31mNameError\u001b[0m                                 Traceback (most recent call last)",
            "\u001b[0;32m<ipython-input-1-9e89138602aa>\u001b[0m in \u001b[0;36m<module>\u001b[0;34m\u001b[0m\n\u001b[1;32m      6\u001b[0m \u001b[0;34m\u001b[0m\u001b[0m\n\u001b[1;32m      7\u001b[0m \u001b[0mfactorial\u001b[0m\u001b[0;34m(\u001b[0m\u001b[0;36m3\u001b[0m\u001b[0;34m)\u001b[0m\u001b[0;34m\u001b[0m\u001b[0;34m\u001b[0m\u001b[0m\n\u001b[0;32m----> 8\u001b[0;31m \u001b[0mprint\u001b[0m\u001b[0;34m(\u001b[0m\u001b[0mf\u001b[0m\u001b[0;34m)\u001b[0m\u001b[0;34m\u001b[0m\u001b[0;34m\u001b[0m\u001b[0m\n\u001b[0m",
            "\u001b[0;31mNameError\u001b[0m: name 'f' is not defined"
          ]
        }
      ],
      "source": [
        "def factorial(n):\n",
        "    f = 1\n",
        "    for i in range(2, n + 1):\n",
        "        f = f * i\n",
        "    return f\n",
        "\n",
        "factorial(3)\n",
        "print(f)"
      ]
    },
    {
      "cell_type": "markdown",
      "metadata": {
        "id": "a0w3UB_6Wgdp"
      },
      "source": [
        "**Explanation:** the error occurs because the variable f is local and defined inside the function. The global variable f does not exist in the code, therefore, an error occurs when trying to call it.\n",
        "<br><br>"
      ]
    },
    {
      "cell_type": "markdown",
      "metadata": {
        "id": "hjWiWVm-Wgdq"
      },
      "source": [
        "### 2.\n",
        "\n",
        "Why did the S variable keep the value 0 after starting the function?"
      ]
    },
    {
      "cell_type": "code",
      "execution_count": null,
      "metadata": {
        "id": "5Sat03pgWgdq",
        "colab": {
          "base_uri": "https://localhost:8080/"
        },
        "outputId": "b6fd58e7-77c6-473f-bf42-f8510ca74ce3"
      },
      "outputs": [
        {
          "output_type": "stream",
          "name": "stdout",
          "text": [
            "7\n",
            "0\n"
          ]
        }
      ],
      "source": [
        "S = 0\n",
        "def sum(n, m):\n",
        "    S = n + m\n",
        "    return S\n",
        "\n",
        "print(sum(3, 4))\n",
        "print(S)"
      ]
    },
    {
      "cell_type": "markdown",
      "metadata": {
        "id": "olvemYqlWgdq"
      },
      "source": [
        "**Explanation:** here are 2 variables S: one of them is local and defined inside the sum function, and the other is global and equals 0. From the global scope, we can only call the global variable S, which in our case is equal to 0.\n",
        "<br><br>"
      ]
    },
    {
      "cell_type": "markdown",
      "metadata": {
        "id": "8ZFxefzNWgdr"
      },
      "source": [
        "### 3.\n",
        "\n",
        "Why did you get an error? Explain and correct so that the function can handle input in the `res` example."
      ]
    },
    {
      "cell_type": "code",
      "execution_count": null,
      "metadata": {
        "id": "r8Rez7QmWgdr"
      },
      "outputs": [],
      "source": [
        "def mult(*,q, w, e, r, t, y):\n",
        "    return q + w + e + r + t + y\n",
        "res = mult(q = 1, w = 2, e = 3, r = 4, t = 5, y =6)"
      ]
    },
    {
      "cell_type": "markdown",
      "metadata": {
        "id": "VWuv7Uh-Wgdr"
      },
      "source": [
        "**Explanation:** After \"*\", all parameters must be passed by name.\n",
        "<br><br>"
      ]
    },
    {
      "cell_type": "markdown",
      "metadata": {
        "id": "dtWtCALxWgdr"
      },
      "source": [
        "### 4.\n",
        "\n",
        "Why did you get an error? Correct so that the function can handle the input in the example."
      ]
    },
    {
      "cell_type": "code",
      "execution_count": null,
      "metadata": {
        "id": "H0djplb_Wgds",
        "colab": {
          "base_uri": "https://localhost:8080/"
        },
        "outputId": "e585a438-58ed-43da-c4c4-6b2619322828"
      },
      "outputs": [
        {
          "output_type": "stream",
          "name": "stdout",
          "text": [
            "29\n"
          ]
        }
      ],
      "source": [
        "def mult2(*args):\n",
        "    res = 1\n",
        "    for i in args[0]:\n",
        "        res += i\n",
        "    return res\n",
        "\n",
        "List = [1, 2, 3, 4, 5, 6, 7]\n",
        "print(mult2(List))"
      ]
    },
    {
      "cell_type": "markdown",
      "metadata": {
        "id": "z1C-K0WwWgds"
      },
      "source": [
        "### 5.\n",
        "\n",
        "Why did you get an error? Explain and correct."
      ]
    },
    {
      "cell_type": "code",
      "execution_count": null,
      "metadata": {
        "id": "4HzS3mzCWgds"
      },
      "outputs": [],
      "source": [
        "def some_function(a, b,*args, **kwargs):\n",
        "    pass"
      ]
    },
    {
      "cell_type": "markdown",
      "metadata": {
        "id": "VmvGVEJVWgdt"
      },
      "source": [
        "**Explanation:** The arguments must be passed in the following order:\n",
        "\n",
        "1)Positional arguments\n",
        "\n",
        "2)* arg\n",
        "\n",
        "3)Keyword Arguments\n",
        "\n",
        "4)** kwargs\n",
        "<br><br>"
      ]
    },
    {
      "cell_type": "markdown",
      "metadata": {
        "id": "4R7pnz6PWgdt"
      },
      "source": [
        "### 6.\n",
        "\n",
        "Modify this function so that it prints the product names from the dictionary in the example."
      ]
    },
    {
      "cell_type": "code",
      "execution_count": null,
      "metadata": {
        "id": "bEz2M3fhWgdt",
        "colab": {
          "base_uri": "https://localhost:8080/"
        },
        "outputId": "7a71187b-91f2-4192-8d18-61e3976e49d9"
      },
      "outputs": [
        {
          "output_type": "stream",
          "name": "stdout",
          "text": [
            "apple\n",
            "milk\n",
            "bread\n",
            "pear\n",
            "meat\n"
          ]
        }
      ],
      "source": [
        "def print_all(**kwargs):\n",
        "  for i in kwargs:\n",
        "      print(kwargs[i])\n",
        "\n",
        "print_all(**{'1' : 'apple', '2' :'milk', '3' : 'bread', '4' : 'pear', '5' : 'meat'})\n"
      ]
    },
    {
      "cell_type": "markdown",
      "metadata": {
        "id": "9CcLs8AKWgdt"
      },
      "source": [
        "### 7.\n",
        "\n",
        "\n",
        "Write a function that raises a number to the negative power of a number using recursion. The arguments are a positive integer n (number) and a negative integer m (degree)."
      ]
    },
    {
      "cell_type": "code",
      "execution_count": null,
      "metadata": {
        "id": "h2SBh12cWgdt"
      },
      "outputs": [],
      "source": [
        "########## БЕЗ РЕКУРСИИ ##############\n",
        "\n",
        "# def degree(n, m):\n",
        "#   if m >= 0:\n",
        "#     return n**m\n",
        "#   else:\n",
        "#     s = 1\n",
        "#     while m < 0:\n",
        "#       s *= 1/n\n",
        "#       m += 1\n",
        "#     return s"
      ]
    },
    {
      "cell_type": "code",
      "source": [
        "def degree(n, m):\n",
        "  if m >= 0:\n",
        "    return n**m\n",
        "  else:\n",
        "    return 1/n * degree(n,m+1)"
      ],
      "metadata": {
        "id": "BnccJJCjr49h"
      },
      "execution_count": null,
      "outputs": []
    },
    {
      "cell_type": "code",
      "source": [
        "degree(2, -3)"
      ],
      "metadata": {
        "colab": {
          "base_uri": "https://localhost:8080/"
        },
        "id": "_bD0kfzLpPON",
        "outputId": "f7f50912-0b4f-4b69-ca2b-6ecb17c5d5ba"
      },
      "execution_count": null,
      "outputs": [
        {
          "output_type": "execute_result",
          "data": {
            "text/plain": [
              "0.125"
            ]
          },
          "metadata": {},
          "execution_count": 67
        }
      ]
    },
    {
      "cell_type": "markdown",
      "metadata": {
        "id": "xns0jXj9Wgdu"
      },
      "source": [
        "### 8.\n",
        "\n",
        "Write a function that finds the Fibbonacci number by its number. The argument is a positive integer n (number)."
      ]
    },
    {
      "cell_type": "code",
      "execution_count": null,
      "metadata": {
        "id": "rQwY-KsSWgdu"
      },
      "outputs": [],
      "source": [
        "def Fibbonacci(n):\n",
        "  if n == 1 or n == 2:\n",
        "    return 1\n",
        "  return Fibbonacci(n-1) + Fibbonacci(n-2)"
      ]
    },
    {
      "cell_type": "code",
      "source": [
        "Fibbonacci(6)"
      ],
      "metadata": {
        "colab": {
          "base_uri": "https://localhost:8080/"
        },
        "id": "l6emk--fyaUE",
        "outputId": "b80b4b77-9282-4308-9835-3b50daecd8f1"
      },
      "execution_count": null,
      "outputs": [
        {
          "output_type": "execute_result",
          "data": {
            "text/plain": [
              "8"
            ]
          },
          "metadata": {},
          "execution_count": 78
        }
      ]
    },
    {
      "cell_type": "markdown",
      "metadata": {
        "id": "FPDEW2JkWgdu"
      },
      "source": [
        "### 9.\n",
        "\n",
        "Write a function that converts two lists into a dictionary without using a for loop (with zip function). Then unzip created dictionary.\n",
        "\n",
        "list1 = [1,2,3,4,5]\n",
        "list2 = ['apple', 'milk', 'bread', 'pear','meat']"
      ]
    },
    {
      "cell_type": "code",
      "execution_count": 11,
      "metadata": {
        "id": "2vPVmAmqWgdu",
        "colab": {
          "base_uri": "https://localhost:8080/"
        },
        "outputId": "a8cc0e4c-a3a5-4b97-a597-d86d471d96f0"
      },
      "outputs": [
        {
          "output_type": "execute_result",
          "data": {
            "text/plain": [
              "{1: 'apple', 2: 'milk', 3: 'bread', 4: 'pear', 5: 'meat'}"
            ]
          },
          "metadata": {},
          "execution_count": 11
        }
      ],
      "source": [
        "list1 = [1,2,3,4,5]\n",
        "list2 = ['apple', 'milk', 'bread', 'pear','meat']\n",
        "\n",
        "def dict_conv(a,b):\n",
        "  return dict(zip(a,b))\n",
        "\n",
        "zip_dict = dict_conv(list1,list2)\n",
        "zip_dict"
      ]
    },
    {
      "cell_type": "code",
      "source": [
        "list1, list2 = zip(*zip(list1, list2))\n",
        "list1 = list(list1)\n",
        "list2 = list(list2)\n",
        "list1"
      ],
      "metadata": {
        "colab": {
          "base_uri": "https://localhost:8080/"
        },
        "id": "_XzObLzaKsKB",
        "outputId": "0b10a3a6-fb6f-4a74-96b6-2940799c16b4"
      },
      "execution_count": 18,
      "outputs": [
        {
          "output_type": "execute_result",
          "data": {
            "text/plain": [
              "[1, 2, 3, 4, 5]"
            ]
          },
          "metadata": {},
          "execution_count": 18
        }
      ]
    }
  ],
  "metadata": {
    "kernelspec": {
      "display_name": "Python 3 (ipykernel)",
      "language": "python",
      "name": "python3"
    },
    "language_info": {
      "codemirror_mode": {
        "name": "ipython",
        "version": 3
      },
      "file_extension": ".py",
      "mimetype": "text/x-python",
      "name": "python",
      "nbconvert_exporter": "python",
      "pygments_lexer": "ipython3",
      "version": "3.9.7"
    },
    "colab": {
      "provenance": []
    }
  },
  "nbformat": 4,
  "nbformat_minor": 0
}