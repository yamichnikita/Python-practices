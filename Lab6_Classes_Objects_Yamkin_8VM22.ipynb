{
 "cells": [
  {
   "cell_type": "markdown",
   "metadata": {
    "id": "UGLgDMN8Yoh1"
   },
   "source": [
    "# Practical work 5"
   ]
  },
  {
   "cell_type": "markdown",
   "metadata": {
    "id": "Q9cH9fqxYoh3"
   },
   "source": [
    "."
   ]
  },
  {
   "cell_type": "markdown",
   "metadata": {
    "id": "Vw7mGubAYoh4"
   },
   "source": [
    "## Classes and Objects"
   ]
  },
  {
   "cell_type": "markdown",
   "metadata": {
    "id": "ikz_pn6cYoh5"
   },
   "source": [
    "."
   ]
  },
  {
   "cell_type": "markdown",
   "metadata": {
    "id": "O7GUXhl4Yoh6"
   },
   "source": [
    "Python is an object oriented programming language.\n",
    "\n",
    "Almost everything in Python is an object, with its properties and methods.\n",
    "\n",
    "A Class is like an object constructor, or a \"blueprint\" for creating objects."
   ]
  },
  {
   "cell_type": "markdown",
   "metadata": {
    "id": "Pmx9hxoRYoh6"
   },
   "source": [
    "### Create a Class"
   ]
  },
  {
   "cell_type": "markdown",
   "metadata": {
    "id": "PKuurzYEYoh8"
   },
   "source": [
    "To create a class, use the keyword class:\n",
    "    <br><br>"
   ]
  },
  {
   "cell_type": "markdown",
   "metadata": {
    "id": "jNDv8_n3Yoh8"
   },
   "source": [
    "Create a `class` named MyClass, with a property named x:"
   ]
  },
  {
   "cell_type": "code",
   "execution_count": null,
   "metadata": {
    "id": "s7k_m_U0Yoh8"
   },
   "outputs": [],
   "source": [
    "class MyClass:\n",
    "    x = 5"
   ]
  },
  {
   "cell_type": "markdown",
   "metadata": {
    "id": "as7VzbUwYoh9"
   },
   "source": [
    "### Create Object"
   ]
  },
  {
   "cell_type": "markdown",
   "metadata": {
    "id": "vvS9FRu1Yoh-"
   },
   "source": [
    "Now we can use the class named MyClass to create objects:\n",
    "<br><br>"
   ]
  },
  {
   "cell_type": "markdown",
   "metadata": {
    "id": "gJ9BrRJ3Yoh-"
   },
   "source": [
    "Create an object named p1, and print the value of x:"
   ]
  },
  {
   "cell_type": "code",
   "execution_count": null,
   "metadata": {
    "id": "qAWmF-_pYoh_",
    "outputId": "229d890f-e506-46f0-9984-52814b7c906b"
   },
   "outputs": [
    {
     "name": "stdout",
     "output_type": "stream",
     "text": [
      "5\n"
     ]
    }
   ],
   "source": [
    "p1 = MyClass()\n",
    "print(p1.x)"
   ]
  },
  {
   "cell_type": "markdown",
   "metadata": {
    "id": "IsyWW2vxYoh_"
   },
   "source": [
    "### The __init__() Function"
   ]
  },
  {
   "cell_type": "markdown",
   "metadata": {
    "id": "bxqwsnWLYoiA"
   },
   "source": [
    "The examples above are classes and objects in their simplest form, and are not really useful in real life applications.\n",
    "\n",
    "To understand the meaning of classes we have to understand the built-in __init__() function.\n",
    "\n",
    "All classes have a function called __init__(), which is always executed when the class is being initiated.\n",
    "\n",
    "Use the __init__() function to assign values to object properties, or other operations that are necessary to do when the object is being created:\n",
    "<br><br>"
   ]
  },
  {
   "cell_type": "markdown",
   "metadata": {
    "id": "-zpXpZ1IYoiA"
   },
   "source": [
    "Create a class named Person, use the __init__() function to assign values for name and age:"
   ]
  },
  {
   "cell_type": "code",
   "execution_count": null,
   "metadata": {
    "id": "WOheDtXyYoiA",
    "outputId": "d2ad05ec-15ff-4896-cebe-3d346bf76dcc"
   },
   "outputs": [
    {
     "name": "stdout",
     "output_type": "stream",
     "text": [
      "John\n",
      "36\n"
     ]
    }
   ],
   "source": [
    "class Person:\n",
    "    def __init__(self, name, age):\n",
    "        self.name = name\n",
    "        self.age = age\n",
    "\n",
    "p1 = Person(\"John\", 36)\n",
    "\n",
    "print(p1.name)\n",
    "print(p1.age)"
   ]
  },
  {
   "cell_type": "markdown",
   "metadata": {
    "id": "lh6Zk1AlYoiB"
   },
   "source": [
    "**The __init__() function is called automatically every time the class is being used to create a new object.**"
   ]
  },
  {
   "cell_type": "markdown",
   "metadata": {
    "id": "1yAgnpb0YoiB"
   },
   "source": [
    "### Object Methods"
   ]
  },
  {
   "cell_type": "markdown",
   "metadata": {
    "id": "bfovSjr6YoiB"
   },
   "source": [
    "Objects can also contain methods. Methods in objects are functions that belong to the object.\n",
    "\n",
    "Let us create a method in the Person class:\n",
    "<br><br>"
   ]
  },
  {
   "cell_type": "markdown",
   "metadata": {
    "id": "3CNkhF1SYoiB"
   },
   "source": [
    "Insert a function that prints a greeting, and execute it on the p1 object:"
   ]
  },
  {
   "cell_type": "code",
   "execution_count": null,
   "metadata": {
    "id": "1HMybZqSYoiB",
    "outputId": "680136f0-405c-4118-8f45-ad16cff1df29"
   },
   "outputs": [
    {
     "name": "stdout",
     "output_type": "stream",
     "text": [
      "Hello my name is John\n"
     ]
    }
   ],
   "source": [
    "class Person:\n",
    "    def __init__(self, name, age):\n",
    "        self.name = name\n",
    "        self.age = age\n",
    "\n",
    "    def myfunc(self):\n",
    "        print(\"Hello my name is \" + self.name)\n",
    "\n",
    "p1 = Person(\"John\", 36)\n",
    "p1.myfunc()"
   ]
  },
  {
   "cell_type": "markdown",
   "metadata": {
    "id": "GeXx-T8lYoiC"
   },
   "source": [
    "Note: The self parameter is a reference to the current instance of the class, and is used to access variables that belong to the class."
   ]
  },
  {
   "cell_type": "markdown",
   "metadata": {
    "id": "AUSbvJW6YoiC"
   },
   "source": [
    "### The self Parameter"
   ]
  },
  {
   "cell_type": "markdown",
   "metadata": {
    "id": "459p-zFIYoiC"
   },
   "source": [
    "The self parameter is a reference to the current instance of the `class`, and is used to access variables that belongs to the `class`.\n",
    "\n",
    "It does not have to be named self , you can call it whatever you like, but it has to be the first parameter of any function in the class:\n",
    "<br><br>"
   ]
  },
  {
   "cell_type": "markdown",
   "metadata": {
    "id": "70AnvS52YoiD"
   },
   "source": [
    "Use the words mysillyobject and abc instead of self:"
   ]
  },
  {
   "cell_type": "code",
   "execution_count": null,
   "metadata": {
    "id": "TI0izvNgYoiD",
    "outputId": "e39e8ea9-bb8e-44a9-bf76-b07e56c46201"
   },
   "outputs": [
    {
     "name": "stdout",
     "output_type": "stream",
     "text": [
      "Hello my name is John\n"
     ]
    }
   ],
   "source": [
    "class Person:\n",
    "    def __init__(mysillyobject, name, age):\n",
    "        mysillyobject.name = name\n",
    "        mysillyobject.age = age\n",
    "\n",
    "    def myfunc(abc):\n",
    "        print(\"Hello my name is \" + abc.name)\n",
    "\n",
    "p1 = Person(\"John\", 36)\n",
    "p1.myfunc()"
   ]
  },
  {
   "cell_type": "markdown",
   "metadata": {
    "id": "BZ-B8R2nYoiD"
   },
   "source": [
    "### Modify Object Properties"
   ]
  },
  {
   "cell_type": "markdown",
   "metadata": {
    "id": "GT76p3U6YoiD"
   },
   "source": [
    "You can modify properties on objects like this:\n",
    "<br><br>"
   ]
  },
  {
   "cell_type": "markdown",
   "metadata": {
    "id": "-xTK4UQ_YoiD"
   },
   "source": [
    "Set the age of p1 to 40:"
   ]
  },
  {
   "cell_type": "code",
   "execution_count": null,
   "metadata": {
    "id": "dE5xjIRIYoiE"
   },
   "outputs": [],
   "source": [
    "p1.age = 40"
   ]
  },
  {
   "cell_type": "markdown",
   "metadata": {
    "id": "Ggai-dVhYoiE"
   },
   "source": [
    "### Delete Objects"
   ]
  },
  {
   "cell_type": "markdown",
   "metadata": {
    "id": "ozcGaXqDYoiE"
   },
   "source": [
    "You can delete objects by using the `del` keyword:\n",
    "    <br><br>"
   ]
  },
  {
   "cell_type": "markdown",
   "metadata": {
    "id": "km54IUhFYoiE"
   },
   "source": [
    "Delete the p1 object:"
   ]
  },
  {
   "cell_type": "code",
   "execution_count": null,
   "metadata": {
    "id": "6XohctArYoiF"
   },
   "outputs": [],
   "source": [
    "del p1"
   ]
  },
  {
   "cell_type": "markdown",
   "metadata": {
    "id": "c1KeoMitYoiF"
   },
   "source": [
    "### The pass Statement"
   ]
  },
  {
   "cell_type": "markdown",
   "metadata": {
    "id": "LYgmfeheYoiF"
   },
   "source": [
    "`class` definitions cannot be empty, but if you for some reason have a `class` definition with no content, put in the `pass` statement to avoid getting an error."
   ]
  },
  {
   "cell_type": "code",
   "execution_count": null,
   "metadata": {
    "id": "o5Bb1Em7YoiF"
   },
   "outputs": [],
   "source": [
    "class Person:\n",
    "    pass"
   ]
  },
  {
   "cell_type": "markdown",
   "metadata": {
    "id": "gYvxm4-ZYoiG"
   },
   "source": [
    "<br>"
   ]
  },
  {
   "cell_type": "markdown",
   "metadata": {
    "id": "L0y4ar0pYoiG"
   },
   "source": [
    "### Example"
   ]
  },
  {
   "cell_type": "code",
   "execution_count": null,
   "metadata": {
    "id": "bnMdJ9pPYoiG",
    "outputId": "82e114d3-11f0-4d00-ed27-4e36274c9381"
   },
   "outputs": [
    {
     "name": "stdout",
     "output_type": "stream",
     "text": [
      "Guest\n",
      "25\n"
     ]
    }
   ],
   "source": [
    "class Student:\n",
    "    def __init__(self, name=\"Guest\", age=25):\n",
    "        self.name=name\n",
    "        self.age=age\n",
    "\n",
    "std = Student()\n",
    "print(std.name)\n",
    "print(std.age)\n"
   ]
  },
  {
   "cell_type": "code",
   "execution_count": null,
   "metadata": {
    "id": "DUrrcyOdYoiH",
    "outputId": "b01beddc-38f5-4218-a9e8-ec43427c25b5"
   },
   "outputs": [
    {
     "name": "stdout",
     "output_type": "stream",
     "text": [
      "Hello my name is John\n"
     ]
    }
   ],
   "source": [
    "class Person:\n",
    "    def __init__(mysillyobject, name, age):\n",
    "        mysillyobject.name = name\n",
    "        mysillyobject.age = age\n",
    "\n",
    "    def myfunc(abc):\n",
    "        print(\"Hello my name is \" + abc.name)\n",
    "\n",
    "p1 = Person(\"John\", 36)\n",
    "p1.myfunc()"
   ]
  },
  {
   "cell_type": "markdown",
   "metadata": {
    "id": "hiMOv5WCYoiH"
   },
   "source": [
    "# Home work"
   ]
  },
  {
   "cell_type": "markdown",
   "metadata": {
    "id": "4G1Hs4OdYoiH"
   },
   "source": [
    "<br>"
   ]
  },
  {
   "cell_type": "markdown",
   "metadata": {
    "id": "YJl9XsVsYoiH"
   },
   "source": [
    "**1)** Write a `Fraction` class to work with fractions. Let the fraction in our class appear as a `numerator / denominator`. A fractional number must be generated by requesting `Fraction (a, b)`, where `a` is the numerator and `b` is the denominator of the fraction.\n"
   ]
  },
  {
   "cell_type": "markdown",
   "metadata": {
    "id": "iO9B1aa-YoiH"
   },
   "source": [
    "**2)** Add the ability to` add `(addition via the addition operator) for the fraction. It is assumed that the addition operation can be performed both only between fractions and between a fraction and an integer. The result of the operation must be presented as a fraction."
   ]
  },
  {
   "cell_type": "markdown",
   "metadata": {
    "id": "KRq78pTQYoiI"
   },
   "source": [
    "**3)** Add the ability to take the `difference` (subtraction through the subtraction operator) for fractions. It is assumed that the subtraction operation can be performed both for only two fractions, and for a fraction and an integer. The result of the operation must be presented as a fraction.\n"
   ]
  },
  {
   "cell_type": "markdown",
   "metadata": {
    "id": "uCfjm8zPYoiI"
   },
   "source": [
    "**4)** Add `multiplication` capability (multiplication via the multiplication operator) for fractions. It is assumed that the multiplication operation can be performed both for two fractions only, and for a fraction and an integer. The result of the operation must be presented as a fraction."
   ]
  },
  {
   "cell_type": "code",
   "execution_count": null,
   "metadata": {
    "id": "vl-etMzHYoiI"
   },
   "outputs": [],
   "source": [
    "class Fraction:\n",
    "  def __init__(self, numerator, denominator):\n",
    "    self.numerator = numerator\n",
    "    self.denominator = denominator\n",
    "\n",
    "  def division(self):\n",
    "    try:\n",
    "      self.numerator / self.denominator\n",
    "    except ZeroDivisionError:\n",
    "      print('Error! Division by zero is impossible!')\n",
    "    else:\n",
    "      return self.numerator / self.denominator\n",
    "  \n",
    "  def add(self, summand):\n",
    "    return (self.division() + summand)\n",
    "\n",
    "  def diff(self, sub):\n",
    "    return (self.division() - sub)\n",
    "\n",
    "  def multiplic(self, multiplier):\n",
    "    return (self.division() * multiplier)"
   ]
  },
  {
   "cell_type": "code",
   "execution_count": null,
   "metadata": {
    "id": "L1HNjRqUyIeq"
   },
   "outputs": [],
   "source": [
    "fraction = Fraction(1,2)"
   ]
  },
  {
   "cell_type": "code",
   "execution_count": null,
   "metadata": {
    "colab": {
     "base_uri": "https://localhost:8080/"
    },
    "id": "KiQwVcSMyP5p",
    "outputId": "6e91704a-eb3f-4e1f-f5a8-f51f0efaa969"
   },
   "outputs": [
    {
     "data": {
      "text/plain": [
       "0.5"
      ]
     },
     "execution_count": 28,
     "metadata": {},
     "output_type": "execute_result"
    }
   ],
   "source": [
    "fraction.division()"
   ]
  },
  {
   "cell_type": "code",
   "execution_count": null,
   "metadata": {
    "colab": {
     "base_uri": "https://localhost:8080/"
    },
    "id": "VnmpOYxFyRwA",
    "outputId": "0aebb4e1-b5d3-4691-e2a8-36040371ea43"
   },
   "outputs": [
    {
     "data": {
      "text/plain": [
       "23.5"
      ]
     },
     "execution_count": 29,
     "metadata": {},
     "output_type": "execute_result"
    }
   ],
   "source": [
    "fraction.add(23)"
   ]
  },
  {
   "cell_type": "code",
   "execution_count": null,
   "metadata": {
    "colab": {
     "base_uri": "https://localhost:8080/"
    },
    "id": "5U27qlV8yVN_",
    "outputId": "44c76f27-83d4-4ca8-9ac2-af4a8e7d13b8"
   },
   "outputs": [
    {
     "data": {
      "text/plain": [
       "-2.5"
      ]
     },
     "execution_count": 30,
     "metadata": {},
     "output_type": "execute_result"
    }
   ],
   "source": [
    "fraction.diff(3)"
   ]
  },
  {
   "cell_type": "code",
   "execution_count": null,
   "metadata": {
    "colab": {
     "base_uri": "https://localhost:8080/"
    },
    "id": "U5VCCuBEydNv",
    "outputId": "2875f503-9a1c-43bf-8ad4-b20c30b763dd"
   },
   "outputs": [
    {
     "data": {
      "text/plain": [
       "2.5"
      ]
     },
     "execution_count": 31,
     "metadata": {},
     "output_type": "execute_result"
    }
   ],
   "source": [
    "fraction.multiplic(5)"
   ]
  },
  {
   "cell_type": "code",
   "execution_count": null,
   "metadata": {
    "id": "8ypW8PN5ymNN"
   },
   "outputs": [],
   "source": [
    "fraction_1 = Fraction(1,0)"
   ]
  },
  {
   "cell_type": "code",
   "execution_count": null,
   "metadata": {
    "colab": {
     "base_uri": "https://localhost:8080/"
    },
    "id": "u6hEy3yUyua0",
    "outputId": "3cb3ef8d-5f2e-44aa-95bf-b13c29cb2ba4"
   },
   "outputs": [
    {
     "name": "stdout",
     "output_type": "stream",
     "text": [
      "Error! Division by zero is impossible!\n"
     ]
    }
   ],
   "source": [
    "fraction_1.division()"
   ]
  },
  {
   "cell_type": "code",
   "execution_count": null,
   "metadata": {
    "id": "EHblR0L0y1L0"
   },
   "outputs": [],
   "source": [
    "fraction_2 = Fraction(3,5)"
   ]
  },
  {
   "cell_type": "code",
   "execution_count": null,
   "metadata": {
    "colab": {
     "base_uri": "https://localhost:8080/"
    },
    "id": "XvGdAKYxy5d7",
    "outputId": "b4f625aa-d3cb-4b2d-8c8a-8d51e3e91bf0"
   },
   "outputs": [
    {
     "data": {
      "text/plain": [
       "4.6"
      ]
     },
     "execution_count": 35,
     "metadata": {},
     "output_type": "execute_result"
    }
   ],
   "source": [
    "fraction_2.add(4)"
   ]
  },
  {
   "cell_type": "code",
   "execution_count": null,
   "metadata": {
    "colab": {
     "base_uri": "https://localhost:8080/"
    },
    "id": "WnzbGed619gk",
    "outputId": "29de9db8-2286-4bc0-b92b-6ec28ab853b6"
   },
   "outputs": [
    {
     "data": {
      "text/plain": [
       "1.2"
      ]
     },
     "execution_count": 36,
     "metadata": {},
     "output_type": "execute_result"
    }
   ],
   "source": [
    "fraction_2.multiplic(2)"
   ]
  },
  {
   "cell_type": "code",
   "execution_count": null,
   "metadata": {
    "id": "KTl69S0r4hkN"
   },
   "outputs": [],
   "source": [
    "fraction_3 = Fraction(3,0)"
   ]
  },
  {
   "cell_type": "code",
   "execution_count": null,
   "metadata": {
    "colab": {
     "base_uri": "https://localhost:8080/",
     "height": 312
    },
    "id": "fWRpBEBh4nyl",
    "outputId": "63cbadd7-011d-496e-a3c3-87f8697e8bbf"
   },
   "outputs": [
    {
     "name": "stdout",
     "output_type": "stream",
     "text": [
      "Error! Division by zero is impossible!\n"
     ]
    },
    {
     "ename": "TypeError",
     "evalue": "ignored",
     "output_type": "error",
     "traceback": [
      "\u001b[0;31m---------------------------------------------------------------------------\u001b[0m",
      "\u001b[0;31mTypeError\u001b[0m                                 Traceback (most recent call last)",
      "\u001b[0;32m<ipython-input-38-d79952e4121c>\u001b[0m in \u001b[0;36m<module>\u001b[0;34m\u001b[0m\n\u001b[0;32m----> 1\u001b[0;31m \u001b[0mfraction_3\u001b[0m\u001b[0;34m.\u001b[0m\u001b[0madd\u001b[0m\u001b[0;34m(\u001b[0m\u001b[0;36m10\u001b[0m\u001b[0;34m)\u001b[0m\u001b[0;34m\u001b[0m\u001b[0;34m\u001b[0m\u001b[0m\n\u001b[0m",
      "\u001b[0;32m<ipython-input-26-c5e294a70f1e>\u001b[0m in \u001b[0;36madd\u001b[0;34m(self, summand)\u001b[0m\n\u001b[1;32m     13\u001b[0m \u001b[0;34m\u001b[0m\u001b[0m\n\u001b[1;32m     14\u001b[0m   \u001b[0;32mdef\u001b[0m \u001b[0madd\u001b[0m\u001b[0;34m(\u001b[0m\u001b[0mself\u001b[0m\u001b[0;34m,\u001b[0m \u001b[0msummand\u001b[0m\u001b[0;34m)\u001b[0m\u001b[0;34m:\u001b[0m\u001b[0;34m\u001b[0m\u001b[0;34m\u001b[0m\u001b[0m\n\u001b[0;32m---> 15\u001b[0;31m     \u001b[0;32mreturn\u001b[0m \u001b[0;34m(\u001b[0m\u001b[0mself\u001b[0m\u001b[0;34m.\u001b[0m\u001b[0mdivision\u001b[0m\u001b[0;34m(\u001b[0m\u001b[0;34m)\u001b[0m \u001b[0;34m+\u001b[0m \u001b[0msummand\u001b[0m\u001b[0;34m)\u001b[0m\u001b[0;34m\u001b[0m\u001b[0;34m\u001b[0m\u001b[0m\n\u001b[0m\u001b[1;32m     16\u001b[0m \u001b[0;34m\u001b[0m\u001b[0m\n\u001b[1;32m     17\u001b[0m   \u001b[0;32mdef\u001b[0m \u001b[0mdiff\u001b[0m\u001b[0;34m(\u001b[0m\u001b[0mself\u001b[0m\u001b[0;34m,\u001b[0m \u001b[0msub\u001b[0m\u001b[0;34m)\u001b[0m\u001b[0;34m:\u001b[0m\u001b[0;34m\u001b[0m\u001b[0;34m\u001b[0m\u001b[0m\n",
      "\u001b[0;31mTypeError\u001b[0m: unsupported operand type(s) for +: 'NoneType' and 'int'"
     ]
    }
   ],
   "source": [
    "fraction_3.add(10)"
   ]
  }
 ],
 "metadata": {
  "colab": {
   "provenance": []
  },
  "kernelspec": {
   "display_name": "Python 3 (ipykernel)",
   "language": "python",
   "name": "python3"
  },
  "language_info": {
   "codemirror_mode": {
    "name": "ipython",
    "version": 3
   },
   "file_extension": ".py",
   "mimetype": "text/x-python",
   "name": "python",
   "nbconvert_exporter": "python",
   "pygments_lexer": "ipython3",
   "version": "3.10.16"
  }
 },
 "nbformat": 4,
 "nbformat_minor": 4
}
