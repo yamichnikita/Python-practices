{
  "cells": [
    {
      "cell_type": "markdown",
      "metadata": {
        "id": "sY9N8svsrWV8"
      },
      "source": [
        "# Practical work 4"
      ]
    },
    {
      "cell_type": "markdown",
      "metadata": {
        "id": "L1PM2_-0rWWB"
      },
      "source": [
        "## Exception Handling"
      ]
    },
    {
      "cell_type": "markdown",
      "metadata": {
        "id": "_itANq8IrWWD"
      },
      "source": [
        ".\n",
        "\n",
        ".\n",
        "\n",
        "."
      ]
    },
    {
      "cell_type": "markdown",
      "metadata": {
        "id": "YaCs58bMrWWE"
      },
      "source": [
        "\n",
        "The `try` block lets you test a block of code for errors.\n",
        "\n",
        "The `except` block lets you handle the error.\n",
        "\n",
        "The `finally` block lets you execute code, regardless of the result of the try- and except blocks."
      ]
    },
    {
      "cell_type": "markdown",
      "metadata": {
        "id": "1fEkmqHhrWWG"
      },
      "source": [
        "### Exception Handling\n",
        "\n",
        "\n",
        "When an error occurs, or exception as we call it, Python will normally stop and generate an error message.\n",
        "These exceptions can be handled using the **try** statement:"
      ]
    },
    {
      "cell_type": "markdown",
      "metadata": {
        "id": "_GsnQowCrWWG"
      },
      "source": [
        "The try block will generate an exception, because x is not defined:"
      ]
    },
    {
      "cell_type": "code",
      "execution_count": null,
      "metadata": {
        "id": "dF_pVfOIrWWI",
        "outputId": "42a8505b-0069-4917-deb7-0d20032bf893"
      },
      "outputs": [
        {
          "name": "stdout",
          "output_type": "stream",
          "text": [
            "An exception occurred\n"
          ]
        }
      ],
      "source": [
        "try:\n",
        "    print(x)\n",
        "except:\n",
        "    print(\"An exception occurred\")"
      ]
    },
    {
      "cell_type": "markdown",
      "metadata": {
        "id": "dnOl7oYIrWWL"
      },
      "source": [
        "Since the try block raises an error, the except block will be executed.\n",
        "\n",
        "Without the try block, the program will crash and raise an error:`"
      ]
    },
    {
      "cell_type": "code",
      "execution_count": null,
      "metadata": {
        "id": "Js8FLg76rWWM",
        "outputId": "baba2ea4-4b55-442a-f4d0-ad6d13f36ccf"
      },
      "outputs": [
        {
          "ename": "NameError",
          "evalue": "name 'x' is not defined",
          "output_type": "error",
          "traceback": [
            "\u001b[1;31m---------------------------------------------------------------------------\u001b[0m",
            "\u001b[1;31mNameError\u001b[0m                                 Traceback (most recent call last)",
            "\u001b[1;32m<ipython-input-5-fc17d851ef81>\u001b[0m in \u001b[0;36m<module>\u001b[1;34m\u001b[0m\n\u001b[1;32m----> 1\u001b[1;33m \u001b[0mprint\u001b[0m\u001b[1;33m(\u001b[0m\u001b[0mx\u001b[0m\u001b[1;33m)\u001b[0m\u001b[1;33m\u001b[0m\u001b[1;33m\u001b[0m\u001b[0m\n\u001b[0m",
            "\u001b[1;31mNameError\u001b[0m: name 'x' is not defined"
          ]
        }
      ],
      "source": [
        "print(x)"
      ]
    },
    {
      "cell_type": "markdown",
      "metadata": {
        "id": "VJJ8fjPYrWWM"
      },
      "source": [
        "### Many Exceptions\n",
        "\n",
        "You can define as many exception blocks as you want, e.g. if you want to execute a special block of code for a special kind of error:"
      ]
    },
    {
      "cell_type": "markdown",
      "metadata": {
        "id": "H2TUmIVLrWWN"
      },
      "source": [
        "Print one message if the try block raises a **NameError** and another for other errors:"
      ]
    },
    {
      "cell_type": "code",
      "execution_count": null,
      "metadata": {
        "id": "PxJZicmorWWN",
        "outputId": "da8c5b5b-a117-4c5c-da88-4bb74bfce627"
      },
      "outputs": [
        {
          "name": "stdout",
          "output_type": "stream",
          "text": [
            "Variable x is not defined\n"
          ]
        }
      ],
      "source": [
        "try:\n",
        "    print(x)\n",
        "except NameError:\n",
        "    print(\"Variable x is not defined\")\n",
        "except:\n",
        "    print(\"Something else went wrong\")"
      ]
    },
    {
      "cell_type": "markdown",
      "metadata": {
        "id": "9hmzRMmdrWWO"
      },
      "source": [
        "### Else\n",
        "\n",
        "You can use the else keyword to define a block of code to be executed if no errors were raised:"
      ]
    },
    {
      "cell_type": "markdown",
      "metadata": {
        "id": "Dw-75mmDrWWO"
      },
      "source": [
        "In this example, the try block does not generate any error:"
      ]
    },
    {
      "cell_type": "code",
      "execution_count": null,
      "metadata": {
        "colab": {
          "base_uri": "https://localhost:8080/"
        },
        "id": "-iFNybunrWWP",
        "outputId": "60344403-f75f-4108-b0c9-c90d897e0cdd"
      },
      "outputs": [
        {
          "output_type": "stream",
          "name": "stdout",
          "text": [
            "Hello\n",
            "Nothing went wrong\n"
          ]
        }
      ],
      "source": [
        "try:\n",
        "    print(\"Hello\")\n",
        "except:\n",
        "    print(\"Something went wrong\")\n",
        "else:\n",
        "    print(\"Nothing went wrong\")"
      ]
    },
    {
      "cell_type": "markdown",
      "metadata": {
        "id": "T1QPNvmgrWWP"
      },
      "source": [
        "### Finally\n",
        "\n",
        "The finally block, if specified, will be executed regardless if the try block raises an error or not."
      ]
    },
    {
      "cell_type": "code",
      "execution_count": null,
      "metadata": {
        "id": "9J4bwrW8rWWQ",
        "outputId": "02625d23-f703-4046-89d0-846611cbe655"
      },
      "outputs": [
        {
          "name": "stdout",
          "output_type": "stream",
          "text": [
            "Something went wrong\n",
            "The 'try except' is finished\n"
          ]
        }
      ],
      "source": [
        "try:\n",
        "    print(x)\n",
        "except:\n",
        "    print(\"Something went wrong\")\n",
        "finally:\n",
        "    print(\"The 'try except' is finished\")"
      ]
    },
    {
      "cell_type": "markdown",
      "metadata": {
        "id": "2nc_Cq4prWWQ"
      },
      "source": [
        "This can be useful to close objects and clean up resources:"
      ]
    },
    {
      "cell_type": "markdown",
      "metadata": {
        "id": "ZP1t6IeprWWR"
      },
      "source": [
        "Try to open and write to a file that is not writable:"
      ]
    },
    {
      "cell_type": "code",
      "execution_count": null,
      "metadata": {
        "id": "4ntmhPeBrWWR",
        "outputId": "421da1b1-6227-4465-b7e5-bc4bc7c39714"
      },
      "outputs": [
        {
          "name": "stdout",
          "output_type": "stream",
          "text": [
            "Something went wrong when writing to the file\n"
          ]
        },
        {
          "ename": "NameError",
          "evalue": "name 'f' is not defined",
          "output_type": "error",
          "traceback": [
            "\u001b[1;31m---------------------------------------------------------------------------\u001b[0m",
            "\u001b[1;31mNameError\u001b[0m                                 Traceback (most recent call last)",
            "\u001b[1;32m<ipython-input-10-e5a81943faae>\u001b[0m in \u001b[0;36m<module>\u001b[1;34m\u001b[0m\n\u001b[0;32m      5\u001b[0m     \u001b[0mprint\u001b[0m\u001b[1;33m(\u001b[0m\u001b[1;34m\"Something went wrong when writing to the file\"\u001b[0m\u001b[1;33m)\u001b[0m\u001b[1;33m\u001b[0m\u001b[1;33m\u001b[0m\u001b[0m\n\u001b[0;32m      6\u001b[0m \u001b[1;32mfinally\u001b[0m\u001b[1;33m:\u001b[0m\u001b[1;33m\u001b[0m\u001b[1;33m\u001b[0m\u001b[0m\n\u001b[1;32m----> 7\u001b[1;33m     \u001b[0mf\u001b[0m\u001b[1;33m.\u001b[0m\u001b[0mclose\u001b[0m\u001b[1;33m(\u001b[0m\u001b[1;33m)\u001b[0m\u001b[1;33m\u001b[0m\u001b[1;33m\u001b[0m\u001b[0m\n\u001b[0m",
            "\u001b[1;31mNameError\u001b[0m: name 'f' is not defined"
          ]
        }
      ],
      "source": [
        "try:\n",
        "    f = open(\"demofile.txt\")\n",
        "    f.write(\"Lorum Ipsum\")\n",
        "except:\n",
        "    print(\"Something went wrong when writing to the file\")\n",
        "finally:\n",
        "    f.close()"
      ]
    },
    {
      "cell_type": "markdown",
      "metadata": {
        "id": "9fz-cPgWrWWS"
      },
      "source": [
        "The program can continue, without leaving the file object open."
      ]
    },
    {
      "cell_type": "markdown",
      "metadata": {
        "id": "jrggNGQIrWWS"
      },
      "source": [
        "### Raise an exception\n",
        "\n",
        "As a Python developer you can choose to throw an exception if a condition occurs.\n",
        "\n",
        "To throw (or raise) an exception, use the `raise` keyword."
      ]
    },
    {
      "cell_type": "markdown",
      "metadata": {
        "id": "WqKWjjUprWWT"
      },
      "source": [
        "**Raise** an error and **stop** the program if x is lower than 0:"
      ]
    },
    {
      "cell_type": "code",
      "execution_count": null,
      "metadata": {
        "id": "KMHnHSUOrWWT",
        "outputId": "8f89c3cf-af39-4fe0-c876-a4b57cbea089"
      },
      "outputs": [
        {
          "ename": "Exception",
          "evalue": "Sorry, no numbers below zero",
          "output_type": "error",
          "traceback": [
            "\u001b[1;31m---------------------------------------------------------------------------\u001b[0m",
            "\u001b[1;31mException\u001b[0m                                 Traceback (most recent call last)",
            "\u001b[1;32m<ipython-input-12-38174769ef86>\u001b[0m in \u001b[0;36m<module>\u001b[1;34m\u001b[0m\n\u001b[0;32m      2\u001b[0m \u001b[1;33m\u001b[0m\u001b[0m\n\u001b[0;32m      3\u001b[0m \u001b[1;32mif\u001b[0m \u001b[0mx\u001b[0m \u001b[1;33m<\u001b[0m \u001b[1;36m0\u001b[0m\u001b[1;33m:\u001b[0m\u001b[1;33m\u001b[0m\u001b[1;33m\u001b[0m\u001b[0m\n\u001b[1;32m----> 4\u001b[1;33m     \u001b[1;32mraise\u001b[0m \u001b[0mException\u001b[0m\u001b[1;33m(\u001b[0m\u001b[1;34m\"Sorry, no numbers below zero\"\u001b[0m\u001b[1;33m)\u001b[0m\u001b[1;33m\u001b[0m\u001b[1;33m\u001b[0m\u001b[0m\n\u001b[0m",
            "\u001b[1;31mException\u001b[0m: Sorry, no numbers below zero"
          ]
        }
      ],
      "source": [
        "x = -1\n",
        "\n",
        "if x < 0:\n",
        "    raise Exception(\"Sorry, no numbers below zero\")"
      ]
    },
    {
      "cell_type": "markdown",
      "metadata": {
        "id": "87nnKV_4rWWU"
      },
      "source": [
        "## The **raise** keyword is used to **raise** an exception.\n",
        "\n",
        "You can define what kind of error to raise, and the text to print to the user."
      ]
    },
    {
      "cell_type": "markdown",
      "metadata": {
        "id": "L5dGyly_rWWU"
      },
      "source": [
        "Raise a TypeError if x is not an integer:"
      ]
    },
    {
      "cell_type": "code",
      "execution_count": null,
      "metadata": {
        "id": "80bseU49rWWV",
        "outputId": "88ec55eb-78b4-49d3-e56d-89bab004f801"
      },
      "outputs": [
        {
          "ename": "TypeError",
          "evalue": "Only integers are allowed",
          "output_type": "error",
          "traceback": [
            "\u001b[1;31m---------------------------------------------------------------------------\u001b[0m",
            "\u001b[1;31mTypeError\u001b[0m                                 Traceback (most recent call last)",
            "\u001b[1;32m<ipython-input-14-75047f5dae4a>\u001b[0m in \u001b[0;36m<module>\u001b[1;34m\u001b[0m\n\u001b[0;32m      2\u001b[0m \u001b[1;33m\u001b[0m\u001b[0m\n\u001b[0;32m      3\u001b[0m \u001b[1;32mif\u001b[0m \u001b[1;32mnot\u001b[0m \u001b[0mtype\u001b[0m\u001b[1;33m(\u001b[0m\u001b[0mx\u001b[0m\u001b[1;33m)\u001b[0m \u001b[1;32mis\u001b[0m \u001b[0mint\u001b[0m\u001b[1;33m:\u001b[0m\u001b[1;33m\u001b[0m\u001b[1;33m\u001b[0m\u001b[0m\n\u001b[1;32m----> 4\u001b[1;33m     \u001b[1;32mraise\u001b[0m \u001b[0mTypeError\u001b[0m\u001b[1;33m(\u001b[0m\u001b[1;34m\"Only integers are allowed\"\u001b[0m\u001b[1;33m)\u001b[0m\u001b[1;33m\u001b[0m\u001b[1;33m\u001b[0m\u001b[0m\n\u001b[0m",
            "\u001b[1;31mTypeError\u001b[0m: Only integers are allowed"
          ]
        }
      ],
      "source": [
        "x = \"hello\"\n",
        "\n",
        "if not type(x) is int:\n",
        "    raise TypeError(\"Only integers are allowed\")"
      ]
    },
    {
      "cell_type": "markdown",
      "metadata": {
        "id": "yfJ5ti-CrWWW"
      },
      "source": [
        "## Error types"
      ]
    },
    {
      "cell_type": "markdown",
      "metadata": {
        "id": "i80TXIF7rWWW"
      },
      "source": [
        "Below is an incomplete error list. You can find more information in the Python documentation."
      ]
    },
    {
      "cell_type": "markdown",
      "metadata": {
        "id": "JAkGpep8rWWX"
      },
      "source": [
        "|Exception             | Description                   | \n",
        "|:--------------------|:-----------------------:|\n",
        "|**AssertionError**\t     |*Raised when the assert statement fails*                     |\n",
        "|**ZeroDivisionError** |*Raised when the second operand of a division or module operation is zero*     | \n",
        "|**ValueError** |*Raised when a function gets an argument of correct type but improper value*      | \n",
        "|**TypeError**    |*Raised when a function or operation is applied to an object of an incorrect type.*                    |\n",
        "|**SyntaxError**\t     |*Raised by the parser when a syntax error is encountered*          | \n",
        "|**IndentationError**   |*Raised when there is an incorrect indentation*                    | \n",
        "|**IndexError**\t |*Raised when the index of a sequence is out of range*        |"
      ]
    },
    {
      "cell_type": "markdown",
      "metadata": {
        "id": "7wXzaWqNrWWX"
      },
      "source": [
        "` TypeError`\n",
        "\n",
        "The TypeError is thrown when an operation or function is applied to an object of an inappropriate type."
      ]
    },
    {
      "cell_type": "code",
      "execution_count": null,
      "metadata": {
        "id": "P0ISF_sIrWWY",
        "outputId": "20cbbf4c-9769-4fd9-bed8-9b5a9b995602"
      },
      "outputs": [
        {
          "ename": "TypeError",
          "evalue": "can only concatenate str (not \"int\") to str",
          "output_type": "error",
          "traceback": [
            "\u001b[1;31m---------------------------------------------------------------------------\u001b[0m",
            "\u001b[1;31mTypeError\u001b[0m                                 Traceback (most recent call last)",
            "\u001b[1;32m<ipython-input-20-8c5c1ee15c31>\u001b[0m in \u001b[0;36m<module>\u001b[1;34m\u001b[0m\n\u001b[1;32m----> 1\u001b[1;33m \u001b[1;34m\"2\"\u001b[0m\u001b[1;33m+\u001b[0m\u001b[1;36m2\u001b[0m\u001b[1;33m\u001b[0m\u001b[1;33m\u001b[0m\u001b[0m\n\u001b[0m",
            "\u001b[1;31mTypeError\u001b[0m: can only concatenate str (not \"int\") to str"
          ]
        }
      ],
      "source": [
        "\"2\"+2"
      ]
    },
    {
      "cell_type": "code",
      "execution_count": null,
      "metadata": {
        "id": "9-DSc_sxrWWZ",
        "outputId": "9aa531ec-cfbe-4301-b581-96f3c8f1b295"
      },
      "outputs": [
        {
          "name": "stdout",
          "output_type": "stream",
          "text": [
            "error in object types can only concatenate str (not \"int\") to str\n"
          ]
        }
      ],
      "source": [
        "try:\n",
        "    \"2\"+2\n",
        "except TypeError as exc:  #exc - gives information about error\n",
        "    print(\"error in object types\", exc)    "
      ]
    },
    {
      "cell_type": "markdown",
      "metadata": {
        "id": "IYJlgPMVrWWa"
      },
      "source": [
        "`ValueError`\n",
        "\n",
        "The ValueError is thrown when a function's argument is of an inappropriate type."
      ]
    },
    {
      "cell_type": "code",
      "execution_count": null,
      "metadata": {
        "id": "cGrSLe13rWWa",
        "outputId": "55aaa87a-c863-4875-b602-50489e55b5bf"
      },
      "outputs": [
        {
          "name": "stdout",
          "output_type": "stream",
          "text": [
            "error in values invalid literal for int() with base 10: 'xyz'\n"
          ]
        }
      ],
      "source": [
        "try:\n",
        "    int('xyz')\n",
        "except ValueError as exc: #exc - gives information about error\n",
        "    print(\"error in values\", exc)  "
      ]
    },
    {
      "cell_type": "code",
      "execution_count": null,
      "metadata": {
        "id": "QwlIHDDGrWWb"
      },
      "outputs": [],
      "source": []
    },
    {
      "cell_type": "markdown",
      "metadata": {
        "id": "RqjXMZXKrWWb"
      },
      "source": [
        ".\n",
        "\n",
        ".\n",
        "\n",
        ".\n",
        "\n",
        "."
      ]
    },
    {
      "cell_type": "markdown",
      "metadata": {
        "id": "L00ogo0rrWWb"
      },
      "source": [
        "# Home work"
      ]
    },
    {
      "cell_type": "markdown",
      "metadata": {
        "id": "Uykbc3P2rWWc"
      },
      "source": [
        "### 1 Answer to following questions\n",
        "<br>\n",
        "<br>"
      ]
    },
    {
      "cell_type": "markdown",
      "metadata": {
        "id": "dO3fbWJBrWWc"
      },
      "source": [
        "* How many times in a row can you use except?"
      ]
    },
    {
      "cell_type": "markdown",
      "metadata": {
        "id": "7F6L-iKUrWWc"
      },
      "source": [
        "**Answer:**  You can define as many exception blocks as you want, depending on the your task."
      ]
    },
    {
      "cell_type": "markdown",
      "metadata": {
        "id": "7zq-NxQOrWWd"
      },
      "source": [
        "* You want to print the name of the error to the console, how can I do it?"
      ]
    },
    {
      "cell_type": "markdown",
      "metadata": {
        "id": "rQDTb-k8rWWd"
      },
      "source": [
        "**Answer:** You should use the raise keyword for define what kind of error to raise, and the text to print to the user."
      ]
    },
    {
      "cell_type": "markdown",
      "metadata": {
        "id": "cIC-lpVBrWWd"
      },
      "source": [
        "### 2  You are given two functions. Investigate what mistakes you might make when implementing them. Handle these errors.\n",
        "\n",
        "<br>\n"
      ]
    },
    {
      "cell_type": "markdown",
      "metadata": {
        "id": "X_Ex-mF-rWWd"
      },
      "source": [
        "### 2.1"
      ]
    },
    {
      "cell_type": "code",
      "execution_count": 12,
      "metadata": {
        "id": "-aAuDCPlrWWd"
      },
      "outputs": [],
      "source": [
        "def div():\n",
        "    for i in range(2):\n",
        "        x = int(input(\"enter a number: \"))\n",
        "        y = int(input(\"enter another number: \"))\n",
        "        print(x, '/', y, '=', x/y)\n"
      ]
    },
    {
      "cell_type": "markdown",
      "metadata": {
        "id": "HvKx6WZ2rWWd"
      },
      "source": [
        "answer:"
      ]
    },
    {
      "cell_type": "code",
      "source": [
        "def div():\n",
        "    for i in range(2):\n",
        "      try:\n",
        "        x = int(input(\"enter a number: \"))\n",
        "        y = int(input(\"enter another number: \"))\n",
        "      except ValueError:\n",
        "        print('Values must be integer')\n",
        "      else:\n",
        "        try:\n",
        "          a = x/y\n",
        "        except ZeroDivisionError:\n",
        "          print('Division is impossible')\n",
        "        else:\n",
        "          print(x, '/', y, '=', x/y)"
      ],
      "metadata": {
        "id": "7XzrJX3pvJs5"
      },
      "execution_count": 13,
      "outputs": []
    },
    {
      "cell_type": "code",
      "execution_count": 14,
      "metadata": {
        "colab": {
          "base_uri": "https://localhost:8080/"
        },
        "id": "OuSmZYXJrWWe",
        "outputId": "22721824-d896-495d-e083-c9f9dfbb0496"
      },
      "outputs": [
        {
          "output_type": "stream",
          "name": "stdout",
          "text": [
            "enter a number: 2\n",
            "enter another number: 3\n",
            "2 / 3 = 0.6666666666666666\n",
            "enter a number: 2\n",
            "enter another number: 0\n",
            "Division is impossible\n"
          ]
        }
      ],
      "source": [
        "div()"
      ]
    },
    {
      "cell_type": "markdown",
      "metadata": {
        "id": "ayFGfOOKrWWe"
      },
      "source": [
        "### 2.2"
      ]
    },
    {
      "cell_type": "code",
      "execution_count": 16,
      "metadata": {
        "id": "rnZozUrarWWe"
      },
      "outputs": [],
      "source": [
        "def sumOfPairs(L1, L2):\n",
        "    sum = 0\n",
        "    sumOfPairs = []\n",
        "    for i in range(len(L1)):\n",
        "        sumOfPairs.append(L1[i]+L2[i])\n",
        "\n",
        "    print(\"sumOfPairs = \", sumOfPairs)\n",
        "    "
      ]
    },
    {
      "cell_type": "code",
      "source": [
        "def sumOfPairs(L1, L2):\n",
        "    sum = 0\n",
        "    sumOfPairs = []\n",
        "    for i in range(len(L1)):\n",
        "      try:\n",
        "        sumOfPairs.append(L1[i]+L2[i])\n",
        "      except IndexError:\n",
        "        print('Error! The length of L1 must be less than or equal to the length of L2')\n",
        "        break\n",
        "      else:\n",
        "        continue\n",
        "    print(\"sumOfPairs = \", sumOfPairs)"
      ],
      "metadata": {
        "id": "D043xcBz-X_d"
      },
      "execution_count": 24,
      "outputs": []
    },
    {
      "cell_type": "markdown",
      "metadata": {
        "id": "sW6Fyl4erWWe"
      },
      "source": [
        "answer:"
      ]
    },
    {
      "cell_type": "code",
      "execution_count": 25,
      "metadata": {
        "id": "kQ6IV3k5rWWe",
        "colab": {
          "base_uri": "https://localhost:8080/"
        },
        "outputId": "f77debb6-09ba-45e2-c31a-82db1f917385"
      },
      "outputs": [
        {
          "output_type": "stream",
          "name": "stdout",
          "text": [
            "The length of L1 must be less than or equal to the length of L2\n",
            "sumOfPairs =  [5]\n"
          ]
        }
      ],
      "source": [
        "sumOfPairs([1,4,5,6],[4])"
      ]
    }
  ],
  "metadata": {
    "kernelspec": {
      "display_name": "Python 3 (ipykernel)",
      "language": "python",
      "name": "python3"
    },
    "language_info": {
      "codemirror_mode": {
        "name": "ipython",
        "version": 3
      },
      "file_extension": ".py",
      "mimetype": "text/x-python",
      "name": "python",
      "nbconvert_exporter": "python",
      "pygments_lexer": "ipython3",
      "version": "3.9.7"
    },
    "colab": {
      "provenance": []
    }
  },
  "nbformat": 4,
  "nbformat_minor": 0
}