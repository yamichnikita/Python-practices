{
  "nbformat": 4,
  "nbformat_minor": 0,
  "metadata": {
    "colab": {
      "provenance": []
    },
    "kernelspec": {
      "name": "python3",
      "display_name": "Python 3"
    },
    "language_info": {
      "name": "python"
    }
  },
  "cells": [
    {
      "cell_type": "markdown",
      "source": [
        "Python provides another composite data type called a dictionary, which is similar to a list in that it is a collection of objects."
      ],
      "metadata": {
        "id": "exJtV474ieVv"
      }
    },
    {
      "cell_type": "markdown",
      "source": [
        "Dictionaries and lists share the following characteristics:\n",
        "\n",
        "1.Both are mutable.\n",
        "\n",
        "\n",
        "2.Both are dynamic. They can grow and shrink as needed.\n",
        "\n",
        "\n",
        "3.Both can be nested. A list can contain another list. A dictionary can contain another dictionary. A dictionary can also contain a list, and vice versa.\n",
        "\n",
        "Dictionaries differ from lists primarily in how elements are accessed:\n",
        "\n",
        "1.List elements are accessed by their position in the list, via indexing.\n",
        "\n",
        "\n",
        "2.Dictionary elements are accessed via keys.\n",
        "\n",
        "Dictionaries are Python’s implementation of a data structure that is more generally known as an associative array. \n",
        "A dictionary consists of a collection of key-value pairs. Each key-value pair maps the key to its associated value."
      ],
      "metadata": {
        "id": "Wlg5LAxPitG0"
      }
    },
    {
      "cell_type": "markdown",
      "source": [
        "You can define a dictionary by enclosing a comma-separated list of key-value pairs in curly braces ({}). A colon (:) separates each key from its associated value. \n",
        "\n",
        "\n",
        "The following defines a dictionary that maps a location to the name of its corresponding Major League Baseball team:"
      ],
      "metadata": {
        "id": "rtaTz2WLjhdv"
      }
    },
    {
      "cell_type": "code",
      "source": [
        "MLB_team = {\n",
        "      'Colorado' : 'Rockies',\n",
        "      'Boston'   : 'Red Sox',\n",
        "      'Minnesota': 'Twins',\n",
        "      'Milwaukee': 'Brewers',\n",
        "      'Seattle'  : 'Mariners'\n",
        "}"
      ],
      "metadata": {
        "id": "tTcuRwbZlILR"
      },
      "execution_count": null,
      "outputs": []
    },
    {
      "cell_type": "markdown",
      "source": [
        "You can also construct a dictionary with the built-in dict() function. The argument to dict() should be a sequence of key-value pairs. A list of tuples works well for this:"
      ],
      "metadata": {
        "id": "DQmOt_2PnD_t"
      }
    },
    {
      "cell_type": "code",
      "source": [
        "MLB_team = dict([\n",
        "    ('Colorado', 'Rockies'),\n",
        "    ('Boston', 'Red Sox'),\n",
        "    ('Minnesota', 'Twins'),\n",
        "    ('Milwaukee', 'Brewers'),\n",
        "    ('Seattle', 'Mariners')\n",
        "])"
      ],
      "metadata": {
        "id": "GrkAvgFmnFxm"
      },
      "execution_count": null,
      "outputs": []
    },
    {
      "cell_type": "markdown",
      "source": [
        "If the key values are simple strings, they can be specified as keyword arguments. So here is yet another way to define MLB_team:"
      ],
      "metadata": {
        "id": "84NBGyA-njYM"
      }
    },
    {
      "cell_type": "code",
      "source": [
        "MLB_team = dict(\n",
        "      Colorado='Rockies',\n",
        "      Boston='Red Sox',\n",
        "      Minnesota='Twins',\n",
        "      Milwaukee='Brewers',\n",
        "      Seattle='Mariners'\n",
        ")"
      ],
      "metadata": {
        "id": "Ymp5Qr3Todov"
      },
      "execution_count": null,
      "outputs": []
    },
    {
      "cell_type": "markdown",
      "source": [
        "Once you’ve defined a dictionary, you can display its contents, the same as you can do for a list. All three of the definitions shown above appear as follows when displayed:"
      ],
      "metadata": {
        "id": "jdjDtfI9pfmv"
      }
    },
    {
      "cell_type": "code",
      "source": [
        "MLB_team"
      ],
      "metadata": {
        "colab": {
          "base_uri": "https://localhost:8080/"
        },
        "id": "0wnA27Jdpho0",
        "outputId": "316ae4e8-8fc2-4a5b-d070-bb4515eadcac"
      },
      "execution_count": null,
      "outputs": [
        {
          "output_type": "execute_result",
          "data": {
            "text/plain": [
              "{'Colorado': 'Rockies',\n",
              " 'Boston': 'Red Sox',\n",
              " 'Minnesota': 'Twins',\n",
              " 'Milwaukee': 'Brewers',\n",
              " 'Seattle': 'Mariners'}"
            ]
          },
          "metadata": {},
          "execution_count": 5
        }
      ]
    },
    {
      "cell_type": "markdown",
      "source": [
        "A value is retrieved from a dictionary by specifying its corresponding key in square brackets ([]):"
      ],
      "metadata": {
        "id": "BrSm9xqnqA8u"
      }
    },
    {
      "cell_type": "code",
      "source": [
        "MLB_team['Minnesota']"
      ],
      "metadata": {
        "colab": {
          "base_uri": "https://localhost:8080/",
          "height": 35
        },
        "id": "ZFXvXPYWqCYc",
        "outputId": "97e27734-9841-4d05-b830-e07855c0af90"
      },
      "execution_count": null,
      "outputs": [
        {
          "output_type": "execute_result",
          "data": {
            "text/plain": [
              "'Twins'"
            ],
            "application/vnd.google.colaboratory.intrinsic+json": {
              "type": "string"
            }
          },
          "metadata": {},
          "execution_count": 6
        }
      ]
    },
    {
      "cell_type": "markdown",
      "source": [
        "**Adding an entry to an existing dictionary** is simply a matter of assigning a new key and value:"
      ],
      "metadata": {
        "id": "t6lzLxqcqqTQ"
      }
    },
    {
      "cell_type": "code",
      "source": [
        "MLB_team['Kansas City'] = 'Royals'\n",
        "MLB_team"
      ],
      "metadata": {
        "colab": {
          "base_uri": "https://localhost:8080/"
        },
        "id": "NoNJ1bchqoOG",
        "outputId": "6bffb7fa-b0f4-499f-c3bb-ed744e1a96b3"
      },
      "execution_count": null,
      "outputs": [
        {
          "output_type": "execute_result",
          "data": {
            "text/plain": [
              "{'Colorado': 'Rockies',\n",
              " 'Boston': 'Red Sox',\n",
              " 'Minnesota': 'Twins',\n",
              " 'Milwaukee': 'Brewers',\n",
              " 'Seattle': 'Mariners',\n",
              " 'Kansas City': 'Royals'}"
            ]
          },
          "metadata": {},
          "execution_count": 7
        }
      ]
    },
    {
      "cell_type": "markdown",
      "source": [
        "If you want to **update** an entry, you can just assign a new value to an existing key:"
      ],
      "metadata": {
        "id": "QQggjjbIuMvd"
      }
    },
    {
      "cell_type": "code",
      "source": [
        "MLB_team['Seattle'] = 'Seahawks'\n",
        "MLB_team"
      ],
      "metadata": {
        "colab": {
          "base_uri": "https://localhost:8080/"
        },
        "id": "ha9fpOExqpAB",
        "outputId": "e5dcce61-3097-4e5e-f479-75537fcc0073"
      },
      "execution_count": null,
      "outputs": [
        {
          "output_type": "execute_result",
          "data": {
            "text/plain": [
              "{'Colorado': 'Rockies',\n",
              " 'Boston': 'Red Sox',\n",
              " 'Minnesota': 'Twins',\n",
              " 'Milwaukee': 'Brewers',\n",
              " 'Seattle': 'Seahawks',\n",
              " 'Kansas City': 'Royals'}"
            ]
          },
          "metadata": {},
          "execution_count": 8
        }
      ]
    },
    {
      "cell_type": "markdown",
      "source": [
        "To **delete** an entry, use the del statement, specifying the key to delete:"
      ],
      "metadata": {
        "id": "B0oTaJUizGdt"
      }
    },
    {
      "cell_type": "code",
      "source": [
        "del MLB_team['Seattle']\n",
        "MLB_team"
      ],
      "metadata": {
        "colab": {
          "base_uri": "https://localhost:8080/"
        },
        "id": "fNoLqvzizASI",
        "outputId": "338aeaa6-f712-456b-94da-66eb84693432"
      },
      "execution_count": null,
      "outputs": [
        {
          "output_type": "execute_result",
          "data": {
            "text/plain": [
              "{'Colorado': 'Rockies',\n",
              " 'Boston': 'Red Sox',\n",
              " 'Minnesota': 'Twins',\n",
              " 'Milwaukee': 'Brewers',\n",
              " 'Kansas City': 'Royals'}"
            ]
          },
          "metadata": {},
          "execution_count": 9
        }
      ]
    },
    {
      "cell_type": "code",
      "source": [
        "MLB_team['Colorado']"
      ],
      "metadata": {
        "colab": {
          "base_uri": "https://localhost:8080/",
          "height": 35
        },
        "id": "F15dWkUv1ZL0",
        "outputId": "5ec7b9ac-bfcb-4864-b9d7-6ca8d0abfd3c"
      },
      "execution_count": null,
      "outputs": [
        {
          "output_type": "execute_result",
          "data": {
            "text/plain": [
              "'Rockies'"
            ],
            "application/vnd.google.colaboratory.intrinsic+json": {
              "type": "string"
            }
          },
          "metadata": {},
          "execution_count": 10
        }
      ]
    },
    {
      "cell_type": "markdown",
      "source": [
        "**Operators and Built-in Functions**"
      ],
      "metadata": {
        "id": "8in5zuXI3imT"
      }
    },
    {
      "cell_type": "markdown",
      "source": [
        "The in and not in operators return True or False according to whether the specified operand occurs as a key in the dictionary:"
      ],
      "metadata": {
        "id": "1qk0xvx-3paD"
      }
    },
    {
      "cell_type": "code",
      "source": [
        "MLB_team = {\n",
        "            'Colorado' : 'Rockies',\n",
        "            'Boston'   : 'Red Sox',\n",
        "            'Minnesota': 'Twins',\n",
        "            'Milwaukee': 'Brewers',\n",
        "            'Seattle'  : 'Mariners'\n",
        "}"
      ],
      "metadata": {
        "id": "68YIHAiY3z6D"
      },
      "execution_count": null,
      "outputs": []
    },
    {
      "cell_type": "code",
      "source": [
        "'Milwaukee' in MLB_team"
      ],
      "metadata": {
        "colab": {
          "base_uri": "https://localhost:8080/"
        },
        "id": "2_Xif8oS4FGK",
        "outputId": "cbd2e478-cc93-46c1-8ccf-eff9ade6622f"
      },
      "execution_count": null,
      "outputs": [
        {
          "output_type": "execute_result",
          "data": {
            "text/plain": [
              "True"
            ]
          },
          "metadata": {},
          "execution_count": 12
        }
      ]
    },
    {
      "cell_type": "code",
      "source": [
        "'Toronto' not in MLB_team"
      ],
      "metadata": {
        "colab": {
          "base_uri": "https://localhost:8080/"
        },
        "id": "VXPDw_Es4LPi",
        "outputId": "a1e48a8a-b074-4be2-fdf2-ea39c31f2160"
      },
      "execution_count": null,
      "outputs": [
        {
          "output_type": "execute_result",
          "data": {
            "text/plain": [
              "True"
            ]
          },
          "metadata": {},
          "execution_count": 13
        }
      ]
    },
    {
      "cell_type": "markdown",
      "source": [
        "The len() function returns the number of key-value pairs in a dictionary:"
      ],
      "metadata": {
        "id": "rDDGUMfV4TjB"
      }
    },
    {
      "cell_type": "code",
      "source": [
        "len(MLB_team)"
      ],
      "metadata": {
        "colab": {
          "base_uri": "https://localhost:8080/"
        },
        "id": "sKZ7ck1v4Ruo",
        "outputId": "a38d71f5-11c9-4f36-e7e0-f120e89d9217"
      },
      "execution_count": null,
      "outputs": [
        {
          "output_type": "execute_result",
          "data": {
            "text/plain": [
              "5"
            ]
          },
          "metadata": {},
          "execution_count": 14
        }
      ]
    },
    {
      "cell_type": "markdown",
      "source": [
        "**Built-in Dictionary Methods**"
      ],
      "metadata": {
        "id": "dQMFCSrV4cBo"
      }
    },
    {
      "cell_type": "markdown",
      "source": [
        "As with strings and lists, there are several built-in methods that can be invoked on dictionaries. In fact, in some cases, the list and dictionary methods share the same name. (In the discussion on object-oriented programming, you will see that it is perfectly acceptable for different types to have methods with the same name.)\n",
        "\n",
        "The following is an overview of methods that apply to dictionaries:"
      ],
      "metadata": {
        "id": "slv2W9zr4cLY"
      }
    },
    {
      "cell_type": "markdown",
      "source": [
        "**d.clear()**- clears a dictionary."
      ],
      "metadata": {
        "id": "bgcyCWga4sIB"
      }
    },
    {
      "cell_type": "code",
      "source": [
        "d = {'a': 10, 'b': 20, 'c': 30}\n",
        "d"
      ],
      "metadata": {
        "colab": {
          "base_uri": "https://localhost:8080/"
        },
        "id": "YYJZyYrC4k2Q",
        "outputId": "902f344c-0a4a-4ba0-a217-6fcfda881b97"
      },
      "execution_count": null,
      "outputs": [
        {
          "output_type": "execute_result",
          "data": {
            "text/plain": [
              "{'a': 10, 'b': 20, 'c': 30}"
            ]
          },
          "metadata": {},
          "execution_count": 18
        }
      ]
    },
    {
      "cell_type": "code",
      "source": [
        "d.clear()\n",
        "d"
      ],
      "metadata": {
        "colab": {
          "base_uri": "https://localhost:8080/"
        },
        "id": "N60eUeNs45Ku",
        "outputId": "7b29b215-229d-42b6-f5a7-398feee387e2"
      },
      "execution_count": null,
      "outputs": [
        {
          "output_type": "execute_result",
          "data": {
            "text/plain": [
              "{}"
            ]
          },
          "metadata": {},
          "execution_count": 19
        }
      ]
    },
    {
      "cell_type": "markdown",
      "source": [
        "**d.get(<key>[, <default>])** - returns the value for a key if it exists in the dictionary."
      ],
      "metadata": {
        "id": "_G81g5fD5LBt"
      }
    },
    {
      "cell_type": "markdown",
      "source": [
        "The Python dictionary .get() method provides a convenient way of getting the value of a key from a dictionary without checking ahead of time whether the key exists, and without raising an error."
      ],
      "metadata": {
        "id": "5i8N2o0I5S9l"
      }
    },
    {
      "cell_type": "markdown",
      "source": [
        "d.get(<key>) searches dictionary d for <key> and returns the associated value if it is found. If <key> is not found, it returns None:"
      ],
      "metadata": {
        "id": "ij8dfkOv5Xut"
      }
    },
    {
      "cell_type": "code",
      "source": [
        "d = {'a': 10, 'b': 20, 'c': 30}"
      ],
      "metadata": {
        "id": "rDLlB0RN5QBW"
      },
      "execution_count": null,
      "outputs": []
    },
    {
      "cell_type": "code",
      "source": [
        "print(d.get('b'))"
      ],
      "metadata": {
        "colab": {
          "base_uri": "https://localhost:8080/"
        },
        "id": "PsDRS-OF5cYM",
        "outputId": "6dfc66d9-8254-403b-ce5d-fdc0ca60fbf2"
      },
      "execution_count": null,
      "outputs": [
        {
          "output_type": "stream",
          "name": "stdout",
          "text": [
            "20\n"
          ]
        }
      ]
    },
    {
      "cell_type": "code",
      "source": [
        "print(d.get('z'))"
      ],
      "metadata": {
        "colab": {
          "base_uri": "https://localhost:8080/"
        },
        "id": "vzH6RzQG5eLt",
        "outputId": "c9331e2e-663c-4dc2-9c31-55f700722f71"
      },
      "execution_count": null,
      "outputs": [
        {
          "output_type": "stream",
          "name": "stdout",
          "text": [
            "None\n"
          ]
        }
      ]
    },
    {
      "cell_type": "markdown",
      "source": [
        "**d.items()** - returns a list of key-value pairs in a dictionary."
      ],
      "metadata": {
        "id": "xOH0KOqJ6cMh"
      }
    },
    {
      "cell_type": "markdown",
      "source": [
        "d.items() returns a list of tuples containing the key-value pairs in d. The first item in each tuple is the key, and the second item is the key’s value:"
      ],
      "metadata": {
        "id": "biaoF1Xd6iNh"
      }
    },
    {
      "cell_type": "code",
      "source": [
        "d = {'a': 10, 'b': 20, 'c': 30}\n",
        "d"
      ],
      "metadata": {
        "colab": {
          "base_uri": "https://localhost:8080/"
        },
        "id": "oEouzqlU6lwp",
        "outputId": "dafc3286-aff8-4a4f-ddba-2a2110650817"
      },
      "execution_count": null,
      "outputs": [
        {
          "output_type": "execute_result",
          "data": {
            "text/plain": [
              "{'a': 10, 'b': 20, 'c': 30}"
            ]
          },
          "metadata": {},
          "execution_count": 24
        }
      ]
    },
    {
      "cell_type": "code",
      "source": [
        "d.items()"
      ],
      "metadata": {
        "colab": {
          "base_uri": "https://localhost:8080/"
        },
        "id": "TI-_zcl06tDQ",
        "outputId": "6835da18-ff52-42d8-c937-1f64431fd0ac"
      },
      "execution_count": null,
      "outputs": [
        {
          "output_type": "execute_result",
          "data": {
            "text/plain": [
              "dict_items([('a', 10), ('b', 20), ('c', 30)])"
            ]
          },
          "metadata": {},
          "execution_count": 25
        }
      ]
    },
    {
      "cell_type": "code",
      "source": [
        "list(d.items())"
      ],
      "metadata": {
        "colab": {
          "base_uri": "https://localhost:8080/"
        },
        "id": "EIwI_s3u6wQo",
        "outputId": "9ddf3507-a626-4a62-a13a-e55b260f1c95"
      },
      "execution_count": null,
      "outputs": [
        {
          "output_type": "execute_result",
          "data": {
            "text/plain": [
              "[('a', 10), ('b', 20), ('c', 30)]"
            ]
          },
          "metadata": {},
          "execution_count": 26
        }
      ]
    },
    {
      "cell_type": "code",
      "source": [
        "list(d.items())[1][0]"
      ],
      "metadata": {
        "colab": {
          "base_uri": "https://localhost:8080/",
          "height": 35
        },
        "id": "MeM479ma7E4g",
        "outputId": "130bbbab-8f92-4b5f-cbf1-10f9e901351c"
      },
      "execution_count": null,
      "outputs": [
        {
          "output_type": "execute_result",
          "data": {
            "text/plain": [
              "'b'"
            ],
            "application/vnd.google.colaboratory.intrinsic+json": {
              "type": "string"
            }
          },
          "metadata": {},
          "execution_count": 27
        }
      ]
    },
    {
      "cell_type": "markdown",
      "source": [
        "**d.keys()** - returns a list of keys in a dictionary."
      ],
      "metadata": {
        "id": "c11bmzFS7J1W"
      }
    },
    {
      "cell_type": "code",
      "source": [
        "d = {'a': 10, 'b': 20, 'c': 30}\n",
        "d"
      ],
      "metadata": {
        "colab": {
          "base_uri": "https://localhost:8080/"
        },
        "id": "fbYwoH0s7P2Y",
        "outputId": "10359e4f-f8c0-48b8-e7f3-af943158de56"
      },
      "execution_count": null,
      "outputs": [
        {
          "output_type": "execute_result",
          "data": {
            "text/plain": [
              "{'a': 10, 'b': 20, 'c': 30}"
            ]
          },
          "metadata": {},
          "execution_count": 28
        }
      ]
    },
    {
      "cell_type": "code",
      "source": [
        "list(d.keys())"
      ],
      "metadata": {
        "colab": {
          "base_uri": "https://localhost:8080/"
        },
        "id": "l4JvzlVt7U-m",
        "outputId": "6b07d589-3caa-418e-80ab-601914971119"
      },
      "execution_count": null,
      "outputs": [
        {
          "output_type": "execute_result",
          "data": {
            "text/plain": [
              "['a', 'b', 'c']"
            ]
          },
          "metadata": {},
          "execution_count": 29
        }
      ]
    },
    {
      "cell_type": "markdown",
      "source": [
        "**d.values()** - returns a list of values in a dictionary."
      ],
      "metadata": {
        "id": "51-RqSry7YYw"
      }
    },
    {
      "cell_type": "code",
      "source": [
        "d = {'a': 10, 'b': 20, 'c': 30}\n",
        "d"
      ],
      "metadata": {
        "colab": {
          "base_uri": "https://localhost:8080/"
        },
        "id": "v2Hg_hqi7cSf",
        "outputId": "35cf1a4d-12bd-4f0b-80ef-ea2a71e4348a"
      },
      "execution_count": null,
      "outputs": [
        {
          "output_type": "execute_result",
          "data": {
            "text/plain": [
              "{'a': 10, 'b': 20, 'c': 30}"
            ]
          },
          "metadata": {},
          "execution_count": 31
        }
      ]
    },
    {
      "cell_type": "code",
      "source": [
        "list(d.values())"
      ],
      "metadata": {
        "colab": {
          "base_uri": "https://localhost:8080/"
        },
        "id": "u0R3IdqN7f_e",
        "outputId": "0a7481c8-7292-4839-c0e4-401ebff07e64"
      },
      "execution_count": null,
      "outputs": [
        {
          "output_type": "execute_result",
          "data": {
            "text/plain": [
              "[10, 20, 30]"
            ]
          },
          "metadata": {},
          "execution_count": 32
        }
      ]
    },
    {
      "cell_type": "markdown",
      "source": [
        "**d.pop(<key>[, <default>])** - removes a key from a dictionary, if it is present, and returns its value."
      ],
      "metadata": {
        "id": "nTjmSKyk8lEa"
      }
    },
    {
      "cell_type": "code",
      "source": [
        "d = {'a': 10, 'b': 20, 'c': 30}\n",
        "d"
      ],
      "metadata": {
        "colab": {
          "base_uri": "https://localhost:8080/"
        },
        "id": "hcPDdKKE8pnB",
        "outputId": "092a456b-1fe4-40ca-a4d9-55beb3385949"
      },
      "execution_count": null,
      "outputs": [
        {
          "output_type": "execute_result",
          "data": {
            "text/plain": [
              "{'a': 10, 'b': 20, 'c': 30}"
            ]
          },
          "metadata": {},
          "execution_count": 34
        }
      ]
    },
    {
      "cell_type": "code",
      "source": [
        "d.pop('b')"
      ],
      "metadata": {
        "colab": {
          "base_uri": "https://localhost:8080/"
        },
        "id": "kLnn6yAw8v3B",
        "outputId": "535cebdb-b75e-4c04-b4c4-ddd033714857"
      },
      "execution_count": null,
      "outputs": [
        {
          "output_type": "execute_result",
          "data": {
            "text/plain": [
              "20"
            ]
          },
          "metadata": {},
          "execution_count": 35
        }
      ]
    },
    {
      "cell_type": "markdown",
      "source": [
        "**d.popitem()** - removes a key-value pair from a dictionary. \n",
        "\n",
        "d.popitem() removes the last key-value pair added from d and returns it as a tuple:"
      ],
      "metadata": {
        "id": "uqdmRUV485xQ"
      }
    },
    {
      "cell_type": "code",
      "source": [
        "d = {'a': 10, 'b': 20, 'c': 30}\n",
        "d"
      ],
      "metadata": {
        "colab": {
          "base_uri": "https://localhost:8080/"
        },
        "id": "CobUwPuG9CVY",
        "outputId": "19d091e7-8566-4087-be03-687fc9169fc6"
      },
      "execution_count": null,
      "outputs": [
        {
          "output_type": "execute_result",
          "data": {
            "text/plain": [
              "{'a': 10, 'b': 20, 'c': 30}"
            ]
          },
          "metadata": {},
          "execution_count": 36
        }
      ]
    },
    {
      "cell_type": "code",
      "source": [
        "d.popitem()\n",
        "d"
      ],
      "metadata": {
        "colab": {
          "base_uri": "https://localhost:8080/"
        },
        "id": "VIe6ykjw9G74",
        "outputId": "3a3cbd37-b401-4a8b-87d1-e131086b0343"
      },
      "execution_count": null,
      "outputs": [
        {
          "output_type": "execute_result",
          "data": {
            "text/plain": [
              "{'a': 10, 'b': 20}"
            ]
          },
          "metadata": {},
          "execution_count": 37
        }
      ]
    },
    {
      "cell_type": "markdown",
      "source": [
        "**d.update(<obj>)** - merges a dictionary with another dictionary or with an iterable of key-value pairs."
      ],
      "metadata": {
        "id": "ovNiSDw09PNg"
      }
    },
    {
      "cell_type": "code",
      "source": [
        "d1 = {'a': 10, 'b': 20, 'c': 30}\n",
        "d2 = {'b': 200, 'd': 400}"
      ],
      "metadata": {
        "id": "5ULac3jU9W-6"
      },
      "execution_count": null,
      "outputs": []
    },
    {
      "cell_type": "code",
      "source": [
        "d1.update(d2)\n",
        "d1"
      ],
      "metadata": {
        "colab": {
          "base_uri": "https://localhost:8080/"
        },
        "id": "aZzalkte9bd3",
        "outputId": "39f77f5f-ed0b-4012-dc56-8dc6321089e7"
      },
      "execution_count": null,
      "outputs": [
        {
          "output_type": "execute_result",
          "data": {
            "text/plain": [
              "{'a': 10, 'b': 200, 'c': 30, 'd': 400}"
            ]
          },
          "metadata": {},
          "execution_count": 39
        }
      ]
    },
    {
      "cell_type": "code",
      "source": [
        "d1 = {'a': 10, 'b': 20, 'c': 30}"
      ],
      "metadata": {
        "id": "RM4nDVMI9iqY"
      },
      "execution_count": null,
      "outputs": []
    },
    {
      "cell_type": "code",
      "source": [
        "d1.update([('b', 200), ('d', 400)])\n",
        "d1"
      ],
      "metadata": {
        "colab": {
          "base_uri": "https://localhost:8080/"
        },
        "id": "CY6T7-3i9lNv",
        "outputId": "92da342d-719c-44f2-ee7c-fbaff5f752b8"
      },
      "execution_count": null,
      "outputs": [
        {
          "output_type": "execute_result",
          "data": {
            "text/plain": [
              "{'a': 10, 'b': 200, 'c': 30, 'd': 400}"
            ]
          },
          "metadata": {},
          "execution_count": 41
        }
      ]
    },
    {
      "cell_type": "code",
      "source": [
        "d1 = {'a': 10, 'b': 20, 'c': 30}\n",
        "d1.update(b=200, d=400)\n",
        "d1"
      ],
      "metadata": {
        "colab": {
          "base_uri": "https://localhost:8080/"
        },
        "id": "VObrbWAC9lZG",
        "outputId": "1860655a-f1f7-4789-a00e-17649104fb23"
      },
      "execution_count": null,
      "outputs": [
        {
          "output_type": "execute_result",
          "data": {
            "text/plain": [
              "{'a': 10, 'b': 200, 'c': 30, 'd': 400}"
            ]
          },
          "metadata": {},
          "execution_count": 42
        }
      ]
    },
    {
      "cell_type": "markdown",
      "source": [
        "**Conclusion**"
      ],
      "metadata": {
        "id": "9h7l2SUB98A1"
      }
    },
    {
      "cell_type": "markdown",
      "source": [
        "Lists and dictionaries are two of the most frequently used Python types. As you have seen, they have several similarities, but differ in how their elements are accessed. Lists elements are accessed by numerical index based on order, and dictionary elements are accessed by key\n",
        "\n",
        "Because of this difference, lists and dictionaries tend to be appropriate for different circumstances. You should now have a good feel for which, if either, would be best for a given situation."
      ],
      "metadata": {
        "id": "n1ttoGQX9-Z9"
      }
    },
    {
      "cell_type": "markdown",
      "source": [
        "**Quiz**"
      ],
      "metadata": {
        "id": "OQInLx6KBOrS"
      }
    },
    {
      "cell_type": "markdown",
      "source": [
        "*Which of the following are true of Python dictionaries:*\n",
        "\n",
        "**1) Dictionaries can be nested to any depth.**\n",
        "\n",
        "**2) Dictionaries are accessed by key.**\n",
        "\n",
        "3) Items are accessed by their position in a dictionary.\n",
        "\n",
        "**4) Dictionaries are mutable.**\n",
        "\n",
        "5) A dictionary can contain any object type except another dictionary.\n",
        "\n",
        "6) All the keys in a dictionary must be of the same type."
      ],
      "metadata": {
        "id": "oRZBwiokBNnr"
      }
    },
    {
      "cell_type": "markdown",
      "source": [
        "*Which of the following is not a valid way to define this dictionary in Python:*\n",
        "\n",
        "1) d = dict(foo=100, bar=200, baz=300)\n",
        "\n",
        "2) \n",
        "\n",
        "d = {}\n",
        "\n",
        "d['foo'] = 100\n",
        "\n",
        "d['bar'] = 200\n",
        "\n",
        "d['baz'] = 300\n",
        "\n",
        "3) \n",
        "\n",
        "d = dict([\n",
        "\n",
        "    ('foo', 100),\n",
        "\n",
        "    ('bar', 200),\n",
        "\n",
        "    ('baz', 300)\n",
        "\n",
        "        ])\n",
        "        \n",
        "4) d = {'foo': 100, 'bar': 200, 'baz': 300}\n",
        "\n",
        "**5)** \n",
        "\n",
        "d = {\n",
        "\n",
        "    ('foo', 100),\n",
        "\n",
        "    ('bar', 200),\n",
        "\n",
        "    ('baz', 300)\n",
        "\n",
        "}\n",
        "\n"
      ],
      "metadata": {
        "id": "exx4amnKCQEf"
      }
    },
    {
      "cell_type": "markdown",
      "source": [
        "*What statement will remove the entry in the dictionary for key 'baz'?*\n",
        "\n",
        "**del d['baz']**"
      ],
      "metadata": {
        "id": "nGCR1YkkDZhc"
      }
    },
    {
      "cell_type": "markdown",
      "source": [
        "d = {'foo': 100, 'bar': 200, 'baz': 300}\n",
        "\n",
        "What is the result of this statement:\n",
        "\n",
        "d['bar':'baz']\n",
        "\n",
        "1) 200 300\n",
        "\n",
        "2) (200, 300)\n",
        "\n",
        "3) [200, 300]\n",
        "\n",
        "**4)It raises an exception**"
      ],
      "metadata": {
        "id": "tFL-dZhHD7rC"
      }
    },
    {
      "cell_type": "markdown",
      "source": [
        "You have the following dictionary definition:\n",
        "\n",
        "d = {'foo': 100, 'bar': 200, 'baz': 300}\n",
        "\n",
        "What method call will delete the entry whose value is 200?\n",
        "\n",
        "**d.pop(\"bar\")**"
      ],
      "metadata": {
        "id": "KCOoYmnxFARY"
      }
    }
  ]
}