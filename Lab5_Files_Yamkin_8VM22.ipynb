{
  "cells": [
    {
      "cell_type": "markdown",
      "id": "44b63b39",
      "metadata": {
        "id": "44b63b39"
      },
      "source": [
        "## Lab 5. Work with files"
      ]
    },
    {
      "cell_type": "markdown",
      "id": "0b14caaa",
      "metadata": {
        "id": "0b14caaa"
      },
      "source": [
        "In this tutorial, you'll learn file handling in Python, file operations such as opening a file, reading from it, writing into it, closing it, renaming a file, deleting a file, and various file methods.\n",
        "\n",
        "To store data temporarily and permanently, we use files. A file is the collection of data stored on a disk in one unit identified by filename."
      ]
    },
    {
      "cell_type": "markdown",
      "id": "2fe382e1",
      "metadata": {
        "id": "2fe382e1"
      },
      "source": [
        "### Types of File\n",
        "\n",
        "    Text File: Text file usually we use to store character data. For example, test.txt\n",
        "    Binary File: The binary files are used to store binary data such as images, video files, audio files, etc.\n"
      ]
    },
    {
      "cell_type": "markdown",
      "id": "2a7cc67f",
      "metadata": {
        "id": "2a7cc67f"
      },
      "source": [
        "## File Path\n",
        "\n",
        "A file path defines the location of a file or folder in the computer system. There are two ways to specify a file path.\n",
        "\n",
        "   1. **Absolute path**: which always begins with the root folder\n",
        "   \n",
        "   2. **Relative path**: which is relative to the program's current working directory\n",
        "\n",
        "The absolute path includes the complete directory list required to locate the file.\n",
        "\n",
        "For example, D:/user/Pynative/data/sales.txt is an absolute path to discover the sales.txt. All of the information needed to find the file is contained in the path string.\n",
        "\n",
        "After the filename, the part with a period(.) is called the file's **extension**, and that tells us the type of file. Here, project.pdf is a pdf document."
      ]
    },
    {
      "cell_type": "markdown",
      "id": "71f62d85",
      "metadata": {
        "id": "71f62d85"
      },
      "source": [
        "### Read File\n",
        "\n",
        "To read or write a file, we need to open that file. For this purpose, Python provides a built-in function open().\n",
        "\n",
        "Pass file path and access mode to the open(file_path, access_mode) function. It returns the file object. This object is used to read or write the file according to the access mode.\n",
        "\n",
        "Access mode represents the purpose of opening the file. For example, R is for reading and W is for writing\n"
      ]
    },
    {
      "cell_type": "code",
      "execution_count": null,
      "id": "ed40db9f",
      "metadata": {
        "id": "ed40db9f"
      },
      "outputs": [],
      "source": [
        "# Opening the file with relative path for writing\n",
        "fp = open(r'sample.txt', 'w')\n",
        "for i in range(5):\n",
        "    fp.write(f'Line {i} \\n')\n",
        "\n",
        "fp.close()\n"
      ]
    },
    {
      "cell_type": "code",
      "execution_count": null,
      "id": "0586e55b",
      "metadata": {
        "id": "0586e55b",
        "outputId": "e3b0da1a-f3aa-4941-ed5e-129c784b7306"
      },
      "outputs": [
        {
          "name": "stdout",
          "output_type": "stream",
          "text": [
            "Line 0 \n",
            "Line 1 \n",
            "Line 2 \n",
            "Line 3 \n",
            "Line 4 \n",
            "\n"
          ]
        }
      ],
      "source": [
        "# Opening the file with relative path for reading\n",
        "fp = open(r'sample.txt', 'r')\n",
        "print(fp.read())\n",
        "\n",
        "fp.close()"
      ]
    },
    {
      "cell_type": "markdown",
      "id": "8cd36536",
      "metadata": {
        "id": "8cd36536"
      },
      "source": [
        "The following table shows different access modes we can use while opening a file in Python.\n",
        "<img src=\"table_61.png\">"
      ]
    },
    {
      "cell_type": "markdown",
      "id": "a2fd67d5",
      "metadata": {
        "id": "a2fd67d5"
      },
      "source": [
        "### Move File Pointer\n",
        "\n",
        "The seek() method is used to change or move the file's handle position to the specified location. The cursor defines where the data has to be read or written in the file.\n",
        "\n",
        "The position (index) of the first character in files is zero, just like the string index."
      ]
    },
    {
      "cell_type": "code",
      "execution_count": null,
      "id": "a3da501a",
      "metadata": {
        "id": "a3da501a",
        "outputId": "edc2bd86-fd53-444a-e678-2392f320f725"
      },
      "outputs": [
        {
          "name": "stdout",
          "output_type": "stream",
          "text": [
            "ne 1 \n",
            "Line 2 \n",
            "Line 3 \n",
            "Line 4 \n",
            "\n"
          ]
        }
      ],
      "source": [
        "f = open(\"sample.txt\", \"r\")\n",
        "# move to 11 character\n",
        "f.seek(11)\n",
        "# read from 11th character\n",
        "print(f.read())\n",
        "f.close()"
      ]
    },
    {
      "cell_type": "markdown",
      "id": "40d6fa57",
      "metadata": {
        "id": "40d6fa57"
      },
      "source": [
        "The tell() method to return the current position of the file pointer from the beginning of the file."
      ]
    },
    {
      "cell_type": "code",
      "execution_count": null,
      "id": "5d11d49c",
      "metadata": {
        "id": "5d11d49c",
        "outputId": "95359934-e223-4e88-e24d-841ccd6ceb0d"
      },
      "outputs": [
        {
          "name": "stdout",
          "output_type": "stream",
          "text": [
            "9\n"
          ]
        }
      ],
      "source": [
        "f = open(\"sample.txt\", \"r\")\n",
        "# read first line\n",
        "f.readline()\n",
        "# get current position of file handle\n",
        "print(f.tell())\n",
        "\n",
        "f.close()\n",
        "\n",
        "# Output 9"
      ]
    },
    {
      "cell_type": "markdown",
      "id": "855b7597",
      "metadata": {
        "id": "855b7597"
      },
      "source": [
        "### Copy Files\n",
        "\n",
        "There are several ways to cop files in Python. The shutil.copy() method is used to copy the source file's content to the destination file.\n",
        "\n",
        "Example"
      ]
    },
    {
      "cell_type": "code",
      "execution_count": null,
      "id": "38651004",
      "metadata": {
        "id": "38651004",
        "outputId": "8c8e9256-6983-478a-f28b-67ced2df04b2"
      },
      "outputs": [
        {
          "name": "stdout",
          "output_type": "stream",
          "text": [
            "Copied\n"
          ]
        }
      ],
      "source": [
        "import shutil\n",
        "\n",
        "src_path = r\"sample.txt\"\n",
        "dst_path = r\"copied.txt\"\n",
        "shutil.copy(src_path, dst_path)\n",
        "print('Copied')"
      ]
    },
    {
      "cell_type": "code",
      "execution_count": null,
      "id": "4a827026",
      "metadata": {
        "id": "4a827026",
        "outputId": "7f8fc4b2-b399-49cb-d0d9-af937e1184e8"
      },
      "outputs": [
        {
          "name": "stdout",
          "output_type": "stream",
          "text": [
            "['Line 0 \\n', 'Line 1 \\n', 'Line 2 \\n', 'Line 3 \\n', 'Line 4 \\n']\n"
          ]
        }
      ],
      "source": [
        "with open(\"copied.txt\", 'r') as f:\n",
        "    print(f.readlines())\n"
      ]
    },
    {
      "cell_type": "markdown",
      "id": "3b9e54a0",
      "metadata": {
        "id": "3b9e54a0"
      },
      "source": [
        "### Rename Files\n",
        "\n",
        "In Python, the os module provides the functions for file processing operations such as renaming, deleting the file, etc. The os module enables interaction with the operating system.\n",
        "\n",
        "The os module provides rename() method to rename the specified file name to the new name. The syntax of rename() method is shown below."
      ]
    },
    {
      "cell_type": "code",
      "execution_count": null,
      "id": "ec83da52",
      "metadata": {
        "id": "ec83da52"
      },
      "outputs": [],
      "source": [
        "import os\n",
        "\n",
        "# Absolute path of a file\n",
        "old_name = \"copied.txt\"\n",
        "new_name = \"copied_new.txt\"\n",
        "\n",
        "# Renaming the file\n",
        "os.rename(old_name, new_name)"
      ]
    },
    {
      "cell_type": "markdown",
      "id": "6b7eaa50",
      "metadata": {
        "id": "6b7eaa50"
      },
      "source": [
        "### Delete Files\n",
        "\n",
        "In Python, the os module provides the remove() function to remove or delete file path."
      ]
    },
    {
      "cell_type": "code",
      "execution_count": null,
      "id": "f09bf64c",
      "metadata": {
        "id": "f09bf64c"
      },
      "outputs": [],
      "source": [
        "import os\n",
        "\n",
        "# remove file with absolute path\n",
        "os.remove(r\"copied_new.txt\")"
      ]
    },
    {
      "cell_type": "markdown",
      "id": "ffd6bf73",
      "metadata": {
        "id": "ffd6bf73"
      },
      "source": [
        "### Working With Bytes\n",
        "\n",
        "A byte consists of 8 bits, and bits consist of either 0 or 1. A Byte can be interpreted in different ways like binary octal, octal, or hexadecimal. Python stores files in the form of bytes on the disk.\n",
        "\n",
        "When we open a file in text mode, that file is decoded from bytes to a string object. when we open a file in the binary mode it returns contents as bytes object without decoding.\n",
        "\n",
        "Now let's see the steps to write bytes to a file in Python.\n",
        "\n",
        "    Open the file in binary write mode using wb\n",
        "    Specify contents to write in the form of bytes.\n",
        "    Use the write() function to write byte contents to a binary file.\n"
      ]
    },
    {
      "cell_type": "code",
      "execution_count": null,
      "id": "70d699f9",
      "metadata": {
        "id": "70d699f9"
      },
      "outputs": [],
      "source": [
        "bytes_data = b'\\x21'\n",
        "\n",
        "with open(\"test.txt\", \"wb\") as fp:\n",
        "    # Write bytes to file\n",
        "    fp.write(bytes_data)"
      ]
    },
    {
      "cell_type": "markdown",
      "id": "06625b35",
      "metadata": {
        "id": "06625b35"
      },
      "source": [
        "**Task 1: Create a text file. Count a number of lines in file**"
      ]
    },
    {
      "cell_type": "code",
      "execution_count": null,
      "id": "b947df14",
      "metadata": {
        "id": "b947df14"
      },
      "outputs": [],
      "source": [
        "my_file = open('laba_5.txt', 'w')\n",
        "for i in range(5):\n",
        "    my_file.write(f'Line {i} \\n')\n",
        "my_file.close()\n"
      ]
    },
    {
      "cell_type": "code",
      "source": [
        "my_file = open('laba_5.txt', 'r')\n",
        "print(my_file.read())\n",
        "\n",
        "my_file.close()"
      ],
      "metadata": {
        "colab": {
          "base_uri": "https://localhost:8080/"
        },
        "id": "7cErbaM2EEL0",
        "outputId": "1defa64f-bbe0-472b-a2f4-ea7b0ebdb44b"
      },
      "id": "7cErbaM2EEL0",
      "execution_count": null,
      "outputs": [
        {
          "output_type": "stream",
          "name": "stdout",
          "text": [
            "Line 0 \n",
            "Line 1 \n",
            "Line 2 \n",
            "Line 3 \n",
            "Line 4 \n",
            "\n"
          ]
        }
      ]
    },
    {
      "cell_type": "markdown",
      "id": "cccd133f",
      "metadata": {
        "id": "cccd133f"
      },
      "source": [
        "**Task 2: Search for a special String in Text File**\n",
        "\n",
        "Use the file read() method and string class find() method to search for a string in a text file."
      ]
    },
    {
      "cell_type": "code",
      "execution_count": null,
      "id": "448f70a1",
      "metadata": {
        "colab": {
          "base_uri": "https://localhost:8080/"
        },
        "id": "448f70a1",
        "outputId": "819f61e2-36da-4854-a475-8a6663fcee67"
      },
      "outputs": [
        {
          "output_type": "stream",
          "name": "stdout",
          "text": [
            "28\n"
          ]
        }
      ],
      "source": [
        "my_file = open('laba_5.txt', 'r')\n",
        "print(my_file.read().find(' 3'))\n",
        "# print(my_file.read(28))\n",
        "my_file.close()\n"
      ]
    },
    {
      "cell_type": "markdown",
      "id": "90178549",
      "metadata": {
        "id": "90178549"
      },
      "source": [
        "**Task 3: Count Number of Files in a Directory**\n",
        "\n",
        "Use the os.listdir() and os.path.isfile() functions of an os module to count the number of files of a directory. "
      ]
    },
    {
      "cell_type": "code",
      "execution_count": null,
      "id": "b6b08186",
      "metadata": {
        "colab": {
          "base_uri": "https://localhost:8080/"
        },
        "id": "b6b08186",
        "outputId": "340ac8b1-0702-49c8-d903-bb30b0f3af6d"
      },
      "outputs": [
        {
          "output_type": "execute_result",
          "data": {
            "text/plain": [
              "['anscombe.json',\n",
              " 'README.md',\n",
              " 'california_housing_train.csv',\n",
              " 'california_housing_test.csv',\n",
              " 'mnist_train_small.csv',\n",
              " 'mnist_test.csv']"
            ]
          },
          "metadata": {},
          "execution_count": 33
        }
      ],
      "source": [
        "import os\n",
        "file_list = os.listdir('/content/sample_data')\n",
        "file_list"
      ]
    },
    {
      "cell_type": "code",
      "source": [
        "len(file_list)"
      ],
      "metadata": {
        "colab": {
          "base_uri": "https://localhost:8080/"
        },
        "id": "U-28FsygO6xI",
        "outputId": "51e9b723-cf41-4aa2-ac2f-65b2afe6d7ba"
      },
      "id": "U-28FsygO6xI",
      "execution_count": null,
      "outputs": [
        {
          "output_type": "execute_result",
          "data": {
            "text/plain": [
              "6"
            ]
          },
          "metadata": {},
          "execution_count": 37
        }
      ]
    },
    {
      "cell_type": "code",
      "source": [
        "n = 0\n",
        "path = '/content/sample_data'\n",
        "for i in range(len(file_list)):\n",
        "  if os.path.isfile(path + '/' + file_list[i]):\n",
        "    n +=1\n",
        "n"
      ],
      "metadata": {
        "colab": {
          "base_uri": "https://localhost:8080/"
        },
        "id": "rELnVSSTLWzM",
        "outputId": "e6d1af92-cb9b-4bc6-8c17-c898e5c17f2f"
      },
      "id": "rELnVSSTLWzM",
      "execution_count": null,
      "outputs": [
        {
          "output_type": "execute_result",
          "data": {
            "text/plain": [
              "6"
            ]
          },
          "metadata": {},
          "execution_count": 36
        }
      ]
    },
    {
      "cell_type": "markdown",
      "id": "4e672806",
      "metadata": {
        "id": "4e672806"
      },
      "source": [
        "**Task 4: List Files in Directory with Extension txt** \n",
        "    \n",
        "1. Import glob module\n",
        "\n",
        "    The glob module, part of the Python Standard Library, is used to find the files and folders whose names follow a specific pattern. The searching rules are similar to the Unix Shell path expansion rules.\n",
        "    \n",
        "    \n",
        "2. Construct a pattern to search for the files having the specific extension\n",
        "\n",
        "    For example, directory_path/*.txt to list all text files present in a given directory path. Here the * means file name can be anything, but it must have a txt extension.\n",
        "    \n",
        "    \n",
        "3. Use glob() method\n",
        "\n",
        "    The gob.glob(pathname) method returns a list of files that matches the path and pattern specified in the pathname argument. in this case, it will return all text files.\n"
      ]
    },
    {
      "cell_type": "code",
      "execution_count": null,
      "id": "866a30f9",
      "metadata": {
        "colab": {
          "base_uri": "https://localhost:8080/"
        },
        "id": "866a30f9",
        "outputId": "7521e557-989f-40c5-aab6-054cd236f1b8"
      },
      "outputs": [
        {
          "output_type": "execute_result",
          "data": {
            "text/plain": [
              "['/content/sample_data/anscombe.json']"
            ]
          },
          "metadata": {},
          "execution_count": 39
        }
      ],
      "source": [
        "import glob\n",
        "file_list = glob.glob('/content/sample_data/*.json')\n",
        "file_list"
      ]
    },
    {
      "cell_type": "code",
      "source": [
        "file_list = glob.glob('/content/sample_data/*.csv')\n",
        "file_list"
      ],
      "metadata": {
        "colab": {
          "base_uri": "https://localhost:8080/"
        },
        "id": "j1gN8I9UR5Bo",
        "outputId": "54ea4ef7-2a07-401d-fb7d-546848fa7b99"
      },
      "id": "j1gN8I9UR5Bo",
      "execution_count": null,
      "outputs": [
        {
          "output_type": "execute_result",
          "data": {
            "text/plain": [
              "['/content/sample_data/california_housing_train.csv',\n",
              " '/content/sample_data/california_housing_test.csv',\n",
              " '/content/sample_data/mnist_train_small.csv',\n",
              " '/content/sample_data/mnist_test.csv']"
            ]
          },
          "metadata": {},
          "execution_count": 42
        }
      ]
    },
    {
      "cell_type": "code",
      "source": [
        "file_list = glob.glob('/content/sample_data/*.md')\n",
        "file_list"
      ],
      "metadata": {
        "colab": {
          "base_uri": "https://localhost:8080/"
        },
        "id": "lR3LkgWHSZWB",
        "outputId": "b8d56230-58d1-48a3-92cc-8d6ed579716e"
      },
      "id": "lR3LkgWHSZWB",
      "execution_count": null,
      "outputs": [
        {
          "output_type": "execute_result",
          "data": {
            "text/plain": [
              "['/content/sample_data/README.md']"
            ]
          },
          "metadata": {},
          "execution_count": 43
        }
      ]
    },
    {
      "cell_type": "markdown",
      "id": "dd604979",
      "metadata": {
        "id": "dd604979"
      },
      "source": [
        "**Task 5: List all files in the directory**\n",
        "\n",
        "There are multiple ways to list files of a directory. The following four methods can be used:\n",
        "1. os.listdir('dir_path'): Return the list of files and directories present in a specified directory path.\n",
        "2. os.walk('dir_path'): Recursively get the list all files in directory and subdirectories.\n",
        "3. os.scandir('path'): Returns directory entries along with file attribute information.\n",
        "4. glob.glob('pattern'): glob module to list files and folders whose names follow a specific pattern."
      ]
    },
    {
      "cell_type": "code",
      "execution_count": null,
      "id": "b29cdb81",
      "metadata": {
        "colab": {
          "base_uri": "https://localhost:8080/"
        },
        "id": "b29cdb81",
        "outputId": "e3d69d75-a820-4c89-ed28-5fc581a50a48"
      },
      "outputs": [
        {
          "output_type": "execute_result",
          "data": {
            "text/plain": [
              "['anscombe.json',\n",
              " 'README.md',\n",
              " 'california_housing_train.csv',\n",
              " 'california_housing_test.csv',\n",
              " 'mnist_train_small.csv',\n",
              " 'mnist_test.csv']"
            ]
          },
          "metadata": {},
          "execution_count": 44
        }
      ],
      "source": [
        "file_list = os.listdir('/content/sample_data')\n",
        "file_list"
      ]
    },
    {
      "cell_type": "code",
      "source": [
        "for i in os.walk('/content/sample_data'):\n",
        "  print(i,'\\n')"
      ],
      "metadata": {
        "colab": {
          "base_uri": "https://localhost:8080/"
        },
        "id": "-9xFUYUSSqyh",
        "outputId": "b84253ad-5a65-4914-e1ea-c2ff23ec13d7"
      },
      "id": "-9xFUYUSSqyh",
      "execution_count": null,
      "outputs": [
        {
          "output_type": "stream",
          "name": "stdout",
          "text": [
            "('/content/sample_data', [], ['anscombe.json', 'README.md', 'california_housing_train.csv', 'california_housing_test.csv', 'mnist_train_small.csv', 'mnist_test.csv']) \n",
            "\n"
          ]
        }
      ]
    },
    {
      "cell_type": "code",
      "source": [
        "for i in os.scandir('/content/sample_data'):\n",
        "    print(i)"
      ],
      "metadata": {
        "colab": {
          "base_uri": "https://localhost:8080/"
        },
        "id": "EKQwkvtbSq4W",
        "outputId": "8dd78547-4180-4b17-ad07-f3a59b13b4a0"
      },
      "id": "EKQwkvtbSq4W",
      "execution_count": null,
      "outputs": [
        {
          "output_type": "stream",
          "name": "stdout",
          "text": [
            "<DirEntry 'anscombe.json'>\n",
            "<DirEntry 'README.md'>\n",
            "<DirEntry 'california_housing_train.csv'>\n",
            "<DirEntry 'california_housing_test.csv'>\n",
            "<DirEntry 'mnist_train_small.csv'>\n",
            "<DirEntry 'mnist_test.csv'>\n"
          ]
        }
      ]
    },
    {
      "cell_type": "code",
      "source": [
        "file_list = glob.glob('/content/sample_data/*')\n",
        "file_list"
      ],
      "metadata": {
        "colab": {
          "base_uri": "https://localhost:8080/"
        },
        "id": "htlPg_m-Sq-G",
        "outputId": "d41e532d-0d4e-4d2d-8efb-55d775c969a4"
      },
      "id": "htlPg_m-Sq-G",
      "execution_count": null,
      "outputs": [
        {
          "output_type": "execute_result",
          "data": {
            "text/plain": [
              "['/content/sample_data/anscombe.json',\n",
              " '/content/sample_data/README.md',\n",
              " '/content/sample_data/california_housing_train.csv',\n",
              " '/content/sample_data/california_housing_test.csv',\n",
              " '/content/sample_data/mnist_train_small.csv',\n",
              " '/content/sample_data/mnist_test.csv']"
            ]
          },
          "metadata": {},
          "execution_count": 50
        }
      ]
    },
    {
      "cell_type": "markdown",
      "id": "4b1d2330",
      "metadata": {
        "id": "4b1d2330"
      },
      "source": [
        "**For every tasks from 6 to 8 use 2 different file formats, for example: .csv, .xml, .html, .json, .yaml**"
      ]
    },
    {
      "cell_type": "markdown",
      "id": "f23485ca",
      "metadata": {
        "id": "f23485ca"
      },
      "source": [
        "**Task 6: Create a list and write it to a file**"
      ]
    },
    {
      "cell_type": "markdown",
      "source": [
        "list => .csv"
      ],
      "metadata": {
        "id": "TL4Mp7fwZxWp"
      },
      "id": "TL4Mp7fwZxWp"
    },
    {
      "cell_type": "code",
      "execution_count": null,
      "id": "9f407342",
      "metadata": {
        "id": "9f407342"
      },
      "outputs": [],
      "source": [
        "list1 = [1 , 2 , ' Tomsk ', 10 , ' TPU ', 'Happy New Year']\n",
        "my_file = open('laba_5.csv', 'w')\n",
        "for i in range(len(list1)):\n",
        "    my_file.write(str(list1[i]))\n",
        "my_file.close()"
      ]
    },
    {
      "cell_type": "code",
      "source": [
        "my_file = open('laba_5.csv', 'r')\n",
        "print(my_file.read())"
      ],
      "metadata": {
        "colab": {
          "base_uri": "https://localhost:8080/"
        },
        "id": "zBQHzZ_07kuU",
        "outputId": "1da5d66b-d48d-4682-b687-3dde1d9c6b3d"
      },
      "id": "zBQHzZ_07kuU",
      "execution_count": null,
      "outputs": [
        {
          "output_type": "stream",
          "name": "stdout",
          "text": [
            "12 Tomsk 10 TPU Happy New Year\n"
          ]
        }
      ]
    },
    {
      "cell_type": "markdown",
      "source": [
        "list =>.xlsx"
      ],
      "metadata": {
        "id": "KKjI2KnNZ29Y"
      },
      "id": "KKjI2KnNZ29Y"
    },
    {
      "cell_type": "code",
      "source": [
        "import xlsxwriter\n",
        "\n",
        "list1 = [ 1 , 2 , ' Tomsk ', 10 , ' TPU ', 'Happy New Year']\n",
        "\n",
        "# открываем новый файл на запись\n",
        "workbook = xlsxwriter.Workbook('laba_5.xlsx')\n",
        "# создаем там \"лист\"\n",
        "worksheet = workbook.add_worksheet()\n",
        "# в ячейку A1 пишем текст\n",
        "for i in range(len(list1)):\n",
        "  for j in range(len(list1)):\n",
        "    worksheet.write(i,j, list1[i])\n",
        "\n",
        "# сохраняем и закрываем\n",
        "workbook.close()"
      ],
      "metadata": {
        "id": "pdjJuuNbYcyA"
      },
      "id": "pdjJuuNbYcyA",
      "execution_count": null,
      "outputs": []
    },
    {
      "cell_type": "code",
      "source": [
        "import pandas as pd\n",
        "\n",
        "df = pd.read_excel('/content/laba_5.xlsx')\n",
        "df"
      ],
      "metadata": {
        "colab": {
          "base_uri": "https://localhost:8080/",
          "height": 206
        },
        "id": "Dd0-_aAYYc7o",
        "outputId": "2e4f684d-9a18-487c-f4ae-8de0a05313c3"
      },
      "id": "Dd0-_aAYYc7o",
      "execution_count": null,
      "outputs": [
        {
          "output_type": "execute_result",
          "data": {
            "text/plain": [
              "                1             1.1             1.2             1.3  \\\n",
              "0               2               2               2               2   \n",
              "1          Tomsk           Tomsk           Tomsk           Tomsk    \n",
              "2              10              10              10              10   \n",
              "3            TPU             TPU             TPU             TPU    \n",
              "4  Happy New Year  Happy New Year  Happy New Year  Happy New Year   \n",
              "\n",
              "              1.4             1.5  \n",
              "0               2               2  \n",
              "1          Tomsk           Tomsk   \n",
              "2              10              10  \n",
              "3            TPU             TPU   \n",
              "4  Happy New Year  Happy New Year  "
            ],
            "text/html": [
              "\n",
              "  <div id=\"df-3afa4d4d-9a79-444b-9bf3-176947767473\">\n",
              "    <div class=\"colab-df-container\">\n",
              "      <div>\n",
              "<style scoped>\n",
              "    .dataframe tbody tr th:only-of-type {\n",
              "        vertical-align: middle;\n",
              "    }\n",
              "\n",
              "    .dataframe tbody tr th {\n",
              "        vertical-align: top;\n",
              "    }\n",
              "\n",
              "    .dataframe thead th {\n",
              "        text-align: right;\n",
              "    }\n",
              "</style>\n",
              "<table border=\"1\" class=\"dataframe\">\n",
              "  <thead>\n",
              "    <tr style=\"text-align: right;\">\n",
              "      <th></th>\n",
              "      <th>1</th>\n",
              "      <th>1.1</th>\n",
              "      <th>1.2</th>\n",
              "      <th>1.3</th>\n",
              "      <th>1.4</th>\n",
              "      <th>1.5</th>\n",
              "    </tr>\n",
              "  </thead>\n",
              "  <tbody>\n",
              "    <tr>\n",
              "      <th>0</th>\n",
              "      <td>2</td>\n",
              "      <td>2</td>\n",
              "      <td>2</td>\n",
              "      <td>2</td>\n",
              "      <td>2</td>\n",
              "      <td>2</td>\n",
              "    </tr>\n",
              "    <tr>\n",
              "      <th>1</th>\n",
              "      <td>Tomsk</td>\n",
              "      <td>Tomsk</td>\n",
              "      <td>Tomsk</td>\n",
              "      <td>Tomsk</td>\n",
              "      <td>Tomsk</td>\n",
              "      <td>Tomsk</td>\n",
              "    </tr>\n",
              "    <tr>\n",
              "      <th>2</th>\n",
              "      <td>10</td>\n",
              "      <td>10</td>\n",
              "      <td>10</td>\n",
              "      <td>10</td>\n",
              "      <td>10</td>\n",
              "      <td>10</td>\n",
              "    </tr>\n",
              "    <tr>\n",
              "      <th>3</th>\n",
              "      <td>TPU</td>\n",
              "      <td>TPU</td>\n",
              "      <td>TPU</td>\n",
              "      <td>TPU</td>\n",
              "      <td>TPU</td>\n",
              "      <td>TPU</td>\n",
              "    </tr>\n",
              "    <tr>\n",
              "      <th>4</th>\n",
              "      <td>Happy New Year</td>\n",
              "      <td>Happy New Year</td>\n",
              "      <td>Happy New Year</td>\n",
              "      <td>Happy New Year</td>\n",
              "      <td>Happy New Year</td>\n",
              "      <td>Happy New Year</td>\n",
              "    </tr>\n",
              "  </tbody>\n",
              "</table>\n",
              "</div>\n",
              "      <button class=\"colab-df-convert\" onclick=\"convertToInteractive('df-3afa4d4d-9a79-444b-9bf3-176947767473')\"\n",
              "              title=\"Convert this dataframe to an interactive table.\"\n",
              "              style=\"display:none;\">\n",
              "        \n",
              "  <svg xmlns=\"http://www.w3.org/2000/svg\" height=\"24px\"viewBox=\"0 0 24 24\"\n",
              "       width=\"24px\">\n",
              "    <path d=\"M0 0h24v24H0V0z\" fill=\"none\"/>\n",
              "    <path d=\"M18.56 5.44l.94 2.06.94-2.06 2.06-.94-2.06-.94-.94-2.06-.94 2.06-2.06.94zm-11 1L8.5 8.5l.94-2.06 2.06-.94-2.06-.94L8.5 2.5l-.94 2.06-2.06.94zm10 10l.94 2.06.94-2.06 2.06-.94-2.06-.94-.94-2.06-.94 2.06-2.06.94z\"/><path d=\"M17.41 7.96l-1.37-1.37c-.4-.4-.92-.59-1.43-.59-.52 0-1.04.2-1.43.59L10.3 9.45l-7.72 7.72c-.78.78-.78 2.05 0 2.83L4 21.41c.39.39.9.59 1.41.59.51 0 1.02-.2 1.41-.59l7.78-7.78 2.81-2.81c.8-.78.8-2.07 0-2.86zM5.41 20L4 18.59l7.72-7.72 1.47 1.35L5.41 20z\"/>\n",
              "  </svg>\n",
              "      </button>\n",
              "      \n",
              "  <style>\n",
              "    .colab-df-container {\n",
              "      display:flex;\n",
              "      flex-wrap:wrap;\n",
              "      gap: 12px;\n",
              "    }\n",
              "\n",
              "    .colab-df-convert {\n",
              "      background-color: #E8F0FE;\n",
              "      border: none;\n",
              "      border-radius: 50%;\n",
              "      cursor: pointer;\n",
              "      display: none;\n",
              "      fill: #1967D2;\n",
              "      height: 32px;\n",
              "      padding: 0 0 0 0;\n",
              "      width: 32px;\n",
              "    }\n",
              "\n",
              "    .colab-df-convert:hover {\n",
              "      background-color: #E2EBFA;\n",
              "      box-shadow: 0px 1px 2px rgba(60, 64, 67, 0.3), 0px 1px 3px 1px rgba(60, 64, 67, 0.15);\n",
              "      fill: #174EA6;\n",
              "    }\n",
              "\n",
              "    [theme=dark] .colab-df-convert {\n",
              "      background-color: #3B4455;\n",
              "      fill: #D2E3FC;\n",
              "    }\n",
              "\n",
              "    [theme=dark] .colab-df-convert:hover {\n",
              "      background-color: #434B5C;\n",
              "      box-shadow: 0px 1px 3px 1px rgba(0, 0, 0, 0.15);\n",
              "      filter: drop-shadow(0px 1px 2px rgba(0, 0, 0, 0.3));\n",
              "      fill: #FFFFFF;\n",
              "    }\n",
              "  </style>\n",
              "\n",
              "      <script>\n",
              "        const buttonEl =\n",
              "          document.querySelector('#df-3afa4d4d-9a79-444b-9bf3-176947767473 button.colab-df-convert');\n",
              "        buttonEl.style.display =\n",
              "          google.colab.kernel.accessAllowed ? 'block' : 'none';\n",
              "\n",
              "        async function convertToInteractive(key) {\n",
              "          const element = document.querySelector('#df-3afa4d4d-9a79-444b-9bf3-176947767473');\n",
              "          const dataTable =\n",
              "            await google.colab.kernel.invokeFunction('convertToInteractive',\n",
              "                                                     [key], {});\n",
              "          if (!dataTable) return;\n",
              "\n",
              "          const docLinkHtml = 'Like what you see? Visit the ' +\n",
              "            '<a target=\"_blank\" href=https://colab.research.google.com/notebooks/data_table.ipynb>data table notebook</a>'\n",
              "            + ' to learn more about interactive tables.';\n",
              "          element.innerHTML = '';\n",
              "          dataTable['output_type'] = 'display_data';\n",
              "          await google.colab.output.renderOutput(dataTable, element);\n",
              "          const docLink = document.createElement('div');\n",
              "          docLink.innerHTML = docLinkHtml;\n",
              "          element.appendChild(docLink);\n",
              "        }\n",
              "      </script>\n",
              "    </div>\n",
              "  </div>\n",
              "  "
            ]
          },
          "metadata": {},
          "execution_count": 54
        }
      ]
    },
    {
      "cell_type": "markdown",
      "id": "9cc2859f",
      "metadata": {
        "id": "9cc2859f"
      },
      "source": [
        "**Task 7: Create a dictionary and write it to a file**"
      ]
    },
    {
      "cell_type": "markdown",
      "source": [
        "dict => .json"
      ],
      "metadata": {
        "id": "7gUMQQW4ztBp"
      },
      "id": "7gUMQQW4ztBp"
    },
    {
      "cell_type": "code",
      "execution_count": null,
      "id": "b1229018",
      "metadata": {
        "id": "b1229018"
      },
      "outputs": [],
      "source": [
        "import json\n",
        "dict1 = {'City': 'Tomsk', 'Univercity':' TPU', 'Name':'Nikita'}\n",
        "dict1_json = json.dumps(dict1)\n",
        "my_file = open('laba_5.json', 'w')\n",
        "my_file.write(dict1_json)\n",
        "my_file.close()"
      ]
    },
    {
      "cell_type": "code",
      "source": [
        "my_file = open('laba_5.json', 'r')\n",
        "print(my_file.read())"
      ],
      "metadata": {
        "colab": {
          "base_uri": "https://localhost:8080/"
        },
        "id": "Z33TiMuZ-7zv",
        "outputId": "dd19334f-5f8c-4e61-8713-305a9f0f8fc6"
      },
      "id": "Z33TiMuZ-7zv",
      "execution_count": null,
      "outputs": [
        {
          "output_type": "stream",
          "name": "stdout",
          "text": [
            "{\"City\": \"Tomsk\", \"Univercity\": \" TPU\", \"Name\": \"Nikita\"}\n"
          ]
        }
      ]
    },
    {
      "cell_type": "markdown",
      "source": [
        "dict => .xml"
      ],
      "metadata": {
        "id": "_5i9SLOAzygR"
      },
      "id": "_5i9SLOAzygR"
    },
    {
      "cell_type": "code",
      "source": [
        "import xml.etree.ElementTree as ET\n",
        "\n",
        "items = [\n",
        "    {\"first_name\": \"Nikita\", \"last_name\": \"Yamkin\", \"city\": \"Tomsk\"},\n",
        "    {\"first_name\": \"Sergey\", \"last_name\": \"Sidorov\", \"city\": \"Sochi\"},\n",
        "]\n",
        "\n",
        "root = ET.Element('root')\n",
        "\n",
        "for i, item in enumerate(items, 1):\n",
        "    person = ET.SubElement(root, 'person' + str(i))\n",
        "    ET.SubElement(person, 'first_name').text = item['first_name']\n",
        "    ET.SubElement(person, 'last_name').text = item['last_name']\n",
        "    ET.SubElement(person, 'city').text = item['city']\n",
        "\n",
        "tree = ET.ElementTree(root)\n",
        "tree.write('laba_5.xml')"
      ],
      "metadata": {
        "id": "vG_Ks9Av0BFx"
      },
      "id": "vG_Ks9Av0BFx",
      "execution_count": null,
      "outputs": []
    },
    {
      "cell_type": "code",
      "source": [
        "datasource = open('/content/laba_5.xml')\n",
        "doc = ET.parse(datasource)\n",
        "root = doc.getroot()\n",
        "for elem in root:\n",
        "  for subelem in elem:\n",
        "    print(subelem.text)"
      ],
      "metadata": {
        "colab": {
          "base_uri": "https://localhost:8080/"
        },
        "id": "Z5HgEz-s0sCv",
        "outputId": "e045f75e-761b-4eb7-8bcd-386795be4f0c"
      },
      "id": "Z5HgEz-s0sCv",
      "execution_count": null,
      "outputs": [
        {
          "output_type": "stream",
          "name": "stdout",
          "text": [
            "Nikita\n",
            "Yamkin\n",
            "Tomsk\n",
            "Sergey\n",
            "Sidorov\n",
            "Sochi\n"
          ]
        }
      ]
    },
    {
      "cell_type": "markdown",
      "id": "926116e3",
      "metadata": {
        "id": "926116e3"
      },
      "source": [
        "**Task 8: Create a set and write it to a file**"
      ]
    },
    {
      "cell_type": "markdown",
      "source": [
        "set => .yaml"
      ],
      "metadata": {
        "id": "cyfD8U5chUKh"
      },
      "id": "cyfD8U5chUKh"
    },
    {
      "cell_type": "code",
      "execution_count": null,
      "id": "0a05ca39",
      "metadata": {
        "id": "0a05ca39"
      },
      "outputs": [],
      "source": [
        "import yaml\n",
        "\n",
        "set1 = {'Tomsk', 'TPU', 'Nikita', 'Yamkin'}\n",
        "\n",
        "my_file = open('laba_5.yaml', 'w')\n",
        "\n",
        "doc = yaml.dump(set1, my_file)\n",
        "\n",
        "my_file.close()"
      ]
    },
    {
      "cell_type": "code",
      "source": [
        "my_file = open('laba_5.yaml', 'r')\n",
        "\n",
        "file_set = yaml.load(my_file, Loader = yaml.FullLoader)\n",
        "\n",
        "print(file_set)"
      ],
      "metadata": {
        "colab": {
          "base_uri": "https://localhost:8080/"
        },
        "id": "jePLw7mnfyEH",
        "outputId": "ec19f4c8-6aa2-4ec6-906b-35c60eb13c46"
      },
      "id": "jePLw7mnfyEH",
      "execution_count": null,
      "outputs": [
        {
          "output_type": "stream",
          "name": "stdout",
          "text": [
            "{'TPU', 'Tomsk', 'Nikita', 'Yamkin'}\n"
          ]
        }
      ]
    },
    {
      "cell_type": "markdown",
      "source": [
        "set => .txt"
      ],
      "metadata": {
        "id": "9agTFS7BhaxS"
      },
      "id": "9agTFS7BhaxS"
    },
    {
      "cell_type": "code",
      "source": [
        "my_file = open('laba_5.txt', 'w')\n",
        "for i in set1:\n",
        "  my_file.write(i)\n",
        "my_file.close()"
      ],
      "metadata": {
        "id": "ifYwYSyehzlZ"
      },
      "id": "ifYwYSyehzlZ",
      "execution_count": null,
      "outputs": []
    },
    {
      "cell_type": "code",
      "source": [
        "my_file = open('laba_5.txt', 'r')\n",
        "print(my_file.read())"
      ],
      "metadata": {
        "colab": {
          "base_uri": "https://localhost:8080/"
        },
        "id": "YYZQVHwIkEqN",
        "outputId": "47edcfd7-6e97-4dd0-d706-9bbbc88c90b2"
      },
      "id": "YYZQVHwIkEqN",
      "execution_count": null,
      "outputs": [
        {
          "output_type": "stream",
          "name": "stdout",
          "text": [
            "TPUTomskNikitaYamkin\n"
          ]
        }
      ]
    }
  ],
  "metadata": {
    "kernelspec": {
      "display_name": "Python 3 (ipykernel)",
      "language": "python",
      "name": "python3"
    },
    "language_info": {
      "codemirror_mode": {
        "name": "ipython",
        "version": 3
      },
      "file_extension": ".py",
      "mimetype": "text/x-python",
      "name": "python",
      "nbconvert_exporter": "python",
      "pygments_lexer": "ipython3",
      "version": "3.9.7"
    },
    "colab": {
      "provenance": [],
      "collapsed_sections": [
        "71f62d85",
        "a2fd67d5",
        "855b7597",
        "3b9e54a0",
        "6b7eaa50"
      ]
    }
  },
  "nbformat": 4,
  "nbformat_minor": 5
}