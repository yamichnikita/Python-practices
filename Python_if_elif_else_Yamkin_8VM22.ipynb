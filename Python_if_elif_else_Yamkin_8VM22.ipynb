{
  "nbformat": 4,
  "nbformat_minor": 0,
  "metadata": {
    "colab": {
      "provenance": []
    },
    "kernelspec": {
      "name": "python3",
      "display_name": "Python 3"
    },
    "language_info": {
      "name": "python"
    }
  },
  "cells": [
    {
      "cell_type": "markdown",
      "source": [
        "The if-elif-else statement is used to conditionally execute a statement or a block of statements. Conditions can be true or false, execute one thing when the condition is true, something else when the condition is false."
      ],
      "metadata": {
        "id": "IMWjkIhKxz6D"
      }
    },
    {
      "cell_type": "markdown",
      "source": [
        "**if statement**"
      ],
      "metadata": {
        "id": "B1VJjVTwx8yw"
      }
    },
    {
      "cell_type": "markdown",
      "source": [
        "The Python if statement is same as it is with other programming languages. It executes a set of statements conditionally, based on the value of a logical expression.\n",
        "\n",
        "Here is the general form of a one way if statement."
      ],
      "metadata": {
        "id": "UOsjSUzwx_Nw"
      }
    },
    {
      "cell_type": "code",
      "source": [
        "if expression :\n",
        "    statement_1 \n",
        "    statement_2\n",
        "    ...."
      ],
      "metadata": {
        "id": "e5uc9__zx7es"
      },
      "execution_count": null,
      "outputs": []
    },
    {
      "cell_type": "markdown",
      "source": [
        "In the above case, expression specifies the conditions which are based on Boolean expression. When a Boolean expression is evaluated it produces either a value of true or false. If the expression evaluates true the same amount of indented statement(s) following if will be executed. This group of the statement(s) is called a block."
      ],
      "metadata": {
        "id": "dCqE--OwyjSV"
      }
    },
    {
      "cell_type": "markdown",
      "source": [
        "**if .. else statement**"
      ],
      "metadata": {
        "id": "MuQEvVCxyqB5"
      }
    },
    {
      "cell_type": "markdown",
      "source": [
        "In Python if .. else statement, if has two blocks, one following the expression and other following the else clause. Here is the syntax."
      ],
      "metadata": {
        "id": "rRusWOyxyssR"
      }
    },
    {
      "cell_type": "code",
      "source": [
        "if expression :\n",
        "    statement_1\n",
        "    statement_2\n",
        "    ....\n",
        "     else : \n",
        "   statement_3 \n",
        "   statement_4\n",
        "   ...."
      ],
      "metadata": {
        "id": "Sn7JFyGdyxeB"
      },
      "execution_count": null,
      "outputs": []
    },
    {
      "cell_type": "markdown",
      "source": [
        "In the above case if the expression evaluates to true the same amount of indented statements(s) following if will be executed and if the expression evaluates to false the same amount of indented statements(s) following else will be executed. See the following example. The program will print the second print statement as the value of a is 10."
      ],
      "metadata": {
        "id": "I14jTskCyzmR"
      }
    },
    {
      "cell_type": "code",
      "source": [
        "a=10\n",
        "if(a>10):\n",
        "    print(\"Value of a is greater than 10\")\n",
        "else :\n",
        "    print(\"Value of a is 10\")"
      ],
      "metadata": {
        "colab": {
          "base_uri": "https://localhost:8080/"
        },
        "id": "45X0qi7Py3sk",
        "outputId": "9d9d1893-d085-440e-eaf1-138ba7719c65"
      },
      "execution_count": 1,
      "outputs": [
        {
          "output_type": "stream",
          "name": "stdout",
          "text": [
            "Value of a is 10\n"
          ]
        }
      ]
    },
    {
      "cell_type": "markdown",
      "source": [
        "**if .. elif .. else statement**"
      ],
      "metadata": {
        "id": "xXpzFt9fzGfb"
      }
    },
    {
      "cell_type": "markdown",
      "source": [
        "Sometimes a situation arises when there are several conditions. To handle the situation Python allows adding any number of elif clause after an if and before an else clause. Here is the syntax."
      ],
      "metadata": {
        "id": "WtAkw1OTzJjK"
      }
    },
    {
      "cell_type": "code",
      "source": [
        "if expression1 :\n",
        "         statement_1\n",
        "         statement_2\n",
        "         ....   \n",
        "   \n",
        "     elif expression2 : \n",
        "     statement_3 \n",
        "     statement_4\n",
        "     ....     \n",
        "   elif expression3 : \n",
        "     statement_5 \n",
        "     statement_6\n",
        "     ....................    \n",
        "   else : \n",
        "     statement_7 \n",
        "     statement_8"
      ],
      "metadata": {
        "id": "P3tIZKRDzHyB"
      },
      "execution_count": null,
      "outputs": []
    },
    {
      "cell_type": "markdown",
      "source": [
        "In the above case Python evaluates each expression (i.e. the condition) one by one and if a true condition is found the statement(s) block under that expression will be executed. If no true condition is found the statement(s) block under else will be executed. In the following example, we have applied if, series of elif and else to get the type of a variable."
      ],
      "metadata": {
        "id": "RaqKbkwVzOkZ"
      }
    },
    {
      "cell_type": "code",
      "source": [
        "var1 = 1+2j\n",
        "if (type(var1) == int):\n",
        "    print(\"Type of the variable is Integer\")\n",
        "elif (type(var1) == float):\n",
        "    print(\"Type of the variable is Float\")\n",
        "elif (type(var1) == complex):\n",
        "    print(\"Type of the variable is Complex\")\n",
        "elif (type(var1) == bool):\n",
        "    print(\"Type of the variable is Bool\")\n",
        "elif (type(var1) == str):\n",
        "    print(\"Type of the variable is String\")\n",
        "elif (type(var1) == tuple):\n",
        "    print(\"Type of the variable is Tuple\")\n",
        "elif (type(var1) == dict):\n",
        "    print(\"Type of the variable is Dictionaries\")\n",
        "elif (type(var1) == list):\n",
        "    print(\"Type of the variable is List\")\n",
        "else:\n",
        "    print(\"Type of the variable is Unknown\")"
      ],
      "metadata": {
        "colab": {
          "base_uri": "https://localhost:8080/"
        },
        "id": "I5d8MIwBzVra",
        "outputId": "7f4a8bfa-526a-4fbb-b756-f2774b288613"
      },
      "execution_count": 2,
      "outputs": [
        {
          "output_type": "stream",
          "name": "stdout",
          "text": [
            "Type of the variable is Complex\n"
          ]
        }
      ]
    },
    {
      "cell_type": "markdown",
      "source": [
        "**Nested if .. else statement**"
      ],
      "metadata": {
        "id": "Z4iD2m0Bzdrq"
      }
    },
    {
      "cell_type": "markdown",
      "source": [
        "In general nested if-else statement is used when we want to check more than one conditions. Conditions are executed from top to bottom and check each condition whether it evaluates to true or not. If a true condition is found the statement(s) block associated with the condition executes otherwise it goes to next condition. Here is the syntax :"
      ],
      "metadata": {
        "id": "diiMwuIazgs4"
      }
    },
    {
      "cell_type": "code",
      "source": [
        "if expression1 :\n",
        "  if expression2 :\n",
        "    statement_3\n",
        "    statement_4\n",
        "     ....\n",
        "  else :\n",
        "    statement_5\n",
        "    statement_6\n",
        "      ....\n",
        "else:\n",
        "  statement_7\n",
        "  statement_8"
      ],
      "metadata": {
        "id": "_XlOlHmWznq0"
      },
      "execution_count": null,
      "outputs": []
    },
    {
      "cell_type": "markdown",
      "source": [
        "In the above syntax expression1 is checked first, if it evaluates to true then the program control goes to next if - else part otherwise it goes to the last else statement and executes statement_7, statement_8 etc.. Within the if - else if expression2 evaluates true then statement_3, statement_4 will execute otherwise statement_5, statement_6 will execute. See the following example."
      ],
      "metadata": {
        "id": "kwJXKT1y0kkK"
      }
    },
    {
      "cell_type": "code",
      "source": [
        "age = 38\n",
        "if (age >= 11):\n",
        "  print (\"You are eligible to see the Football match.\")\n",
        "  if (age <= 20 or age >= 60):\n",
        "      print(\"Ticket price is $12\")\n",
        "  else:\n",
        "      print(\"Tic kit price is $20\")\n",
        "else:\n",
        "    print (\"You're not eligible to buy a ticket.\")\n"
      ],
      "metadata": {
        "colab": {
          "base_uri": "https://localhost:8080/"
        },
        "id": "wA_VJa_J0qeB",
        "outputId": "8f1c4711-6a78-4846-fcda-fa7e36a27551"
      },
      "execution_count": 3,
      "outputs": [
        {
          "output_type": "stream",
          "name": "stdout",
          "text": [
            "You are eligible to see the Football match.\n",
            "Tic kit price is $20\n"
          ]
        }
      ]
    },
    {
      "cell_type": "markdown",
      "source": [
        "In the above example age is set to 38, therefore the first expression (age >= 11) evaluates to True and the associated print statement prints the string \"You are eligible to see the Football match\". There after program control goes to next if statement and the condition ( 38 is outside <=20 or >=60) is matched and prints \"Tic kit price is $12\"."
      ],
      "metadata": {
        "id": "91m3M7NI0uwC"
      }
    },
    {
      "cell_type": "markdown",
      "source": [
        "**Questions**"
      ],
      "metadata": {
        "id": "MS569daX1yii"
      }
    },
    {
      "cell_type": "markdown",
      "source": [
        "1)Name the keyword which helps in writing code involves condition."
      ],
      "metadata": {
        "id": "5wUkFToD3VZs"
      }
    },
    {
      "cell_type": "markdown",
      "source": [
        "2) Write the syntax of simple if statement."
      ],
      "metadata": {
        "id": "O8j_YtOS11Uo"
      }
    },
    {
      "cell_type": "markdown",
      "source": [
        "3)Is there any limit of statement that can appear under an if block?"
      ],
      "metadata": {
        "id": "K0rHcikX2uw-"
      }
    },
    {
      "cell_type": "markdown",
      "source": [
        "4)Write a program to check whether a number entered by user is even or odd."
      ],
      "metadata": {
        "id": "SPwr-E5x2-_Z"
      }
    },
    {
      "cell_type": "markdown",
      "source": [
        "5)Write a program to check whether a number is divisible by 7 or not."
      ],
      "metadata": {
        "id": "5wYnOGTY33IG"
      }
    }
  ]
}