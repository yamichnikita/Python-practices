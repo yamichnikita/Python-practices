{
  "cells": [
    {
      "cell_type": "markdown",
      "metadata": {
        "id": "zw55MUmv1t_p"
      },
      "source": [
        "**Prof. english. listening.**\n",
        "\n",
        "Lists.Tuples.Sets. https://www.youtube.com/watch?v=W8KRzm-HUcc&t=598s**"
      ]
    },
    {
      "cell_type": "code",
      "execution_count": null,
      "metadata": {
        "id": "1IlzC0F01t_t",
        "outputId": "0bcad66b-0305-4c01-f98e-9aaeca25500b"
      },
      "outputs": [
        {
          "data": {
            "text/plain": [
              "'13'"
            ]
          },
          "execution_count": 4,
          "metadata": {},
          "output_type": "execute_result"
        }
      ],
      "source": [
        "a = 13\n",
        "ascii(a)"
      ]
    },
    {
      "cell_type": "code",
      "execution_count": null,
      "metadata": {
        "id": "9QFH_2pF1t_v",
        "outputId": "49109baf-d843-4bfd-8a39-59481dadb002"
      },
      "outputs": [
        {
          "data": {
            "text/plain": [
              "\"'123'\""
            ]
          },
          "execution_count": 6,
          "metadata": {},
          "output_type": "execute_result"
        }
      ],
      "source": [
        "repr(\"123\")"
      ]
    },
    {
      "cell_type": "markdown",
      "metadata": {
        "id": "F-nWR3Xd1t_w"
      },
      "source": [
        "\n",
        "1.\tGive a definition to list, tuple and set.\n"
      ]
    },
    {
      "cell_type": "markdown",
      "source": [
        "Lists, tuples and sets are built-in data types in Python used to store multiple items in a single variable. \n",
        "\n",
        "List items are ordered, changeable, and allow duplicate values.\n",
        "\n",
        "Tuple items are ordered, unchangeable (we can't add or remove items), and allow duplicate values.\n",
        "\n",
        "A set is a collection which is unordered, unchangeable, and unindexed."
      ],
      "metadata": {
        "id": "n04AeNoD4Fes"
      }
    },
    {
      "cell_type": "code",
      "source": [
        "a = ['a', 12, 'dfsdf', 45.3]\n",
        "type(a)"
      ],
      "metadata": {
        "colab": {
          "base_uri": "https://localhost:8080/"
        },
        "id": "MyPkH27Y70Bb",
        "outputId": "e38ede49-3436-4a1b-fd93-43be009c0c00"
      },
      "execution_count": null,
      "outputs": [
        {
          "output_type": "execute_result",
          "data": {
            "text/plain": [
              "list"
            ]
          },
          "metadata": {},
          "execution_count": 2
        }
      ]
    },
    {
      "cell_type": "code",
      "execution_count": null,
      "metadata": {
        "colab": {
          "base_uri": "https://localhost:8080/"
        },
        "id": "n7zGGrj31t_w",
        "outputId": "6b7ca314-d5e3-4ede-95d6-aa7538808c0e"
      },
      "outputs": [
        {
          "output_type": "execute_result",
          "data": {
            "text/plain": [
              "tuple"
            ]
          },
          "metadata": {},
          "execution_count": 3
        }
      ],
      "source": [
        "a = ('a', 12, 'dfsdf', 45.3)\n",
        "type(a)"
      ]
    },
    {
      "cell_type": "code",
      "source": [
        "a = {'a', 12, 'dfsdf', 45.3}\n",
        "type(a)"
      ],
      "metadata": {
        "colab": {
          "base_uri": "https://localhost:8080/"
        },
        "id": "8Bi1hzud7-sE",
        "outputId": "265cdffe-8215-4901-a3af-bab7a243c5e9"
      },
      "execution_count": null,
      "outputs": [
        {
          "output_type": "execute_result",
          "data": {
            "text/plain": [
              "set"
            ]
          },
          "metadata": {},
          "execution_count": 4
        }
      ]
    },
    {
      "cell_type": "markdown",
      "metadata": {
        "id": "xSPW6Lsd1t_x"
      },
      "source": [
        "2.\tCreate a list of 10 student with a list of coursers for every student. \n"
      ]
    },
    {
      "cell_type": "code",
      "execution_count": 27,
      "metadata": {
        "id": "zsTmK2fQ1t_y"
      },
      "outputs": [],
      "source": [
        "students_and_courses = {\n",
        "                        'student1':['math','physics','chemistry'],\n",
        "                        'student2':['math','physics'],\n",
        "                        'student3':['math','physics','computer science'],\n",
        "                        'student4':['math','physics','music','russian'],\n",
        "                        'student5':['music','russian','history'],\n",
        "                        'student6':['computer science', 'english'],\n",
        "                        'student7':['russian', 'english','literature'],\n",
        "                        'student8':['geography', 'english','biology'],\n",
        "                        'student9':['computer science', 'math','biology', 'chemistry'],\n",
        "                        'student10':['history', 'english','literature', 'russian']\n",
        "                      } "
      ]
    },
    {
      "cell_type": "markdown",
      "metadata": {
        "id": "OVVhOc8e1t_z"
      },
      "source": [
        "3.\tCalculate number of subjects for every student.\n"
      ]
    },
    {
      "cell_type": "code",
      "execution_count": 28,
      "metadata": {
        "colab": {
          "base_uri": "https://localhost:8080/"
        },
        "id": "9tkCDDr_1t_z",
        "outputId": "68f22d61-c585-4ed0-c443-58da45c71aa6"
      },
      "outputs": [
        {
          "output_type": "stream",
          "name": "stdout",
          "text": [
            "A number of courses of the 1 student: 3\n",
            "A number of courses of the 2 student: 2\n",
            "A number of courses of the 3 student: 3\n",
            "A number of courses of the 4 student: 4\n",
            "A number of courses of the 5 student: 3\n",
            "A number of courses of the 6 student: 2\n",
            "A number of courses of the 7 student: 3\n",
            "A number of courses of the 8 student: 3\n",
            "A number of courses of the 9 student: 4\n",
            "A number of courses of the 10 student: 4\n"
          ]
        }
      ],
      "source": [
        "a = list(students_and_courses.values())\n",
        "for i in range(len(a)):\n",
        "  print('A number of courses of the %d student:' %(i+1), len(a[i]))"
      ]
    },
    {
      "cell_type": "markdown",
      "metadata": {
        "id": "KOuSgBz_1t_z"
      },
      "source": [
        "4.\tOutput the last subjects for every student.\n"
      ]
    },
    {
      "cell_type": "code",
      "execution_count": 29,
      "metadata": {
        "colab": {
          "base_uri": "https://localhost:8080/"
        },
        "id": "TlhvnL8N1t_0",
        "outputId": "e79f9fa7-ccdf-423d-9e2f-0f5cdabee3a6"
      },
      "outputs": [
        {
          "output_type": "stream",
          "name": "stdout",
          "text": [
            "A last course of the 1 student: chemistry\n",
            "A last course of the 2 student: physics\n",
            "A last course of the 3 student: computer science\n",
            "A last course of the 4 student: russian\n",
            "A last course of the 5 student: history\n",
            "A last course of the 6 student: english\n",
            "A last course of the 7 student: literature\n",
            "A last course of the 8 student: biology\n",
            "A last course of the 9 student: chemistry\n",
            "A last course of the 10 student: russian\n"
          ]
        }
      ],
      "source": [
        "for i in range(len(a)):\n",
        "  print('A last course of the %d student:' %(i+1), a[i][-1])"
      ]
    },
    {
      "cell_type": "markdown",
      "metadata": {
        "id": "5zT3aihD1t_0"
      },
      "source": [
        "5.\tOutput every second subject for every student.\n"
      ]
    },
    {
      "cell_type": "code",
      "execution_count": 39,
      "metadata": {
        "colab": {
          "base_uri": "https://localhost:8080/"
        },
        "id": "F9_Jh0Qr1t_1",
        "outputId": "e7436c9b-e454-47fe-cb86-55ab481c0081"
      },
      "outputs": [
        {
          "output_type": "stream",
          "name": "stdout",
          "text": [
            "The 1 student: Culture\n",
            "The 1 student: math\n",
            "The 2 student: physics\n",
            "The 3 student: Culture\n",
            "The 3 student: math\n",
            "The 4 student: music\n",
            "The 4 student: physics\n",
            "The 5 student: Culture\n",
            "The 5 student: music\n",
            "The 6 student: english\n",
            "The 7 student: Culture\n",
            "The 7 student: russian\n",
            "The 8 student: Culture\n",
            "The 8 student: geography\n",
            "The 9 student: biology\n",
            "The 9 student: math\n",
            "The 10 student: literature\n",
            "The 10 student: english\n"
          ]
        }
      ],
      "source": [
        "for i in range(len(a)):\n",
        "  for j in range(len(a[i])):\n",
        "    if (j != 0) and (j % 2 == 0):\n",
        "      print('The %d student:' %(i+1), a[i][j]) \n"
      ]
    },
    {
      "cell_type": "markdown",
      "metadata": {
        "id": "5XPUwoBt1t_1"
      },
      "source": [
        "6.\tInsert a subject ‘Culture’ to the 3rd place for every student.\n"
      ]
    },
    {
      "cell_type": "code",
      "execution_count": 31,
      "metadata": {
        "colab": {
          "base_uri": "https://localhost:8080/"
        },
        "id": "R3rLJOlN1t_2",
        "outputId": "2b38f542-a4ef-475f-f679-3630b27bd2fa"
      },
      "outputs": [
        {
          "output_type": "stream",
          "name": "stdout",
          "text": [
            "['math', 'physics', 'Culture', 'chemistry']\n",
            "['math', 'physics', 'Culture']\n",
            "['math', 'physics', 'Culture', 'computer science']\n",
            "['math', 'physics', 'Culture', 'music', 'russian']\n",
            "['music', 'russian', 'Culture', 'history']\n",
            "['computer science', 'english', 'Culture']\n",
            "['russian', 'english', 'Culture', 'literature']\n",
            "['geography', 'english', 'Culture', 'biology']\n",
            "['computer science', 'math', 'Culture', 'biology', 'chemistry']\n",
            "['history', 'english', 'Culture', 'literature', 'russian']\n"
          ]
        }
      ],
      "source": [
        "for i in range(len(a)):\n",
        "  a[i].insert(2,'Culture')\n",
        "  print(a[i])"
      ]
    },
    {
      "cell_type": "markdown",
      "metadata": {
        "id": "nTl2sYft1t_2"
      },
      "source": [
        "7.\tWhat is the difference between append, insert and extend functions?\n"
      ]
    },
    {
      "cell_type": "markdown",
      "source": [
        "The append() method appends an element to the end of the list.\n",
        "\n",
        "The insert() method inserts the specified value at the specified position.\n",
        "\n",
        "The extend() method adds the specified list elements to the end of the current list.\n"
      ],
      "metadata": {
        "id": "4_XRFvY3KzL9"
      }
    },
    {
      "cell_type": "markdown",
      "metadata": {
        "id": "vTv1RAh51t_3"
      },
      "source": [
        "8.\tInsert subjects ’Art’ and ’Sports’ for every student.\n"
      ]
    },
    {
      "cell_type": "code",
      "execution_count": 32,
      "metadata": {
        "id": "9owrSjyf1t_4",
        "colab": {
          "base_uri": "https://localhost:8080/"
        },
        "outputId": "e14f09ae-ba43-4cb0-851c-c2af888bb759"
      },
      "outputs": [
        {
          "output_type": "stream",
          "name": "stdout",
          "text": [
            "['math', 'physics', 'Culture', 'chemistry', 'Art', 'Sports']\n",
            "['math', 'physics', 'Culture', 'Art', 'Sports']\n",
            "['math', 'physics', 'Culture', 'computer science', 'Art', 'Sports']\n",
            "['math', 'physics', 'Culture', 'music', 'russian', 'Art', 'Sports']\n",
            "['music', 'russian', 'Culture', 'history', 'Art', 'Sports']\n",
            "['computer science', 'english', 'Culture', 'Art', 'Sports']\n",
            "['russian', 'english', 'Culture', 'literature', 'Art', 'Sports']\n",
            "['geography', 'english', 'Culture', 'biology', 'Art', 'Sports']\n",
            "['computer science', 'math', 'Culture', 'biology', 'chemistry', 'Art', 'Sports']\n",
            "['history', 'english', 'Culture', 'literature', 'russian', 'Art', 'Sports']\n"
          ]
        }
      ],
      "source": [
        "for i in range(len(a)):\n",
        "  a[i].extend(['Art','Sports'])\n",
        "  print(a[i])"
      ]
    },
    {
      "cell_type": "markdown",
      "metadata": {
        "id": "MVPnoSsA1t_4"
      },
      "source": [
        "9.\tRemove the last subject for every student.\n"
      ]
    },
    {
      "cell_type": "code",
      "execution_count": 33,
      "metadata": {
        "id": "m1WZ-P6L1t_4",
        "colab": {
          "base_uri": "https://localhost:8080/"
        },
        "outputId": "6bcaedf0-0ff2-46c0-c0aa-d6171a350c84"
      },
      "outputs": [
        {
          "output_type": "stream",
          "name": "stdout",
          "text": [
            "['math', 'physics', 'Culture', 'chemistry', 'Art']\n",
            "['math', 'physics', 'Culture', 'Art']\n",
            "['math', 'physics', 'Culture', 'computer science', 'Art']\n",
            "['math', 'physics', 'Culture', 'music', 'russian', 'Art']\n",
            "['music', 'russian', 'Culture', 'history', 'Art']\n",
            "['computer science', 'english', 'Culture', 'Art']\n",
            "['russian', 'english', 'Culture', 'literature', 'Art']\n",
            "['geography', 'english', 'Culture', 'biology', 'Art']\n",
            "['computer science', 'math', 'Culture', 'biology', 'chemistry', 'Art']\n",
            "['history', 'english', 'Culture', 'literature', 'russian', 'Art']\n"
          ]
        }
      ],
      "source": [
        "for i in range(len(a)):\n",
        "  a[i].pop(-1)\n",
        "  print(a[i])"
      ]
    },
    {
      "cell_type": "markdown",
      "metadata": {
        "id": "w0VyDcux1t_5"
      },
      "source": [
        "10.\tUsing a list of credits for different courses calculate number of credits for every student. (pop)\n"
      ]
    },
    {
      "cell_type": "code",
      "execution_count": 35,
      "metadata": {
        "id": "pXIw3sp91t_5"
      },
      "outputs": [],
      "source": [
        "credits = {\n",
        "             'math':5,\n",
        "             'physics':6,\n",
        "             'Culture':7,\n",
        "             'chemistry':8,\n",
        "             'Art':9,\n",
        "             'computer science':10,\n",
        "             'music':11,\n",
        "             'russian':12,\n",
        "             'history':13,\n",
        "             'english':14,\n",
        "             'literature':15,\n",
        "             'geography':16,\n",
        "             'biology':17\n",
        "          }"
      ]
    },
    {
      "cell_type": "code",
      "source": [
        "for i in range(len(a)):\n",
        "  s = 0\n",
        "  for j in a[i]:\n",
        "    s += credits[j]\n",
        "  print('The %d student credit sum:' %(i+1), s) "
      ],
      "metadata": {
        "colab": {
          "base_uri": "https://localhost:8080/"
        },
        "id": "H0ZZ9EPlWEgI",
        "outputId": "90d1dd53-e93e-485d-808c-ff0c3eca10e0"
      },
      "execution_count": 36,
      "outputs": [
        {
          "output_type": "stream",
          "name": "stdout",
          "text": [
            "The 1 student credit sum: 35\n",
            "The 2 student credit sum: 27\n",
            "The 3 student credit sum: 37\n",
            "The 4 student credit sum: 50\n",
            "The 5 student credit sum: 52\n",
            "The 6 student credit sum: 40\n",
            "The 7 student credit sum: 57\n",
            "The 8 student credit sum: 63\n",
            "The 9 student credit sum: 56\n",
            "The 10 student credit sum: 70\n"
          ]
        }
      ]
    },
    {
      "cell_type": "markdown",
      "metadata": {
        "id": "o3fFHCll1t_5"
      },
      "source": [
        "11.\tSort subjects for every student in reverse order\n"
      ]
    },
    {
      "cell_type": "code",
      "execution_count": 37,
      "metadata": {
        "id": "tW4zCsy21t_6",
        "colab": {
          "base_uri": "https://localhost:8080/"
        },
        "outputId": "e7674173-8b2d-4274-9742-804142a1c9f1"
      },
      "outputs": [
        {
          "output_type": "stream",
          "name": "stdout",
          "text": [
            "['Art', 'chemistry', 'Culture', 'physics', 'math']\n",
            "['Art', 'Culture', 'physics', 'math']\n",
            "['Art', 'computer science', 'Culture', 'physics', 'math']\n",
            "['Art', 'russian', 'music', 'Culture', 'physics', 'math']\n",
            "['Art', 'history', 'Culture', 'russian', 'music']\n",
            "['Art', 'Culture', 'english', 'computer science']\n",
            "['Art', 'literature', 'Culture', 'english', 'russian']\n",
            "['Art', 'biology', 'Culture', 'english', 'geography']\n",
            "['Art', 'chemistry', 'biology', 'Culture', 'math', 'computer science']\n",
            "['Art', 'russian', 'literature', 'Culture', 'english', 'history']\n"
          ]
        }
      ],
      "source": [
        "for i in range(len(a)):\n",
        "  a[i].reverse()\n",
        "  print(a[i])"
      ]
    },
    {
      "cell_type": "markdown",
      "metadata": {
        "id": "F3xpjCtL1t_6"
      },
      "source": [
        "12.\tPrint out the indexes of subject ‘CompSci’ for every student (if they have this subject)\n"
      ]
    },
    {
      "cell_type": "code",
      "execution_count": 44,
      "metadata": {
        "id": "i_N9mY7K1t_7",
        "colab": {
          "base_uri": "https://localhost:8080/"
        },
        "outputId": "3c45df18-26b2-4a3e-a9b5-1e4051abaa87"
      },
      "outputs": [
        {
          "output_type": "stream",
          "name": "stdout",
          "text": [
            "computer science is not in list of courses for this student\n",
            "computer science is not in list of courses for this student\n",
            "The 3 student computer science index : 1\n",
            "computer science is not in list of courses for this student\n",
            "computer science is not in list of courses for this student\n",
            "The 6 student computer science index : 3\n",
            "computer science is not in list of courses for this student\n",
            "computer science is not in list of courses for this student\n",
            "The 9 student computer science index : 5\n",
            "computer science is not in list of courses for this student\n"
          ]
        }
      ],
      "source": [
        "for i in range(len(a)):\n",
        "  try:\n",
        "    comp_sci_index = a[i].index('computer science')\n",
        "  except ValueError:\n",
        "    print('computer science is not in list of courses for this student')\n",
        "  else:\n",
        "    print('The %d student computer science index :' %(i+1), comp_sci_index) "
      ]
    },
    {
      "cell_type": "markdown",
      "metadata": {
        "id": "CN1sg87_1t_7"
      },
      "source": [
        "13.\tPrint courses with indexes for student №3 (indexes must start from 1)\n"
      ]
    },
    {
      "cell_type": "code",
      "execution_count": 46,
      "metadata": {
        "id": "ZrooUosR1t_8",
        "colab": {
          "base_uri": "https://localhost:8080/"
        },
        "outputId": "adb65ed4-20ab-4978-87f7-bb013d55ed3c"
      },
      "outputs": [
        {
          "output_type": "stream",
          "name": "stdout",
          "text": [
            "Course and index: Art 1\n",
            "Course and index: computer science 2\n",
            "Course and index: Culture 3\n",
            "Course and index: physics 4\n",
            "Course and index: math 5\n"
          ]
        }
      ],
      "source": [
        "for j in range(len(a[2])):\n",
        "  print('Course and index:', a[2][j], (a[2].index(a[2][j]) + 1))\n",
        "\n"
      ]
    },
    {
      "cell_type": "markdown",
      "metadata": {
        "id": "BZtdlnid1t_8"
      },
      "source": [
        "**14**.\tWhat is the main difference between tuples and lists? In which cases is better to use tuples?\n"
      ]
    },
    {
      "cell_type": "markdown",
      "source": [
        "Similar to lists are tuples - essentially they are the same, except that a tuple cannot be modified once created. This can be useful for values that don’t change, like the alphabet for example."
      ],
      "metadata": {
        "id": "ALngE0A_p5d5"
      }
    },
    {
      "cell_type": "markdown",
      "metadata": {
        "id": "3tnCy9z-1t_8"
      },
      "source": [
        "15.\tCreate two sets. First set contains subjects of first 5 students, the second one – of last 5 students. Print out the number of subjects in created sets. \n"
      ]
    },
    {
      "cell_type": "code",
      "execution_count": 52,
      "metadata": {
        "id": "NuD5P01w1t_9",
        "colab": {
          "base_uri": "https://localhost:8080/"
        },
        "outputId": "4f43d87f-8394-4df5-da89-dd84c8d973c5"
      },
      "outputs": [
        {
          "output_type": "execute_result",
          "data": {
            "text/plain": [
              "{'Art',\n",
              " 'Culture',\n",
              " 'chemistry',\n",
              " 'computer science',\n",
              " 'history',\n",
              " 'math',\n",
              " 'music',\n",
              " 'physics',\n",
              " 'russian'}"
            ]
          },
          "metadata": {},
          "execution_count": 52
        }
      ],
      "source": [
        "list_1 = []\n",
        "list_2 = []\n",
        "for i in range(len(a[:5])):\n",
        "  list_1.extend(a[i])\n",
        "\n",
        "\n",
        "for i in range(len(a[5:])):\n",
        "  list_2.extend(a[i])\n",
        "\n",
        "set_1 = set(list_1)\n",
        "set_2 = set(list_2)\n",
        "\n",
        "set_1"
      ]
    },
    {
      "cell_type": "markdown",
      "metadata": {
        "id": "r6u7e4UW1t_9"
      },
      "source": [
        "16.\tShow the intersection and difference of 2 created sets. \n"
      ]
    },
    {
      "cell_type": "code",
      "execution_count": 54,
      "metadata": {
        "id": "X1bIfCfN1t_9",
        "colab": {
          "base_uri": "https://localhost:8080/"
        },
        "outputId": "3850e581-4817-4cf8-e183-4c9bde534c47"
      },
      "outputs": [
        {
          "output_type": "execute_result",
          "data": {
            "text/plain": [
              "{'Art',\n",
              " 'Culture',\n",
              " 'chemistry',\n",
              " 'computer science',\n",
              " 'history',\n",
              " 'math',\n",
              " 'music',\n",
              " 'physics',\n",
              " 'russian'}"
            ]
          },
          "metadata": {},
          "execution_count": 54
        }
      ],
      "source": [
        "set_1 & set_2"
      ]
    },
    {
      "cell_type": "code",
      "source": [
        "set_1 - set_2"
      ],
      "metadata": {
        "colab": {
          "base_uri": "https://localhost:8080/"
        },
        "id": "LjXll8yJ1brt",
        "outputId": "a42ce6ea-3dba-424f-83b0-28040ca0ea4c"
      },
      "execution_count": 55,
      "outputs": [
        {
          "output_type": "execute_result",
          "data": {
            "text/plain": [
              "set()"
            ]
          },
          "metadata": {},
          "execution_count": 55
        }
      ]
    },
    {
      "cell_type": "markdown",
      "metadata": {
        "id": "f3YPksL11t_9"
      },
      "source": [
        "17.\tUnify 2 sets.\n"
      ]
    },
    {
      "cell_type": "code",
      "execution_count": 56,
      "metadata": {
        "id": "SeF4wqRJ1t_-",
        "colab": {
          "base_uri": "https://localhost:8080/"
        },
        "outputId": "2f64a00a-6f60-4eeb-91df-dd0a09762bc2"
      },
      "outputs": [
        {
          "output_type": "execute_result",
          "data": {
            "text/plain": [
              "{'Art',\n",
              " 'Culture',\n",
              " 'chemistry',\n",
              " 'computer science',\n",
              " 'history',\n",
              " 'math',\n",
              " 'music',\n",
              " 'physics',\n",
              " 'russian'}"
            ]
          },
          "metadata": {},
          "execution_count": 56
        }
      ],
      "source": [
        "set_1 | set_2"
      ]
    },
    {
      "cell_type": "markdown",
      "metadata": {
        "id": "kjw0H9yW1t_-"
      },
      "source": [
        "18.\tCreate empty list, tuple and set."
      ]
    },
    {
      "cell_type": "code",
      "execution_count": 57,
      "metadata": {
        "id": "abwLzioQ1t_-"
      },
      "outputs": [],
      "source": [
        "a = []\n",
        "b = ()\n",
        "c = {}"
      ]
    }
  ],
  "metadata": {
    "kernelspec": {
      "display_name": "Python 3 (ipykernel)",
      "language": "python",
      "name": "python3"
    },
    "language_info": {
      "codemirror_mode": {
        "name": "ipython",
        "version": 3
      },
      "file_extension": ".py",
      "mimetype": "text/x-python",
      "name": "python",
      "nbconvert_exporter": "python",
      "pygments_lexer": "ipython3",
      "version": "3.9.7"
    },
    "colab": {
      "provenance": []
    }
  },
  "nbformat": 4,
  "nbformat_minor": 0
}